{
 "cells": [
  {
   "cell_type": "markdown",
   "metadata": {},
   "source": [
    "# Natural Language processing for Customer reviews for Hotels\n",
    "## Trip Advisor Location: British Columbia \n",
    "## City Code: 154922\n",
    "Project Scope: Review positive and negative reviews and attribute them to specific reasons for the reviews to better understand the nature of the hotel and the reason for sentiment. "
   ]
  },
  {
   "cell_type": "code",
   "execution_count": 1,
   "metadata": {},
   "outputs": [
    {
     "name": "stdout",
     "output_type": "stream",
     "text": [
      "3.7.3 (default, Mar 27 2019, 16:54:48) \n",
      "[Clang 4.0.1 (tags/RELEASE_401/final)]\n"
     ]
    }
   ],
   "source": [
    "import sys\n",
    "print(sys.version)"
   ]
  },
  {
   "cell_type": "code",
   "execution_count": 88,
   "metadata": {
    "scrolled": true
   },
   "outputs": [
    {
     "name": "stdout",
     "output_type": "stream",
     "text": [
      "\u001b[33mDEPRECATION: Python 2.7 will reach the end of its life on January 1st, 2020. Please upgrade your Python as Python 2.7 won't be maintained after that date. A future version of pip will drop support for Python 2.7. More details about Python 2 support in pip, can be found at https://pip.pypa.io/en/latest/development/release-process/#python-2-support\u001b[0m\n",
      "Collecting plotly\n",
      "\u001b[?25l  Downloading https://files.pythonhosted.org/packages/4e/ea/da824c4b016629ea21c667bcc7999359d08e4bc5a06aeee31c61a3785573/plotly-4.8.0-py2.py3-none-any.whl (11.5MB)\n",
      "\u001b[K     |████████████████████████████████| 11.5MB 3.0MB/s eta 0:00:01\n",
      "\u001b[?25hCollecting retrying>=1.3.3 (from plotly)\n",
      "  Using cached https://files.pythonhosted.org/packages/44/ef/beae4b4ef80902f22e3af073397f079c96969c69b2c7d52a57ea9ae61c9d/retrying-1.3.3.tar.gz\n",
      "Requirement already satisfied: six in /Users/krutheekarajkumar/Library/Python/2.7/lib/python/site-packages (from plotly) (1.12.0)\n",
      "Building wheels for collected packages: retrying\n",
      "  Building wheel for retrying (setup.py) ... \u001b[?25ldone\n",
      "\u001b[?25h  Created wheel for retrying: filename=retrying-1.3.3-cp27-none-any.whl size=11430 sha256=958cac84c2da87f594f72aedf6fcbe341f1f0186d054f1ccbf024c78f6787abb\n",
      "  Stored in directory: /Users/krutheekarajkumar/Library/Caches/pip/wheels/d7/a9/33/acc7b709e2a35caa7d4cae442f6fe6fbf2c43f80823d46460c\n",
      "Successfully built retrying\n",
      "Installing collected packages: retrying, plotly\n",
      "\u001b[31mERROR: Could not install packages due to an EnvironmentError: [Errno 13] Permission denied: '/Library/Python/2.7/site-packages/retrying.py'\n",
      "Consider using the `--user` option or check the permissions.\n",
      "\u001b[0m\n"
     ]
    }
   ],
   "source": [
    "!pip install plotly"
   ]
  },
  {
   "cell_type": "code",
   "execution_count": 91,
   "metadata": {},
   "outputs": [
    {
     "name": "stderr",
     "output_type": "stream",
     "text": [
      "[nltk_data] Downloading package vader_lexicon to\n",
      "[nltk_data]     /Users/krutheekarajkumar/nltk_data...\n",
      "[nltk_data]   Package vader_lexicon is already up-to-date!\n",
      "[nltk_data] Downloading package stopwords to\n",
      "[nltk_data]     /Users/krutheekarajkumar/nltk_data...\n",
      "[nltk_data]   Package stopwords is already up-to-date!\n",
      "[nltk_data] Downloading package averaged_perceptron_tagger to\n",
      "[nltk_data]     /Users/krutheekarajkumar/nltk_data...\n",
      "[nltk_data]   Package averaged_perceptron_tagger is already up-to-\n",
      "[nltk_data]       date!\n",
      "[nltk_data] Downloading package wordnet to\n",
      "[nltk_data]     /Users/krutheekarajkumar/nltk_data...\n",
      "[nltk_data]   Package wordnet is already up-to-date!\n"
     ]
    }
   ],
   "source": [
    "#Plot\n",
    "import matplotlib.pyplot as plt\n",
    "import seaborn as sns\n",
    "import plotly.graph_objs as go\n",
    "%matplotlib inline\n",
    "\n",
    "#Data Packages\n",
    "import math\n",
    "import pandas as pd\n",
    "import numpy as np\n",
    "import itertools\n",
    "\n",
    "#Progress bar\n",
    "from tqdm import tqdm\n",
    "\n",
    "#Counter\n",
    "from collections import Counter\n",
    "\n",
    "#Operation\n",
    "import operator\n",
    "import csv\n",
    "\n",
    "#Natural Language Processing Packages\n",
    "import re\n",
    "import nltk\n",
    "\n",
    "\n",
    "## Download Resources\n",
    "nltk.download(\"vader_lexicon\")\n",
    "nltk.download(\"stopwords\")\n",
    "nltk.download(\"averaged_perceptron_tagger\")\n",
    "nltk.download(\"wordnet\")\n",
    "\n",
    "from nltk.sentiment import SentimentAnalyzer\n",
    "from nltk.sentiment.vader import SentimentIntensityAnalyzer\n",
    "from nltk.sentiment.util import *\n",
    "from nltk import tokenize\n",
    "from nltk.corpus import stopwords\n",
    "from nltk.tag import PerceptronTagger\n",
    "from nltk.data import find\n",
    "\n",
    "## Machine Learning\n",
    "import sklearn\n",
    "import sklearn.metrics as metrics"
   ]
  },
  {
   "cell_type": "markdown",
   "metadata": {},
   "source": [
    "### Computing the average Vader sentiment and the average groun truth rating per hotel. \n",
    "NLTK sentiment analysis package (vader) used in conjecture with NLTK library. NLTK libraries allow for tokenization, parsing, classification, tagging. The library is primarily written in Python and therefore is easier to implement into this project. "
   ]
  },
  {
   "cell_type": "code",
   "execution_count": 3,
   "metadata": {},
   "outputs": [],
   "source": [
    "file = \"reviews2.csv\""
   ]
  },
  {
   "cell_type": "code",
   "execution_count": 4,
   "metadata": {},
   "outputs": [],
   "source": [
    "with open(file, 'r',encoding='ascii') as f:\n",
    "    reader = csv.reader(f)\n",
    "    review = list(reader)"
   ]
  },
  {
   "cell_type": "code",
   "execution_count": 5,
   "metadata": {},
   "outputs": [
    {
     "name": "stdout",
     "output_type": "stream",
     "text": [
      "Number of reviews:  4059\n"
     ]
    }
   ],
   "source": [
    "reviews_df = pd.read_csv(file, names=['Link', 'Hotel_Name', 'Review text', 'Ratings', 'Experience'], delimiter=',')\n",
    "reviewlist = []\n",
    "hotellist = []\n",
    "\n",
    "for index,review in enumerate(reviews_df['Review text']):\n",
    "    reviewlist.append(re.sub(r'&\\w+;','',review))\n",
    "     \n",
    "for hotel in reviews_df['Hotel_Name']:\n",
    "    hotellist.append(re.sub(r'&.*;','',hotel))\n",
    "    \n",
    "\n",
    "reviews_df['Review text'] = reviewlist\n",
    "reviews_df['Hotel_Name'] = hotellist\n",
    "#reviews_df.columns('Link','Hotel Name','Review text','Ratings','Experience')\n",
    "print(\"Number of reviews: \",reviews_df.shape[0])\n",
    "      "
   ]
  },
  {
   "cell_type": "code",
   "execution_count": 6,
   "metadata": {},
   "outputs": [
    {
     "name": "stdout",
     "output_type": "stream",
     "text": [
      "Number of hotels being reviewed:  78\n"
     ]
    }
   ],
   "source": [
    "x = reviews_df['Hotel_Name'].unique()\n",
    "print(\"Number of hotels being reviewed: \", len(x))"
   ]
  },
  {
   "cell_type": "markdown",
   "metadata": {},
   "source": [
    "<b> Function evalSentences: </b>Each of the Reviews were given three scores based on how positive, neutral or negative they were, these were compounded using the NLTK's polarity function. The values were then written into a dataframe which included the text of the review as well as the score associate with it for further analysis.<br>\n",
    "The sentences are iterated through to and checked against the SentiText lexicon rule-based sentiment_valence funtion to assign a valance score to the sentiment. The sum of the computed valance scored are then passed to "
   ]
  },
  {
   "cell_type": "code",
   "execution_count": 7,
   "metadata": {},
   "outputs": [],
   "source": [
    "def evalSentences(sentences, to_df=False):\n",
    "    #Instantiate an instance to access SentimentIntensityAnalyzer class\n",
    "    sid = SentimentIntensityAnalyzer()\n",
    "    pdlist = []\n",
    "    if to_df:\n",
    "        for sentence in sentences:\n",
    "            ss = sid.polarity_scores(sentence)\n",
    "            pdlist.append([sentence]+[ss['compound']])\n",
    "        reviewDf = pd.DataFrame(pdlist)\n",
    "        reviewDf.columns = [\"Review\", \"Compound_Score\"]\n",
    "        return reviewDf\n",
    "    \n",
    "    else:\n",
    "        for sentence in sentences:\n",
    "            ss = sid.polarity_scores(sentence)\n",
    "            pdlist.append([sentence]+[ss['compound']]+\n",
    "                         [ss['pos']]+[ss['neg']]+[ss['neu']])    \n",
    "        reviewDfall = pd.DataFrame(pdlist)\n",
    "        reviewDfall.columns = [\"Review\", \"Compound_Score\", \"Positive\", \n",
    "                           \"Negative\", \"Neutral\"]\n",
    "        return reviewDfall"
   ]
  },
  {
   "cell_type": "code",
   "execution_count": 8,
   "metadata": {
    "scrolled": true
   },
   "outputs": [],
   "source": [
    "all_vader_sentiment_scores_DF= evalSentences(reviews_df['Review text'])\n",
    "all_vader_sentiment_scores_DF[:5]\n",
    "compound_vader_sentiment_scores_DF = evalSentences(reviews_df['Review text'].values, to_df=True)"
   ]
  },
  {
   "cell_type": "code",
   "execution_count": 9,
   "metadata": {},
   "outputs": [],
   "source": [
    "compound_vader_sentiment_scores_DF = pd.concat([compound_vader_sentiment_scores_DF, reviews_df[\"Experience\"]], axis=1)\n",
    "review_vader_exp_name_DF = pd.concat([compound_vader_sentiment_scores_DF, reviews_df['Hotel_Name']], axis=1)"
   ]
  },
  {
   "cell_type": "code",
   "execution_count": 10,
   "metadata": {
    "scrolled": true
   },
   "outputs": [
    {
     "data": {
      "text/html": [
       "<div>\n",
       "<style scoped>\n",
       "    .dataframe tbody tr th:only-of-type {\n",
       "        vertical-align: middle;\n",
       "    }\n",
       "\n",
       "    .dataframe tbody tr th {\n",
       "        vertical-align: top;\n",
       "    }\n",
       "\n",
       "    .dataframe thead th {\n",
       "        text-align: right;\n",
       "    }\n",
       "</style>\n",
       "<table border=\"1\" class=\"dataframe\">\n",
       "  <thead>\n",
       "    <tr style=\"text-align: right;\">\n",
       "      <th></th>\n",
       "      <th>Review</th>\n",
       "      <th>Compound_Score</th>\n",
       "      <th>Experience</th>\n",
       "      <th>Hotel_Name</th>\n",
       "    </tr>\n",
       "  </thead>\n",
       "  <tbody>\n",
       "    <tr>\n",
       "      <th>0</th>\n",
       "      <td>\"I was looking for a place to sit and chill fo...</td>\n",
       "      <td>0.8442</td>\n",
       "      <td>positive</td>\n",
       "      <td>The Riding Fool Hostel</td>\n",
       "    </tr>\n",
       "    <tr>\n",
       "      <th>1</th>\n",
       "      <td>\"I stayed at the Riding Fool Hostel whilst I w...</td>\n",
       "      <td>0.9965</td>\n",
       "      <td>positive</td>\n",
       "      <td>The Riding Fool Hostel</td>\n",
       "    </tr>\n",
       "    <tr>\n",
       "      <th>2</th>\n",
       "      <td>\"My husband and I (both in our 50\\\\'s) stayed ...</td>\n",
       "      <td>0.9757</td>\n",
       "      <td>positive</td>\n",
       "      <td>The Riding Fool Hostel</td>\n",
       "    </tr>\n",
       "    <tr>\n",
       "      <th>3</th>\n",
       "      <td>\"We were warmly  welcomed by Caitlin, the new ...</td>\n",
       "      <td>0.9766</td>\n",
       "      <td>positive</td>\n",
       "      <td>The Riding Fool Hostel</td>\n",
       "    </tr>\n",
       "    <tr>\n",
       "      <th>4</th>\n",
       "      <td>\"Comfortable, cheap, and cosy accommodation wi...</td>\n",
       "      <td>0.4939</td>\n",
       "      <td>positive</td>\n",
       "      <td>The Riding Fool Hostel</td>\n",
       "    </tr>\n",
       "    <tr>\n",
       "      <th>5</th>\n",
       "      <td>\"This is a fun place to stay in a friendly lit...</td>\n",
       "      <td>0.9842</td>\n",
       "      <td>positive</td>\n",
       "      <td>The Riding Fool Hostel</td>\n",
       "    </tr>\n",
       "    <tr>\n",
       "      <th>6</th>\n",
       "      <td>\"My wife and I stayed here for 4 nights to rid...</td>\n",
       "      <td>0.9370</td>\n",
       "      <td>positive</td>\n",
       "      <td>The Riding Fool Hostel</td>\n",
       "    </tr>\n",
       "    <tr>\n",
       "      <th>7</th>\n",
       "      <td>\"When compared to other hostels on the west co...</td>\n",
       "      <td>0.9692</td>\n",
       "      <td>positive</td>\n",
       "      <td>The Riding Fool Hostel</td>\n",
       "    </tr>\n",
       "    <tr>\n",
       "      <th>8</th>\n",
       "      <td>\"This place is amazing. Lovely old historic bu...</td>\n",
       "      <td>0.9960</td>\n",
       "      <td>positive</td>\n",
       "      <td>The Riding Fool Hostel</td>\n",
       "    </tr>\n",
       "    <tr>\n",
       "      <th>9</th>\n",
       "      <td>\"I loved my time here. The hostel has a great ...</td>\n",
       "      <td>0.9565</td>\n",
       "      <td>positive</td>\n",
       "      <td>The Riding Fool Hostel</td>\n",
       "    </tr>\n",
       "  </tbody>\n",
       "</table>\n",
       "</div>"
      ],
      "text/plain": [
       "                                              Review  Compound_Score  \\\n",
       "0  \"I was looking for a place to sit and chill fo...          0.8442   \n",
       "1  \"I stayed at the Riding Fool Hostel whilst I w...          0.9965   \n",
       "2  \"My husband and I (both in our 50\\\\'s) stayed ...          0.9757   \n",
       "3  \"We were warmly  welcomed by Caitlin, the new ...          0.9766   \n",
       "4  \"Comfortable, cheap, and cosy accommodation wi...          0.4939   \n",
       "5  \"This is a fun place to stay in a friendly lit...          0.9842   \n",
       "6  \"My wife and I stayed here for 4 nights to rid...          0.9370   \n",
       "7  \"When compared to other hostels on the west co...          0.9692   \n",
       "8  \"This place is amazing. Lovely old historic bu...          0.9960   \n",
       "9  \"I loved my time here. The hostel has a great ...          0.9565   \n",
       "\n",
       "  Experience              Hotel_Name  \n",
       "0   positive  The Riding Fool Hostel  \n",
       "1   positive  The Riding Fool Hostel  \n",
       "2   positive  The Riding Fool Hostel  \n",
       "3   positive  The Riding Fool Hostel  \n",
       "4   positive  The Riding Fool Hostel  \n",
       "5   positive  The Riding Fool Hostel  \n",
       "6   positive  The Riding Fool Hostel  \n",
       "7   positive  The Riding Fool Hostel  \n",
       "8   positive  The Riding Fool Hostel  \n",
       "9   positive  The Riding Fool Hostel  "
      ]
     },
     "execution_count": 10,
     "metadata": {},
     "output_type": "execute_result"
    }
   ],
   "source": [
    "#reviewDF[reviewDF['Hotel_Name'] == 'Stansbury&#39;s Guest House']\n",
    "review_vader_exp_name_DF [:10]"
   ]
  },
  {
   "cell_type": "markdown",
   "metadata": {},
   "source": [
    "<b> Statistics based on binary feedback: </b> All the reviews have an experience column that is binary (positive or negative), assigning a numeric value (in this case 0 and 1) will give a higher level understanding of the performances of hotels in that region as a whole."
   ]
  },
  {
   "cell_type": "code",
   "execution_count": 11,
   "metadata": {},
   "outputs": [],
   "source": [
    "exp = review_vader_exp_name_DF['Experience']\n",
    "exp_list = []\n",
    "for e in exp:\n",
    "    if e == 'positive':\n",
    "        exp_list.append(1)\n",
    "    else:\n",
    "        exp_list.append(0)"
   ]
  },
  {
   "cell_type": "code",
   "execution_count": 12,
   "metadata": {},
   "outputs": [
    {
     "data": {
      "text/html": [
       "<div>\n",
       "<style scoped>\n",
       "    .dataframe tbody tr th:only-of-type {\n",
       "        vertical-align: middle;\n",
       "    }\n",
       "\n",
       "    .dataframe tbody tr th {\n",
       "        vertical-align: top;\n",
       "    }\n",
       "\n",
       "    .dataframe thead th {\n",
       "        text-align: right;\n",
       "    }\n",
       "</style>\n",
       "<table border=\"1\" class=\"dataframe\">\n",
       "  <thead>\n",
       "    <tr style=\"text-align: right;\">\n",
       "      <th></th>\n",
       "      <th>Review</th>\n",
       "      <th>Compound_Score</th>\n",
       "      <th>Experience</th>\n",
       "      <th>Hotel_Name</th>\n",
       "      <th>Exp_Index</th>\n",
       "    </tr>\n",
       "  </thead>\n",
       "  <tbody>\n",
       "    <tr>\n",
       "      <th>0</th>\n",
       "      <td>\"I was looking for a place to sit and chill fo...</td>\n",
       "      <td>0.8442</td>\n",
       "      <td>positive</td>\n",
       "      <td>The Riding Fool Hostel</td>\n",
       "      <td>1</td>\n",
       "    </tr>\n",
       "    <tr>\n",
       "      <th>1</th>\n",
       "      <td>\"I stayed at the Riding Fool Hostel whilst I w...</td>\n",
       "      <td>0.9965</td>\n",
       "      <td>positive</td>\n",
       "      <td>The Riding Fool Hostel</td>\n",
       "      <td>1</td>\n",
       "    </tr>\n",
       "    <tr>\n",
       "      <th>2</th>\n",
       "      <td>\"My husband and I (both in our 50\\\\'s) stayed ...</td>\n",
       "      <td>0.9757</td>\n",
       "      <td>positive</td>\n",
       "      <td>The Riding Fool Hostel</td>\n",
       "      <td>1</td>\n",
       "    </tr>\n",
       "    <tr>\n",
       "      <th>3</th>\n",
       "      <td>\"We were warmly  welcomed by Caitlin, the new ...</td>\n",
       "      <td>0.9766</td>\n",
       "      <td>positive</td>\n",
       "      <td>The Riding Fool Hostel</td>\n",
       "      <td>1</td>\n",
       "    </tr>\n",
       "    <tr>\n",
       "      <th>4</th>\n",
       "      <td>\"Comfortable, cheap, and cosy accommodation wi...</td>\n",
       "      <td>0.4939</td>\n",
       "      <td>positive</td>\n",
       "      <td>The Riding Fool Hostel</td>\n",
       "      <td>1</td>\n",
       "    </tr>\n",
       "  </tbody>\n",
       "</table>\n",
       "</div>"
      ],
      "text/plain": [
       "                                              Review  Compound_Score  \\\n",
       "0  \"I was looking for a place to sit and chill fo...          0.8442   \n",
       "1  \"I stayed at the Riding Fool Hostel whilst I w...          0.9965   \n",
       "2  \"My husband and I (both in our 50\\\\'s) stayed ...          0.9757   \n",
       "3  \"We were warmly  welcomed by Caitlin, the new ...          0.9766   \n",
       "4  \"Comfortable, cheap, and cosy accommodation wi...          0.4939   \n",
       "\n",
       "  Experience              Hotel_Name  Exp_Index  \n",
       "0   positive  The Riding Fool Hostel          1  \n",
       "1   positive  The Riding Fool Hostel          1  \n",
       "2   positive  The Riding Fool Hostel          1  \n",
       "3   positive  The Riding Fool Hostel          1  \n",
       "4   positive  The Riding Fool Hostel          1  "
      ]
     },
     "execution_count": 12,
     "metadata": {},
     "output_type": "execute_result"
    }
   ],
   "source": [
    "exp_df = pd.DataFrame(exp_list,columns=['Exp_Index'])\n",
    "compound_vader_sentiment_scores_DF = pd.concat([review_vader_exp_name_DF, exp_df], axis=1)\n",
    "compound_vader_sentiment_scores_DF.head()"
   ]
  },
  {
   "cell_type": "code",
   "execution_count": 13,
   "metadata": {
    "scrolled": false
   },
   "outputs": [
    {
     "name": "stdout",
     "output_type": "stream",
     "text": [
      "Over all statistics of all hotel performances:\n",
      "       Compound_Score  Exp_Index\n",
      "count       78.000000  78.000000\n",
      "mean         0.780611   0.773392\n",
      "std          0.203293   0.240042\n",
      "min          0.205180   0.243902\n",
      "25%          0.745953   0.587500\n",
      "50%          0.852464   0.862374\n",
      "75%          0.924740   1.000000\n",
      "max          0.973600   1.000000\n",
      "__________________________________\n",
      "The average vader rating grouped by hotel is: \n",
      "                     Compound_Score  Exp_Index\n",
      "Hotel_Name                                    \n",
      "A-1 Alberni Inn            0.447724   0.523810\n",
      "AB                         0.973600   1.000000\n",
      "Abbotsford Hotel           0.225563   0.359375\n",
      "Arbutus Grove Motel        0.897408   0.938144\n",
      "Artful Retreat BB          0.888300   1.000000\n",
      "__________________________________\n",
      "The number of reviews grouped by hotels are: \n",
      "Hotel_Name\n",
      "A-1 Alberni Inn        21\n",
      "AB                     19\n",
      "Abbotsford Hotel       64\n",
      "Arbutus Grove Motel    97\n",
      "Artful Retreat BB       1\n",
      "Name: Review, dtype: int64\n"
     ]
    }
   ],
   "source": [
    "# Grouping by hotel name to understand the average review of each of the hotel and the number of reviews for them\n",
    "# The \"reviewCol\" column is used to denote the number of reviews for each of the hotels\n",
    "hotel_performance = compound_vader_sentiment_scores_DF.groupby('Hotel_Name').mean()\n",
    "count = compound_vader_sentiment_scores_DF.groupby('Hotel_Name').count()\n",
    "\n",
    "print(\"Over all statistics of all hotel performances:\")\n",
    "print(hotel_performance.describe())\n",
    "print(\"__________________________________\")\n",
    "print(\"The average vader rating grouped by hotel is: \")\n",
    "print(hotel_performance.head())\n",
    "print(\"__________________________________\")\n",
    "print(\"The number of reviews grouped by hotels are: \")\n",
    "print(count['Review'].head())\n",
    "\n"
   ]
  },
  {
   "cell_type": "markdown",
   "metadata": {},
   "source": [
    "<b>Note: </b>\n",
    "exp_index is based on the binary review of each hotel and compound score based on the score that was retrieved by the NLTK sentimentAnalyzer function. "
   ]
  },
  {
   "cell_type": "code",
   "execution_count": 14,
   "metadata": {
    "scrolled": true
   },
   "outputs": [
    {
     "data": {
      "text/html": [
       "<div>\n",
       "<style scoped>\n",
       "    .dataframe tbody tr th:only-of-type {\n",
       "        vertical-align: middle;\n",
       "    }\n",
       "\n",
       "    .dataframe tbody tr th {\n",
       "        vertical-align: top;\n",
       "    }\n",
       "\n",
       "    .dataframe thead th {\n",
       "        text-align: right;\n",
       "    }\n",
       "</style>\n",
       "<table border=\"1\" class=\"dataframe\">\n",
       "  <thead>\n",
       "    <tr style=\"text-align: right;\">\n",
       "      <th></th>\n",
       "      <th>Compound_Score</th>\n",
       "      <th>Exp_Index</th>\n",
       "      <th>Number_Of_Reviews</th>\n",
       "    </tr>\n",
       "    <tr>\n",
       "      <th>Hotel_Name</th>\n",
       "      <th></th>\n",
       "      <th></th>\n",
       "      <th></th>\n",
       "    </tr>\n",
       "  </thead>\n",
       "  <tbody>\n",
       "    <tr>\n",
       "      <th>A-1 Alberni Inn</th>\n",
       "      <td>0.447724</td>\n",
       "      <td>0.523810</td>\n",
       "      <td>21</td>\n",
       "    </tr>\n",
       "    <tr>\n",
       "      <th>AB</th>\n",
       "      <td>0.973600</td>\n",
       "      <td>1.000000</td>\n",
       "      <td>19</td>\n",
       "    </tr>\n",
       "    <tr>\n",
       "      <th>Abbotsford Hotel</th>\n",
       "      <td>0.225563</td>\n",
       "      <td>0.359375</td>\n",
       "      <td>64</td>\n",
       "    </tr>\n",
       "    <tr>\n",
       "      <th>Arbutus Grove Motel</th>\n",
       "      <td>0.897408</td>\n",
       "      <td>0.938144</td>\n",
       "      <td>97</td>\n",
       "    </tr>\n",
       "    <tr>\n",
       "      <th>Artful Retreat BB</th>\n",
       "      <td>0.888300</td>\n",
       "      <td>1.000000</td>\n",
       "      <td>1</td>\n",
       "    </tr>\n",
       "  </tbody>\n",
       "</table>\n",
       "</div>"
      ],
      "text/plain": [
       "                     Compound_Score  Exp_Index  Number_Of_Reviews\n",
       "Hotel_Name                                                       \n",
       "A-1 Alberni Inn            0.447724   0.523810                 21\n",
       "AB                         0.973600   1.000000                 19\n",
       "Abbotsford Hotel           0.225563   0.359375                 64\n",
       "Arbutus Grove Motel        0.897408   0.938144                 97\n",
       "Artful Retreat BB          0.888300   1.000000                  1"
      ]
     },
     "execution_count": 14,
     "metadata": {},
     "output_type": "execute_result"
    }
   ],
   "source": [
    "\"\"\"temp = count['reviewCol']\n",
    "avg_rating = pd.concat([avg_rating, temp], axis=1)\n",
    "avg_ratinghead()\"\"\"\n",
    "hotel_performance[\"Number_Of_Reviews\"] = count['Review']\n",
    "hotel_performance.head()"
   ]
  },
  {
   "cell_type": "code",
   "execution_count": 15,
   "metadata": {
    "scrolled": true
   },
   "outputs": [
    {
     "name": "stdout",
     "output_type": "stream",
     "text": [
      "------- TOP 5 Ranking hotels by binary review:\n"
     ]
    },
    {
     "data": {
      "text/html": [
       "<div>\n",
       "<style scoped>\n",
       "    .dataframe tbody tr th:only-of-type {\n",
       "        vertical-align: middle;\n",
       "    }\n",
       "\n",
       "    .dataframe tbody tr th {\n",
       "        vertical-align: top;\n",
       "    }\n",
       "\n",
       "    .dataframe thead th {\n",
       "        text-align: right;\n",
       "    }\n",
       "</style>\n",
       "<table border=\"1\" class=\"dataframe\">\n",
       "  <thead>\n",
       "    <tr style=\"text-align: right;\">\n",
       "      <th></th>\n",
       "      <th>Compound_Score</th>\n",
       "      <th>Exp_Index</th>\n",
       "      <th>Number_Of_Reviews</th>\n",
       "    </tr>\n",
       "    <tr>\n",
       "      <th>Hotel_Name</th>\n",
       "      <th></th>\n",
       "      <th></th>\n",
       "      <th></th>\n",
       "    </tr>\n",
       "  </thead>\n",
       "  <tbody>\n",
       "    <tr>\n",
       "      <th>Stansburys Guest House</th>\n",
       "      <td>0.948818</td>\n",
       "      <td>1.0</td>\n",
       "      <td>61</td>\n",
       "    </tr>\n",
       "    <tr>\n",
       "      <th>Cedar Song BB and Cottage</th>\n",
       "      <td>0.942700</td>\n",
       "      <td>1.0</td>\n",
       "      <td>49</td>\n",
       "    </tr>\n",
       "    <tr>\n",
       "      <th>Stamp Falls B  B</th>\n",
       "      <td>0.938477</td>\n",
       "      <td>1.0</td>\n",
       "      <td>26</td>\n",
       "    </tr>\n",
       "    <tr>\n",
       "      <th>Mozey-On-Inn</th>\n",
       "      <td>0.913273</td>\n",
       "      <td>1.0</td>\n",
       "      <td>22</td>\n",
       "    </tr>\n",
       "    <tr>\n",
       "      <th>Nimpo Lake Resort</th>\n",
       "      <td>0.940323</td>\n",
       "      <td>1.0</td>\n",
       "      <td>22</td>\n",
       "    </tr>\n",
       "  </tbody>\n",
       "</table>\n",
       "</div>"
      ],
      "text/plain": [
       "                           Compound_Score  Exp_Index  Number_Of_Reviews\n",
       "Hotel_Name                                                             \n",
       "Stansburys Guest House           0.948818        1.0                 61\n",
       "Cedar Song BB and Cottage        0.942700        1.0                 49\n",
       "Stamp Falls B  B                 0.938477        1.0                 26\n",
       "Mozey-On-Inn                     0.913273        1.0                 22\n",
       "Nimpo Lake Resort                0.940323        1.0                 22"
      ]
     },
     "execution_count": 15,
     "metadata": {},
     "output_type": "execute_result"
    }
   ],
   "source": [
    "best_binary_score_performance = hotel_performance.sort_values(by =[\"Exp_Index\",\"Number_Of_Reviews\"],ascending=False) \n",
    "print(\"------- TOP 5 Ranking hotels by binary review:\")\n",
    "top_5_binary = best_binary_score_performance.head()\n",
    "top_5_binary.head()"
   ]
  },
  {
   "cell_type": "code",
   "execution_count": 16,
   "metadata": {
    "scrolled": true
   },
   "outputs": [
    {
     "name": "stdout",
     "output_type": "stream",
     "text": [
      "------- TOP 5 Ranking hotels by text review:\n"
     ]
    },
    {
     "data": {
      "text/html": [
       "<div>\n",
       "<style scoped>\n",
       "    .dataframe tbody tr th:only-of-type {\n",
       "        vertical-align: middle;\n",
       "    }\n",
       "\n",
       "    .dataframe tbody tr th {\n",
       "        vertical-align: top;\n",
       "    }\n",
       "\n",
       "    .dataframe thead th {\n",
       "        text-align: right;\n",
       "    }\n",
       "</style>\n",
       "<table border=\"1\" class=\"dataframe\">\n",
       "  <thead>\n",
       "    <tr style=\"text-align: right;\">\n",
       "      <th></th>\n",
       "      <th>Compound_Score</th>\n",
       "      <th>Exp_Index</th>\n",
       "      <th>Number_Of_Reviews</th>\n",
       "    </tr>\n",
       "    <tr>\n",
       "      <th>Hotel_Name</th>\n",
       "      <th></th>\n",
       "      <th></th>\n",
       "      <th></th>\n",
       "    </tr>\n",
       "  </thead>\n",
       "  <tbody>\n",
       "    <tr>\n",
       "      <th>AB</th>\n",
       "      <td>0.973600</td>\n",
       "      <td>1.0</td>\n",
       "      <td>19</td>\n",
       "    </tr>\n",
       "    <tr>\n",
       "      <th>Retreat Wilderness Inn</th>\n",
       "      <td>0.972945</td>\n",
       "      <td>1.0</td>\n",
       "      <td>11</td>\n",
       "    </tr>\n",
       "    <tr>\n",
       "      <th>Mt HKusam View Lodge</th>\n",
       "      <td>0.968571</td>\n",
       "      <td>1.0</td>\n",
       "      <td>7</td>\n",
       "    </tr>\n",
       "    <tr>\n",
       "      <th>San Jose River Ranch Cariboo BB</th>\n",
       "      <td>0.967820</td>\n",
       "      <td>1.0</td>\n",
       "      <td>5</td>\n",
       "    </tr>\n",
       "    <tr>\n",
       "      <th>Chars Landing Guesthouse</th>\n",
       "      <td>0.967400</td>\n",
       "      <td>1.0</td>\n",
       "      <td>2</td>\n",
       "    </tr>\n",
       "  </tbody>\n",
       "</table>\n",
       "</div>"
      ],
      "text/plain": [
       "                                 Compound_Score  Exp_Index  Number_Of_Reviews\n",
       "Hotel_Name                                                                   \n",
       "AB                                     0.973600        1.0                 19\n",
       "Retreat Wilderness Inn                 0.972945        1.0                 11\n",
       "Mt HKusam View Lodge                   0.968571        1.0                  7\n",
       "San Jose River Ranch Cariboo BB        0.967820        1.0                  5\n",
       "Chars Landing Guesthouse               0.967400        1.0                  2"
      ]
     },
     "execution_count": 16,
     "metadata": {},
     "output_type": "execute_result"
    }
   ],
   "source": [
    "best_verbal_score_performance = hotel_performance.sort_values(by =[\"Compound_Score\",\"Number_Of_Reviews\"],ascending=False) \n",
    "print(\"------- TOP 5 Ranking hotels by text review:\")\n",
    "top_5_verbal = best_verbal_score_performance.head()\n",
    "top_5_verbal.head()"
   ]
  },
  {
   "cell_type": "code",
   "execution_count": 17,
   "metadata": {},
   "outputs": [
    {
     "name": "stdout",
     "output_type": "stream",
     "text": [
      "------- BOTTOM 5 Ranking hotels by binary review:\n"
     ]
    },
    {
     "data": {
      "text/html": [
       "<div>\n",
       "<style scoped>\n",
       "    .dataframe tbody tr th:only-of-type {\n",
       "        vertical-align: middle;\n",
       "    }\n",
       "\n",
       "    .dataframe tbody tr th {\n",
       "        vertical-align: top;\n",
       "    }\n",
       "\n",
       "    .dataframe thead th {\n",
       "        text-align: right;\n",
       "    }\n",
       "</style>\n",
       "<table border=\"1\" class=\"dataframe\">\n",
       "  <thead>\n",
       "    <tr style=\"text-align: right;\">\n",
       "      <th></th>\n",
       "      <th>Compound_Score</th>\n",
       "      <th>Exp_Index</th>\n",
       "      <th>Number_Of_Reviews</th>\n",
       "    </tr>\n",
       "    <tr>\n",
       "      <th>Hotel_Name</th>\n",
       "      <th></th>\n",
       "      <th></th>\n",
       "      <th></th>\n",
       "    </tr>\n",
       "  </thead>\n",
       "  <tbody>\n",
       "    <tr>\n",
       "      <th>Howard Johnson Hotel Port Alberni</th>\n",
       "      <td>0.405518</td>\n",
       "      <td>0.243902</td>\n",
       "      <td>82</td>\n",
       "    </tr>\n",
       "    <tr>\n",
       "      <th>Sorrento Inn</th>\n",
       "      <td>0.258881</td>\n",
       "      <td>0.250000</td>\n",
       "      <td>16</td>\n",
       "    </tr>\n",
       "    <tr>\n",
       "      <th>Bluebird Motel</th>\n",
       "      <td>0.344573</td>\n",
       "      <td>0.272727</td>\n",
       "      <td>11</td>\n",
       "    </tr>\n",
       "    <tr>\n",
       "      <th>Deerview Lodge  Cabins</th>\n",
       "      <td>0.471357</td>\n",
       "      <td>0.285714</td>\n",
       "      <td>7</td>\n",
       "    </tr>\n",
       "    <tr>\n",
       "      <th>Tyee Village Motel</th>\n",
       "      <td>0.322247</td>\n",
       "      <td>0.333333</td>\n",
       "      <td>15</td>\n",
       "    </tr>\n",
       "  </tbody>\n",
       "</table>\n",
       "</div>"
      ],
      "text/plain": [
       "                                   Compound_Score  Exp_Index  \\\n",
       "Hotel_Name                                                     \n",
       "Howard Johnson Hotel Port Alberni        0.405518   0.243902   \n",
       "Sorrento Inn                             0.258881   0.250000   \n",
       "Bluebird Motel                           0.344573   0.272727   \n",
       "Deerview Lodge  Cabins                   0.471357   0.285714   \n",
       "Tyee Village Motel                       0.322247   0.333333   \n",
       "\n",
       "                                   Number_Of_Reviews  \n",
       "Hotel_Name                                            \n",
       "Howard Johnson Hotel Port Alberni                 82  \n",
       "Sorrento Inn                                      16  \n",
       "Bluebird Motel                                    11  \n",
       "Deerview Lodge  Cabins                             7  \n",
       "Tyee Village Motel                                15  "
      ]
     },
     "execution_count": 17,
     "metadata": {},
     "output_type": "execute_result"
    }
   ],
   "source": [
    "worst_binary_score_performance = hotel_performance.sort_values(by =[\"Exp_Index\",\"Number_Of_Reviews\"],ascending=True) \n",
    "print(\"------- BOTTOM 5 Ranking hotels by binary review:\")\n",
    "bottom_5_binary = worst_binary_score_performance.head()\n",
    "bottom_5_binary.head()"
   ]
  },
  {
   "cell_type": "code",
   "execution_count": 18,
   "metadata": {},
   "outputs": [
    {
     "name": "stdout",
     "output_type": "stream",
     "text": [
      "------- BOTTOM 5 Ranking hotels by text review:\n"
     ]
    },
    {
     "data": {
      "text/html": [
       "<div>\n",
       "<style scoped>\n",
       "    .dataframe tbody tr th:only-of-type {\n",
       "        vertical-align: middle;\n",
       "    }\n",
       "\n",
       "    .dataframe tbody tr th {\n",
       "        vertical-align: top;\n",
       "    }\n",
       "\n",
       "    .dataframe thead th {\n",
       "        text-align: right;\n",
       "    }\n",
       "</style>\n",
       "<table border=\"1\" class=\"dataframe\">\n",
       "  <thead>\n",
       "    <tr style=\"text-align: right;\">\n",
       "      <th></th>\n",
       "      <th>Compound_Score</th>\n",
       "      <th>Exp_Index</th>\n",
       "      <th>Number_Of_Reviews</th>\n",
       "    </tr>\n",
       "    <tr>\n",
       "      <th>Hotel_Name</th>\n",
       "      <th></th>\n",
       "      <th></th>\n",
       "      <th></th>\n",
       "    </tr>\n",
       "  </thead>\n",
       "  <tbody>\n",
       "    <tr>\n",
       "      <th>Jewel Bay Resort</th>\n",
       "      <td>0.205180</td>\n",
       "      <td>0.400000</td>\n",
       "      <td>5</td>\n",
       "    </tr>\n",
       "    <tr>\n",
       "      <th>Abbotsford Hotel</th>\n",
       "      <td>0.225563</td>\n",
       "      <td>0.359375</td>\n",
       "      <td>64</td>\n",
       "    </tr>\n",
       "    <tr>\n",
       "      <th>Sorrento Inn</th>\n",
       "      <td>0.258881</td>\n",
       "      <td>0.250000</td>\n",
       "      <td>16</td>\n",
       "    </tr>\n",
       "    <tr>\n",
       "      <th>Tyee Village Motel</th>\n",
       "      <td>0.322247</td>\n",
       "      <td>0.333333</td>\n",
       "      <td>15</td>\n",
       "    </tr>\n",
       "    <tr>\n",
       "      <th>China Creek Campground</th>\n",
       "      <td>0.335480</td>\n",
       "      <td>0.400000</td>\n",
       "      <td>10</td>\n",
       "    </tr>\n",
       "  </tbody>\n",
       "</table>\n",
       "</div>"
      ],
      "text/plain": [
       "                        Compound_Score  Exp_Index  Number_Of_Reviews\n",
       "Hotel_Name                                                          \n",
       "Jewel Bay Resort              0.205180   0.400000                  5\n",
       "Abbotsford Hotel              0.225563   0.359375                 64\n",
       "Sorrento Inn                  0.258881   0.250000                 16\n",
       "Tyee Village Motel            0.322247   0.333333                 15\n",
       "China Creek Campground        0.335480   0.400000                 10"
      ]
     },
     "execution_count": 18,
     "metadata": {},
     "output_type": "execute_result"
    }
   ],
   "source": [
    "worst_verbal_score_performance = hotel_performance.sort_values(by =[\"Compound_Score\",\"Number_Of_Reviews\"],ascending=True) \n",
    "print(\"------- BOTTOM 5 Ranking hotels by text review:\")\n",
    "bottom_5_verbal = worst_verbal_score_performance.head()\n",
    "bottom_5_verbal.head()"
   ]
  },
  {
   "cell_type": "markdown",
   "metadata": {},
   "source": [
    "#### Comparison of Top 5 hotels based on average ratings vs average vader scores:\n",
    "<b>Top 5 according to average ground truth:</b> Stansbury's Guest House, Cedar Song B&B and Cottage, Stamp Falls B, Mozey-On-Inn, Nimpo Lake Resort\n",
    "<br> <b>Top 5 according to average vader:</b> A&J B&B, Retreat Wilderness Inn, Mt H'Kusam View Lodge, San Jose River Ranch Cariboo B&B, Char's Landing Guesthouse\n",
    "<br>The top five hotels for the average vader score and the average ground truth scores do not match as there are 22 hotels that have a perfect average ground truth rating (100% of the people visiting had positive experiences). The degree to which they had a positive experience is not captures by the binary rating. However, it is captured by the vader scores. The top five hotels based on average ground truth was first filtered as having all positive (1.0) and then filtered by the number of reviews for that hotel. This is why the top five from vader scores do not apprear in the top five of the ground truth average. "
   ]
  },
  {
   "cell_type": "markdown",
   "metadata": {},
   "source": [
    "### Frequency Analysis: \n",
    "Given that written feedback contains more information as to the performance of the hotel, it is worth exploring the common topic that are discussed and the hotels rating in conjunction with each other. <br><br>\n",
    "\n",
    "<b>Function freq_analysis:</b> Takes the text to be analyzed and returns the top 50 most frequently-occuring stop words and the number of times they are being used. "
   ]
  },
  {
   "cell_type": "code",
   "execution_count": 19,
   "metadata": {},
   "outputs": [],
   "source": [
    "def freq_analysis(reviews, k):\n",
    "    stop = set(stopwords.words('english'))\n",
    "    counter = Counter()\n",
    "    for review in reviews:\n",
    "            counter.update([word.lower() \n",
    "                            for word \n",
    "                            in re.findall(r'\\w+', review) \n",
    "                            if word.lower() not in stop and len(word) > 2])\n",
    "    topk = counter.most_common(k)  \n",
    "    return topk"
   ]
  },
  {
   "cell_type": "code",
   "execution_count": 20,
   "metadata": {
    "scrolled": true
   },
   "outputs": [
    {
     "name": "stdout",
     "output_type": "stream",
     "text": [
      "Top 50 words used in the positive reviews\n"
     ]
    },
    {
     "data": {
      "text/plain": [
       "[('room', 2391),\n",
       " ('great', 1980),\n",
       " ('stay', 1830),\n",
       " ('clean', 1586),\n",
       " ('hotel', 1578),\n",
       " ('staff', 1538),\n",
       " ('beach', 1265),\n",
       " ('stayed', 1181),\n",
       " ('good', 1163),\n",
       " ('well', 1146)]"
      ]
     },
     "execution_count": 20,
     "metadata": {},
     "output_type": "execute_result"
    }
   ],
   "source": [
    "print(\"Top 50 words used in the positive reviews\")\n",
    "# Extracting only the positivly reviewed hotels and their associated text to study the most frequently used words\n",
    "pos = compound_vader_sentiment_scores_DF[compound_vader_sentiment_scores_DF[\"Experience\"]=='positive']['Review']\n",
    "result_pos = freq_analysis(pos,50)\n",
    "l_pos = len(pos)-1\n",
    "positive50_words = [i[0] for i in result_pos]\n",
    "result_pos[:10]"
   ]
  },
  {
   "cell_type": "code",
   "execution_count": 21,
   "metadata": {
    "scrolled": true
   },
   "outputs": [
    {
     "name": "stdout",
     "output_type": "stream",
     "text": [
      "Top 50 words used in the negative reviews\n"
     ]
    },
    {
     "data": {
      "text/plain": [
       "[('room', 1054),\n",
       " ('hotel', 565),\n",
       " ('would', 405),\n",
       " ('stay', 368),\n",
       " ('one', 318),\n",
       " ('night', 302),\n",
       " ('clean', 288),\n",
       " ('good', 277),\n",
       " ('place', 275),\n",
       " ('rooms', 265)]"
      ]
     },
     "execution_count": 21,
     "metadata": {},
     "output_type": "execute_result"
    }
   ],
   "source": [
    "print(\"Top 50 words used in the negative reviews\")\n",
    "neg = compound_vader_sentiment_scores_DF[compound_vader_sentiment_scores_DF[\"Experience\"]=='negative']['Review']\n",
    "result_neg = freq_analysis(neg,50)\n",
    "negative50_words = [i[0] for i in result_neg]\n",
    "result_neg[:10]"
   ]
  },
  {
   "cell_type": "code",
   "execution_count": 22,
   "metadata": {
    "scrolled": true
   },
   "outputs": [
    {
     "data": {
      "text/plain": [
       "['room',\n",
       " 'great',\n",
       " 'stay',\n",
       " 'clean',\n",
       " 'hotel',\n",
       " 'staff',\n",
       " 'beach',\n",
       " 'stayed',\n",
       " 'good',\n",
       " 'well']"
      ]
     },
     "execution_count": 22,
     "metadata": {},
     "output_type": "execute_result"
    }
   ],
   "source": [
    "#Some words are repeating themselves and it is useful to see which words were common for both lists\n",
    "s = set(negative50_words)\n",
    "common_words = [x for x in positive50_words if x in s]\n",
    "common_words[:10]"
   ]
  },
  {
   "cell_type": "code",
   "execution_count": 23,
   "metadata": {},
   "outputs": [
    {
     "name": "stdout",
     "output_type": "stream",
     "text": [
      "1 :  \"My biggest complaint with the Riding Fool is the lack of door closure on the dorm room doors. Resulting in the door never properly closing, or banging shut, both creating more noise in the room than necessary. Bunks are stable so you don\\\\'t really hear the top one going to bed which is great. Lockers are a good size. Kitchen is well equipped.\n",
      "\n",
      "2 :  \"Stayed in Room 7 recently. Noise from the staff quarters immediately below made sleeping difficult. The whole establishment is spacious, airy, super-clean, and the facilities are outstanding. And Cumberland is a great place to relax. But the sound-proofing in the hostel is terrible. Take your ear plugs.\n",
      "\n",
      "3 :  \"5 of us ladies (and no, we are not miners) were in Sparwood for a night and we stayed at this hotel.  The staff was great, the bed was comfortable, and the hotel was clean.  The room had a fridge, coffee maker and microwave.  We had breakfast at the restaurant.  Food was fine, and the servings were huge.\\\\n\\\\nNone of us would have anything bad to say about the hotel.\n",
      "\n"
     ]
    }
   ],
   "source": [
    "# Given that positive words show up on negatively rated comments, it would be worth exploring the context\n",
    "count = 0 \n",
    "for review in neg:\n",
    "    if 'great' in review and count <=2:\n",
    "        count += 1\n",
    "        print (count,\": \", review)\n",
    "        print(\"\")"
   ]
  },
  {
   "cell_type": "markdown",
   "metadata": {},
   "source": [
    "#### Position and usage of the top-ranked words:\n",
    "There were multiple words that were present in both the negative review and the positive review. While most of these words were neutral nouns, the adjectives attached to the words would be the emotion carrying word (the context set the tone of the word). However, words such as \"great\" and \"clean\" appear in the negative review, this is because one part of the review is positive in nature, however the core of the review is still negative. This is evident by vitual inspection from the previous cell, where certain aspects of the hotel was \"great\", while other parts were bad and therefore catagorized as a negative ground truth.  \n"
   ]
  },
  {
   "cell_type": "code",
   "execution_count": 24,
   "metadata": {},
   "outputs": [
    {
     "data": {
      "text/plain": [
       "0    \"I was looking for a place to sit and chill fo...\n",
       "1    \"I stayed at the Riding Fool Hostel whilst I w...\n",
       "2    \"My husband and I (both in our 50\\\\'s) stayed ...\n",
       "3    \"We were warmly  welcomed by Caitlin, the new ...\n",
       "4    \"Comfortable, cheap, and cosy accommodation wi...\n",
       "Name: Review, dtype: object"
      ]
     },
     "execution_count": 24,
     "metadata": {},
     "output_type": "execute_result"
    }
   ],
   "source": [
    "pos_df = pd.DataFrame({'Index':pos.index, 'Review':pos.values})\n",
    "pos_df[3354:3358]\n",
    "pos_rev_df= pos_df['Review']\n",
    "pos_rev_df.head()"
   ]
  },
  {
   "cell_type": "code",
   "execution_count": 25,
   "metadata": {
    "scrolled": true
   },
   "outputs": [
    {
     "data": {
      "text/plain": [
       "[('I', 'PRP'),\n",
       " ('was', 'VBD'),\n",
       " ('looking', 'VBG'),\n",
       " ('for', 'IN'),\n",
       " ('a', 'DT'),\n",
       " ('place', 'NN'),\n",
       " ('to', 'TO'),\n",
       " ('sit', 'VB'),\n",
       " ('and', 'CC'),\n",
       " ('chill', 'VB')]"
      ]
     },
     "execution_count": 25,
     "metadata": {},
     "output_type": "execute_result"
    }
   ],
   "source": [
    "#Analyzing the context by implmenting Part-of-speech tagging of full review sentences\n",
    "tagger = PerceptronTagger()\n",
    "taggedToks=[]\n",
    "pos_tag = tagger.tag\n",
    "for i in range(l_pos):\n",
    "    t=i+1\n",
    "    #print(pos_df[i:t])\n",
    "    taggedToks.append(pos_tag(re.findall(r'\\w+', pos_rev_df[i])))\n",
    "taggedToks[0][:10]"
   ]
  },
  {
   "cell_type": "markdown",
   "metadata": {},
   "source": [
    "#### Language processing pipeline\n",
    "https://www.ling.upenn.edu/courses/Fall_2003/ling001/penn_treebank_pos.html <br>\n",
    "Pipeline to perform complex processing including stemming, lemmatization, part of speech tagging based on predefined grammatical markers of interest (NP - nound phrases, JJ - adjectives, RB - adverbs), stop word filter. The result of this pipeline is to get relevant context to words of interest. The resulting information is in the form of phrases that offer context to information that we previously deemed valuable based on simple frequency analysis."
   ]
  },
  {
   "cell_type": "code",
   "execution_count": 26,
   "metadata": {},
   "outputs": [],
   "source": [
    "# Allows for arrays to be transformed into phrases \n",
    "def flatten(npTokenList):\n",
    "    finalList =[]\n",
    "    for phrase in npTokenList:\n",
    "        token = ''\n",
    "        for word in phrase:\n",
    "            token += word + ' '\n",
    "        finalList.append(token.rstrip())\n",
    "    return finalList"
   ]
  },
  {
   "cell_type": "code",
   "execution_count": 27,
   "metadata": {},
   "outputs": [
    {
     "data": {
      "text/plain": [
       "[('I', 'PRP'), ('was', 'VBD'), ('looking', 'VBG'), ('for', 'IN')]"
      ]
     },
     "execution_count": 27,
     "metadata": {},
     "output_type": "execute_result"
    }
   ],
   "source": [
    "# Transformation of list of tuples is requried to perform chunking \n",
    "merged = list(itertools.chain(*taggedToks))\n",
    "merged[:4]"
   ]
  },
  {
   "cell_type": "code",
   "execution_count": 28,
   "metadata": {},
   "outputs": [],
   "source": [
    "# Defining the chunkstring\n",
    "grammar = r\"\"\"\n",
    "    NBAR:\n",
    "        {<NN.*|JJ>*<NN.*>}  # Nouns and Adjectives, terminated with Nouns\n",
    "        \n",
    "    NP:\n",
    "        {<NBAR>}\n",
    "        {<NBAR><IN><NBAR>}  # Above, connected with in/of/etc...\n",
    "\"\"\""
   ]
  },
  {
   "cell_type": "code",
   "execution_count": 29,
   "metadata": {},
   "outputs": [],
   "source": [
    "# The behaviour of the parser is specified to \"grammar\" in order to add more structure to the sentence \n",
    "# The defined parser uses the POS tagged reviews as input\n",
    "chunker = nltk.RegexpParser(grammar)\n",
    "tree = chunker.parse(merged)"
   ]
  },
  {
   "cell_type": "code",
   "execution_count": 30,
   "metadata": {},
   "outputs": [],
   "source": [
    "# Noun Phrase Extraction Support Functions\n",
    "from nltk.corpus import stopwords\n",
    "stop_words = stopwords.words('english')\n",
    "# Defining both lemmatizing and stemming - although since lemmatization uses the context to convert the word into the \n",
    "# base form - it is predicted to have more value \n",
    "lemmatizer = nltk.WordNetLemmatizer()\n",
    "stemmer = nltk.stem.porter.PorterStemmer()\n",
    "\n",
    "# generator, generate leaves one by one\n",
    "def leaves(tree):\n",
    "    \"\"\"Finds NP (nounphrase) leaf nodes of a chunk tree.\"\"\"\n",
    "    for subtree in tree.subtrees(filter = lambda t: t.label()=='NP' or t.label()=='JJ' or t.label()=='RB'):\n",
    "        yield subtree.leaves()\n",
    "\n",
    "# stemming, lematizing, lower case\n",
    "def normalise(word):\n",
    "    \"\"\"Normalises words to lowercase and stems and lemmatizes it.\"\"\"\n",
    "    word = word.lower()\n",
    "    word = stemmer.stem(word)\n",
    "    word = lemmatizer.lemmatize(word)\n",
    "    return word\n",
    "\n",
    "# stop-words and length control\n",
    "def acceptable_word(word):\n",
    "    \"\"\"Checks conditions for acceptable word: length, stopword.\"\"\"\n",
    "    accepted = bool(2 <= len(word) <= 400\n",
    "        and word.lower() not in stop_words)\n",
    "    return accepted\n",
    "\n",
    "# generator, create item once a time\n",
    "def get_terms(tree):\n",
    "    for leaf in leaves(tree):\n",
    "        term = [normalise(w) for w,t in leaf if acceptable_word(w) ]\n",
    "        # Phrase only\n",
    "        if len(term)>1:\n",
    "            yield term"
   ]
  },
  {
   "cell_type": "code",
   "execution_count": 32,
   "metadata": {},
   "outputs": [
    {
     "data": {
      "text/plain": [
       "[['ride', 'fool', 'hostel'],\n",
       " ['cumberland', 'great', 'kitchen'],\n",
       " ['common', 'area', 'comfi', 'bed'],\n",
       " ['nice', 'folk'],\n",
       " ['nearbi', 'mountain', 'bike'],\n",
       " ['big', 'mountain'],\n",
       " ['short', 'distanc'],\n",
       " ['surpris', 'amount'],\n",
       " ['ride', 'fool', 'hostel', 'whilst'],\n",
       " ['mount', 'washington', 'alpin', 'resort']]"
      ]
     },
     "execution_count": 32,
     "metadata": {},
     "output_type": "execute_result"
    }
   ],
   "source": [
    "npTokenList = [word for word in get_terms(tree)]\n",
    "npTokenList[:10]"
   ]
  },
  {
   "cell_type": "code",
   "execution_count": 33,
   "metadata": {
    "scrolled": true
   },
   "outputs": [
    {
     "data": {
      "text/plain": [
       "['ride fool hostel',\n",
       " 'cumberland great kitchen',\n",
       " 'common area comfi bed',\n",
       " 'nice folk',\n",
       " 'nearbi mountain bike',\n",
       " 'big mountain',\n",
       " 'short distanc',\n",
       " 'surpris amount',\n",
       " 'ride fool hostel whilst',\n",
       " 'mount washington alpin resort']"
      ]
     },
     "execution_count": 33,
     "metadata": {},
     "output_type": "execute_result"
    }
   ],
   "source": [
    "finalList = flatten(npTokenList)\n",
    "(finalList[:10])"
   ]
  },
  {
   "cell_type": "markdown",
   "metadata": {},
   "source": [
    "<b>Function newDataFrameTransformation: </b> Aternative way of performing text analysis. "
   ]
  },
  {
   "cell_type": "code",
   "execution_count": 34,
   "metadata": {},
   "outputs": [],
   "source": [
    "# Revised dataframe transform function.\n",
    "def newDataFrameTransformation(hotelDf, reviewDF, k=50):\n",
    "    reviews = reviewDF['Review'].values\n",
    "    \n",
    "    # Top-k frequent terms\n",
    "    counter = Counter()\n",
    "    for review in reviews:\n",
    "            counter.update(flatten([word\n",
    "                            for word \n",
    "                            in get_terms(chunker.parse(pos_tag(re.findall(r'\\w+', review)))) \n",
    "                            ]))\n",
    "    topk = counter.most_common(k)        \n",
    "    \n",
    "    #Find out if a particular review has the word from topk list\n",
    "    freqReview = []\n",
    "    for i in range(len(reviews)):\n",
    "        tempCounter = Counter(flatten([word \n",
    "                                       for word \n",
    "                                       in get_terms(chunker.parse(pos_tag(re.findall(r'\\w+',reviews[i]))))]))\n",
    "        topkinReview = [1 if tempCounter[word] > 0 else 0 for (word,wordCount) in topk]\n",
    "        freqReview.append(topkinReview)\n",
    "        \n",
    "        \n",
    "    #Prepare freqReviewDf\n",
    "    freqReviewDf = pd.DataFrame(freqReview)\n",
    "    dfName = []\n",
    "    for c in topk:\n",
    "        dfName.append(c[0])\n",
    "    freqReviewDf.columns = dfName\n",
    "    finalreviewDf = reviewDF.join(freqReviewDf)\n",
    "    #print(topk)\n",
    "    finaldf = hotelDf[['Hotel_Name','Ratings','Experience']].merge(finalreviewDf)\n",
    "    \n",
    "    return topk, finaldf"
   ]
  },
  {
   "cell_type": "code",
   "execution_count": 35,
   "metadata": {
    "scrolled": true
   },
   "outputs": [],
   "source": [
    "compound_vader_sentiment_scores_DF['Ratings'] = reviews_df['Ratings']\n",
    "reviewNegDF = compound_vader_sentiment_scores_DF[compound_vader_sentiment_scores_DF['Experience']=='negative']\n",
    "reviewPosDF = compound_vader_sentiment_scores_DF[compound_vader_sentiment_scores_DF['Experience']=='positive']"
   ]
  },
  {
   "cell_type": "code",
   "execution_count": 36,
   "metadata": {
    "scrolled": true
   },
   "outputs": [
    {
     "data": {
      "text/plain": [
       "[('port alberni', 224),\n",
       " ('hot tub', 153),\n",
       " ('great place', 127),\n",
       " ('front desk', 116),\n",
       " ('bedroom suit', 101),\n",
       " ('vancouv island', 94),\n",
       " ('beach club resort', 86),\n",
       " ('beach club', 84),\n",
       " ('ocean view', 73),\n",
       " ('friendli staff', 64)]"
      ]
     },
     "execution_count": 36,
     "metadata": {},
     "output_type": "execute_result"
    }
   ],
   "source": [
    "topk_pos_phrase, finaldf_pos_phrase = newDataFrameTransformation(compound_vader_sentiment_scores_DF, reviewPosDF)\n",
    "topk_pos_phrase[:10]"
   ]
  },
  {
   "cell_type": "code",
   "execution_count": 37,
   "metadata": {
    "scrolled": true
   },
   "outputs": [
    {
     "data": {
      "text/plain": [
       "[('front desk', 89),\n",
       " ('port alberni', 36),\n",
       " ('hot tub', 22),\n",
       " ('credit card', 21),\n",
       " ('next day', 21),\n",
       " ('park lot', 18),\n",
       " ('next morn', 16),\n",
       " ('nthe room', 16),\n",
       " ('night stay', 16),\n",
       " ('hot water', 16)]"
      ]
     },
     "execution_count": 37,
     "metadata": {},
     "output_type": "execute_result"
    }
   ],
   "source": [
    "topk_neg_phrase, finaldf_neg_phrase = newDataFrameTransformation(\n",
    "    compound_vader_sentiment_scores_DF, reviewNegDF)\n",
    "topk_neg_phrase[:10]"
   ]
  },
  {
   "cell_type": "code",
   "execution_count": 38,
   "metadata": {},
   "outputs": [
    {
     "data": {
      "text/plain": [
       "'topk_phrase, finaldf_phrase = newDataFrameTransformation(newDataFrameTransformation, reviewDF)\\ntopk_phrase[:10]'"
      ]
     },
     "execution_count": 38,
     "metadata": {},
     "output_type": "execute_result"
    }
   ],
   "source": [
    "\"\"\"topk_phrase, finaldf_phrase = newDataFrameTransformation(newDataFrameTransformation, reviewDF)\n",
    "topk_phrase[:10]\"\"\""
   ]
  },
  {
   "cell_type": "markdown",
   "metadata": {},
   "source": [
    "#### Repeating this analysis for the top-50 noun phrases and summarization of findings:\n",
    "The positive reviews contained more objectively positive phrases that were used such as \"great time\", \"great view\", infact even though the word \"great\" appeared in the top negative reviews, the phrases only appears in the positive context. The phrases in the negative list are sometimes positive phrases (like, \"good thing\", \"good location\", \"best western\", \"clean staff\")- this goes to show that people generally tend to say positive things about a hotel while saying negative things about it. The phrases made it easier to figure out the specific aspects of the hotel industries that people mostly talk about/interact with, like the \"front desk\" and they often talk about how their stay affects the \"next time\". "
   ]
  },
  {
   "cell_type": "markdown",
   "metadata": {},
   "source": [
    "###  Mutual Information (MI):\n",
    "MI measures how much information the presence/absence of a term contributes to making the correct classification decision of a term. This is an alternative way to produce phrases of importance by providing the predictable context. The performance of mutual information is then studied with pointwise mututal information. "
   ]
  },
  {
   "cell_type": "code",
   "execution_count": 39,
   "metadata": {},
   "outputs": [
    {
     "data": {
      "text/plain": [
       "\"def dataFrameTransformation(hotelDf, reviewDF, k=50):\\n    reviews = reviewDF['reviewCol'].values\\n    \\n    stop = set(stopwords.words('english'))\\n    \\n    # Top-k frequent terms\\n    counter = Counter()\\n    for review in reviews:\\n            counter.update([word.lower() \\n                            for word \\n                            in re.findall(r'\\\\w+', review) \\n                            if word.lower() not in stop and len(word) > 2])\\n    topk = counter.most_common(k)        \\n    \\n    #Find out if a particular review has the word from topk list\\n    freqReview = []\\n    for i in range(len(reviews)):\\n        tempCounter = Counter([word.lower() for word in re.findall(r'\\\\w+',reviews[i])])\\n        topkinReview = [1 if tempCounter[word] > 0 else 0 for (word,wordCount) in topk]\\n        freqReview.append(topkinReview)\\n    \\n    #Prepare freqReviewDf\\n    freqReviewDf = pd.DataFrame(freqReview)\\n    dfName = []\\n    for c in topk:\\n        dfName.append(c[0])\\n    freqReviewDf.columns = dfName\\n    finalreviewDf = reviewDF.join(freqReviewDf)\\n    finaldf = hotelDf[['Hotel_Name','Ratings','Experience']].merge(finalreviewDf)\\n    return topk, finaldf\""
      ]
     },
     "execution_count": 39,
     "metadata": {},
     "output_type": "execute_result"
    }
   ],
   "source": [
    "\"\"\"def dataFrameTransformation(hotelDf, reviewDF, k=50):\n",
    "    reviews = reviewDF['reviewCol'].values\n",
    "    \n",
    "    stop = set(stopwords.words('english'))\n",
    "    \n",
    "    # Top-k frequent terms\n",
    "    counter = Counter()\n",
    "    for review in reviews:\n",
    "            counter.update([word.lower() \n",
    "                            for word \n",
    "                            in re.findall(r'\\w+', review) \n",
    "                            if word.lower() not in stop and len(word) > 2])\n",
    "    topk = counter.most_common(k)        \n",
    "    \n",
    "    #Find out if a particular review has the word from topk list\n",
    "    freqReview = []\n",
    "    for i in range(len(reviews)):\n",
    "        tempCounter = Counter([word.lower() for word in re.findall(r'\\w+',reviews[i])])\n",
    "        topkinReview = [1 if tempCounter[word] > 0 else 0 for (word,wordCount) in topk]\n",
    "        freqReview.append(topkinReview)\n",
    "    \n",
    "    #Prepare freqReviewDf\n",
    "    freqReviewDf = pd.DataFrame(freqReview)\n",
    "    dfName = []\n",
    "    for c in topk:\n",
    "        dfName.append(c[0])\n",
    "    freqReviewDf.columns = dfName\n",
    "    finalreviewDf = reviewDF.join(freqReviewDf)\n",
    "    finaldf = hotelDf[['Hotel_Name','Ratings','Experience']].merge(finalreviewDf)\n",
    "    return topk, finaldf\"\"\""
   ]
  },
  {
   "cell_type": "code",
   "execution_count": 41,
   "metadata": {},
   "outputs": [],
   "source": [
    "topk, finaldf = newDataFrameTransformation(\n",
    "    reviews_df, compound_vader_sentiment_scores_DF, k=50)"
   ]
  },
  {
   "cell_type": "code",
   "execution_count": 42,
   "metadata": {
    "scrolled": true
   },
   "outputs": [
    {
     "data": {
      "text/plain": [
       "[('port alberni', 260),\n",
       " ('front desk', 205),\n",
       " ('hot tub', 175),\n",
       " ('great place', 131),\n",
       " ('bedroom suit', 108),\n",
       " ('vancouv island', 101),\n",
       " ('beach club resort', 97),\n",
       " ('beach club', 94),\n",
       " ('ocean view', 79),\n",
       " ('friendli staff', 70)]"
      ]
     },
     "execution_count": 42,
     "metadata": {},
     "output_type": "execute_result"
    }
   ],
   "source": [
    "topk[:10]"
   ]
  },
  {
   "cell_type": "code",
   "execution_count": 46,
   "metadata": {
    "scrolled": true
   },
   "outputs": [],
   "source": [
    "tempDF_pos = reviews_df[reviews_df['Experience']=='positive']\n",
    "temp_topk, temp_finaldf = newDataFrameTransformation(\n",
    "    tempDF_pos, compound_vader_sentiment_scores_DF, k=50)"
   ]
  },
  {
   "cell_type": "code",
   "execution_count": 47,
   "metadata": {},
   "outputs": [],
   "source": [
    "def getMI(topk, df, label_column='Experience'):\n",
    "    miScore = []\n",
    "    for word in topk:\n",
    "        miScore.append([word[0]]+[metrics.mutual_info_score(df[label_column], df[word[0]])])\n",
    "    miScoredf = pd.DataFrame(miScore).sort_values(1,ascending=0)\n",
    "    miScoredf.columns = ['Word','MI Score']\n",
    "    return miScoredf"
   ]
  },
  {
   "cell_type": "code",
   "execution_count": 48,
   "metadata": {
    "scrolled": true
   },
   "outputs": [],
   "source": [
    "#MI_neg = getMI(result_neg, finaldf)\n",
    "#MI_pos = getMI(result_pos, finaldf)\n",
    "MI_topk = getMI(topk,finaldf)"
   ]
  },
  {
   "cell_type": "code",
   "execution_count": 49,
   "metadata": {
    "scrolled": true
   },
   "outputs": [
    {
     "data": {
      "text/html": [
       "<div>\n",
       "<style scoped>\n",
       "    .dataframe tbody tr th:only-of-type {\n",
       "        vertical-align: middle;\n",
       "    }\n",
       "\n",
       "    .dataframe tbody tr th {\n",
       "        vertical-align: top;\n",
       "    }\n",
       "\n",
       "    .dataframe thead th {\n",
       "        text-align: right;\n",
       "    }\n",
       "</style>\n",
       "<table border=\"1\" class=\"dataframe\">\n",
       "  <thead>\n",
       "    <tr style=\"text-align: right;\">\n",
       "      <th></th>\n",
       "      <th>Word</th>\n",
       "      <th>MI Score</th>\n",
       "    </tr>\n",
       "  </thead>\n",
       "  <tbody>\n",
       "    <tr>\n",
       "      <th>1</th>\n",
       "      <td>front desk</td>\n",
       "      <td>0.001174</td>\n",
       "    </tr>\n",
       "    <tr>\n",
       "      <th>4</th>\n",
       "      <td>bedroom suit</td>\n",
       "      <td>0.000862</td>\n",
       "    </tr>\n",
       "    <tr>\n",
       "      <th>40</th>\n",
       "      <td>continent breakfast</td>\n",
       "      <td>0.000680</td>\n",
       "    </tr>\n",
       "    <tr>\n",
       "      <th>3</th>\n",
       "      <td>great place</td>\n",
       "      <td>0.000573</td>\n",
       "    </tr>\n",
       "    <tr>\n",
       "      <th>32</th>\n",
       "      <td>next day</td>\n",
       "      <td>0.000491</td>\n",
       "    </tr>\n",
       "  </tbody>\n",
       "</table>\n",
       "</div>"
      ],
      "text/plain": [
       "                   Word  MI Score\n",
       "1            front desk  0.001174\n",
       "4          bedroom suit  0.000862\n",
       "40  continent breakfast  0.000680\n",
       "3           great place  0.000573\n",
       "32             next day  0.000491"
      ]
     },
     "execution_count": 49,
     "metadata": {},
     "output_type": "execute_result"
    }
   ],
   "source": [
    "MI_topk.head()"
   ]
  },
  {
   "cell_type": "code",
   "execution_count": 50,
   "metadata": {},
   "outputs": [],
   "source": [
    "#temp_topk, temp_finaldf\n",
    "MI_topk = getMI(temp_topk, temp_finaldf)"
   ]
  },
  {
   "cell_type": "code",
   "execution_count": 51,
   "metadata": {
    "scrolled": true
   },
   "outputs": [
    {
     "data": {
      "text/html": [
       "<div>\n",
       "<style scoped>\n",
       "    .dataframe tbody tr th:only-of-type {\n",
       "        vertical-align: middle;\n",
       "    }\n",
       "\n",
       "    .dataframe tbody tr th {\n",
       "        vertical-align: top;\n",
       "    }\n",
       "\n",
       "    .dataframe thead th {\n",
       "        text-align: right;\n",
       "    }\n",
       "</style>\n",
       "<table border=\"1\" class=\"dataframe\">\n",
       "  <thead>\n",
       "    <tr style=\"text-align: right;\">\n",
       "      <th></th>\n",
       "      <th>Word</th>\n",
       "      <th>MI Score</th>\n",
       "    </tr>\n",
       "  </thead>\n",
       "  <tbody>\n",
       "    <tr>\n",
       "      <th>0</th>\n",
       "      <td>port alberni</td>\n",
       "      <td>1.783296e-15</td>\n",
       "    </tr>\n",
       "    <tr>\n",
       "      <th>22</th>\n",
       "      <td>hospit inn</td>\n",
       "      <td>1.777224e-15</td>\n",
       "    </tr>\n",
       "    <tr>\n",
       "      <th>48</th>\n",
       "      <td>great experi</td>\n",
       "      <td>1.775489e-15</td>\n",
       "    </tr>\n",
       "    <tr>\n",
       "      <th>17</th>\n",
       "      <td>night stay</td>\n",
       "      <td>1.774622e-15</td>\n",
       "    </tr>\n",
       "    <tr>\n",
       "      <th>27</th>\n",
       "      <td>next morn</td>\n",
       "      <td>1.772887e-15</td>\n",
       "    </tr>\n",
       "  </tbody>\n",
       "</table>\n",
       "</div>"
      ],
      "text/plain": [
       "            Word      MI Score\n",
       "0   port alberni  1.783296e-15\n",
       "22    hospit inn  1.777224e-15\n",
       "48  great experi  1.775489e-15\n",
       "17    night stay  1.774622e-15\n",
       "27     next morn  1.772887e-15"
      ]
     },
     "execution_count": 51,
     "metadata": {},
     "output_type": "execute_result"
    }
   ],
   "source": [
    "MI_topk.head()"
   ]
  },
  {
   "cell_type": "markdown",
   "metadata": {},
   "source": [
    "<b> Interesting and/or locale-specific aspects of these top-ranked words </b><br>\n",
    "The scores for mutual information are low which goes to say that there is small dependency between the word and the ground truth of the review. Another aspect of the list is that it was taken from the entire collection of reviews without filtering the positive and negative reviews. This is especially problematic because some of the words (like great) appear in both positive and negative reviews a number of times, hence confusing the model. <br> It should also be noted that the topk words retrieved from the previous function is repeated here and this is due the fact that the MI takes into consideration the number of times a word appreas in the given collection. Therefore, the more frequent a word appears, the more information it would seem to have. \n"
   ]
  },
  {
   "cell_type": "markdown",
   "metadata": {},
   "source": [
    "The Mutual information scores are significantly smaller than MI scores of induvidual words. This goes to say that the phrases present here are indpendent of the information (positive or negative) they are trying to convey. Furthermore, the number of times the phrases occur in the collection is significantly smaller than the induvidual words occuring. This also affects the MI score. The phrases picked out, like \"mini golf\" or \"indoor pool\" are relevant to only a few hotels and its reviews, and therefore cannot be an indicator of how positive or negative the entire hotel staying experience would be. "
   ]
  },
  {
   "cell_type": "markdown",
   "metadata": {},
   "source": [
    "### Pointwise Mutual Information\n",
    "#### PMI for the top-50 words with positive and negative reviews. \n"
   ]
  },
  {
   "cell_type": "code",
   "execution_count": 73,
   "metadata": {},
   "outputs": [],
   "source": [
    "def pmiCal(df, x):\n",
    "    pmilist=[]\n",
    "    for i in (['positive','negative']):\n",
    "        for j in [0,1]:\n",
    "            px = sum(df['Experience']==i)/len(df)\n",
    "            py = sum(df[x]==j)/len(df)\n",
    "            pxy = len(df[(df['Experience']==i) & (df[x]==j)])/len(df)\n",
    "            if pxy==0:#Log 0 cannot happen\n",
    "                pmi = math.log((pxy+0.0001)/(px*py))\n",
    "            else:\n",
    "                pmi = math.log(pxy/(px*py))\n",
    "            pmilist.append([i]+[j]+[px]+[py]+[pxy]+[pmi])\n",
    "    pmidf = pd.DataFrame(pmilist)\n",
    "    pmidf.columns = ['x','y','px','py','pxy','pmi']\n",
    "    return pmidf"
   ]
  },
  {
   "cell_type": "code",
   "execution_count": 74,
   "metadata": {
    "scrolled": true
   },
   "outputs": [
    {
     "data": {
      "text/html": [
       "<div>\n",
       "<style scoped>\n",
       "    .dataframe tbody tr th:only-of-type {\n",
       "        vertical-align: middle;\n",
       "    }\n",
       "\n",
       "    .dataframe tbody tr th {\n",
       "        vertical-align: top;\n",
       "    }\n",
       "\n",
       "    .dataframe thead th {\n",
       "        text-align: right;\n",
       "    }\n",
       "</style>\n",
       "<table border=\"1\" class=\"dataframe\">\n",
       "  <thead>\n",
       "    <tr style=\"text-align: right;\">\n",
       "      <th></th>\n",
       "      <th>x</th>\n",
       "      <th>y</th>\n",
       "      <th>px</th>\n",
       "      <th>py</th>\n",
       "      <th>pxy</th>\n",
       "      <th>pmi</th>\n",
       "    </tr>\n",
       "  </thead>\n",
       "  <tbody>\n",
       "    <tr>\n",
       "      <th>0</th>\n",
       "      <td>positive</td>\n",
       "      <td>0</td>\n",
       "      <td>0.969886</td>\n",
       "      <td>0.664623</td>\n",
       "      <td>0.650177</td>\n",
       "      <td>0.008601</td>\n",
       "    </tr>\n",
       "    <tr>\n",
       "      <th>1</th>\n",
       "      <td>positive</td>\n",
       "      <td>1</td>\n",
       "      <td>0.969886</td>\n",
       "      <td>0.335377</td>\n",
       "      <td>0.319709</td>\n",
       "      <td>-0.017267</td>\n",
       "    </tr>\n",
       "    <tr>\n",
       "      <th>2</th>\n",
       "      <td>negative</td>\n",
       "      <td>0</td>\n",
       "      <td>0.030114</td>\n",
       "      <td>0.664623</td>\n",
       "      <td>0.014446</td>\n",
       "      <td>-0.326035</td>\n",
       "    </tr>\n",
       "    <tr>\n",
       "      <th>3</th>\n",
       "      <td>negative</td>\n",
       "      <td>1</td>\n",
       "      <td>0.030114</td>\n",
       "      <td>0.335377</td>\n",
       "      <td>0.015668</td>\n",
       "      <td>0.439129</td>\n",
       "    </tr>\n",
       "  </tbody>\n",
       "</table>\n",
       "</div>"
      ],
      "text/plain": [
       "          x  y        px        py       pxy       pmi\n",
       "0  positive  0  0.969886  0.664623  0.650177  0.008601\n",
       "1  positive  1  0.969886  0.335377  0.319709 -0.017267\n",
       "2  negative  0  0.030114  0.664623  0.014446 -0.326035\n",
       "3  negative  1  0.030114  0.335377  0.015668  0.439129"
      ]
     },
     "execution_count": 74,
     "metadata": {},
     "output_type": "execute_result"
    }
   ],
   "source": [
    "pmiCal(finaldf,'hotel')"
   ]
  },
  {
   "cell_type": "code",
   "execution_count": 75,
   "metadata": {},
   "outputs": [],
   "source": [
    "def pmiIndivCal(df,x,gt, label_column='Experience'):\n",
    "    px = sum(df[label_column]==gt)/len(df)\n",
    "    py = sum(df[x]==1)/len(df)\n",
    "    pxy = len(df[(df[label_column]==gt) & (df[x]==1)])/len(df)\n",
    "    if pxy==0:#Log 0 cannot happen\n",
    "        pmi = math.log((pxy+0.0001)/(px*py))\n",
    "    else:\n",
    "        pmi = math.log(pxy/(px*py))\n",
    "    return pmi"
   ]
  },
  {
   "cell_type": "code",
   "execution_count": 76,
   "metadata": {},
   "outputs": [
    {
     "data": {
      "text/plain": [
       "-0.017267140740509255"
      ]
     },
     "execution_count": 76,
     "metadata": {},
     "output_type": "execute_result"
    }
   ],
   "source": [
    "pmiIndivCal(finaldf,'hotel','positive')"
   ]
  },
  {
   "cell_type": "code",
   "execution_count": 77,
   "metadata": {},
   "outputs": [],
   "source": [
    "def pmiForAllCal(df, label_column='Experience', topk=topk):\n",
    "    #Try calculate all the pmi for top k and store them into one pmidf dataframe\n",
    "    pmilist = []\n",
    "    pmiposlist = []\n",
    "    pmineglist = []\n",
    "    for word in topk:\n",
    "        pmilist.append([word[0]]+[pmiCal(df,word[0])])\n",
    "        pmiposlist.append([word[0]]+[pmiIndivCal(df,word[0],'positive',label_column)])\n",
    "        pmineglist.append([word[0]]+[pmiIndivCal(df,word[0],'negative',label_column)])\n",
    "    pmidf = pd.DataFrame(pmilist)\n",
    "    pmiposlist = pd.DataFrame(pmiposlist)\n",
    "    pmineglist = pd.DataFrame(pmineglist)\n",
    "    pmiposlist.columns = ['word','pmi']\n",
    "    pmineglist.columns = ['word','pmi']\n",
    "    pmidf.columns = ['word','pmi']\n",
    "    return pmiposlist, pmineglist, pmidf"
   ]
  },
  {
   "cell_type": "code",
   "execution_count": 78,
   "metadata": {},
   "outputs": [],
   "source": [
    "pmiposlist, pmineglist, pmidf = pmiForAllCal(finaldf)"
   ]
  },
  {
   "cell_type": "code",
   "execution_count": 79,
   "metadata": {
    "scrolled": true
   },
   "outputs": [
    {
     "data": {
      "text/html": [
       "<div>\n",
       "<style scoped>\n",
       "    .dataframe tbody tr th:only-of-type {\n",
       "        vertical-align: middle;\n",
       "    }\n",
       "\n",
       "    .dataframe tbody tr th {\n",
       "        vertical-align: top;\n",
       "    }\n",
       "\n",
       "    .dataframe thead th {\n",
       "        text-align: right;\n",
       "    }\n",
       "</style>\n",
       "<table border=\"1\" class=\"dataframe\">\n",
       "  <thead>\n",
       "    <tr style=\"text-align: right;\">\n",
       "      <th></th>\n",
       "      <th>word</th>\n",
       "      <th>pmi</th>\n",
       "    </tr>\n",
       "  </thead>\n",
       "  <tbody>\n",
       "    <tr>\n",
       "      <th>48</th>\n",
       "      <td>beautiful</td>\n",
       "      <td>0.020880</td>\n",
       "    </tr>\n",
       "    <tr>\n",
       "      <th>31</th>\n",
       "      <td>helpful</td>\n",
       "      <td>0.020150</td>\n",
       "    </tr>\n",
       "    <tr>\n",
       "      <th>8</th>\n",
       "      <td>beach</td>\n",
       "      <td>0.017515</td>\n",
       "    </tr>\n",
       "    <tr>\n",
       "      <th>2</th>\n",
       "      <td>great</td>\n",
       "      <td>0.017327</td>\n",
       "    </tr>\n",
       "    <tr>\n",
       "      <th>16</th>\n",
       "      <td>comfortable</td>\n",
       "      <td>0.015198</td>\n",
       "    </tr>\n",
       "  </tbody>\n",
       "</table>\n",
       "</div>"
      ],
      "text/plain": [
       "           word       pmi\n",
       "48    beautiful  0.020880\n",
       "31      helpful  0.020150\n",
       "8         beach  0.017515\n",
       "2         great  0.017327\n",
       "16  comfortable  0.015198"
      ]
     },
     "execution_count": 79,
     "metadata": {},
     "output_type": "execute_result"
    }
   ],
   "source": [
    "#Sorted top pmi words for positive reviews\n",
    "pmiposlist.sort_values('pmi',ascending=0).head()"
   ]
  },
  {
   "cell_type": "code",
   "execution_count": 82,
   "metadata": {
    "scrolled": true
   },
   "outputs": [
    {
     "data": {
      "text/html": [
       "<div>\n",
       "<style scoped>\n",
       "    .dataframe tbody tr th:only-of-type {\n",
       "        vertical-align: middle;\n",
       "    }\n",
       "\n",
       "    .dataframe tbody tr th {\n",
       "        vertical-align: top;\n",
       "    }\n",
       "\n",
       "    .dataframe thead th {\n",
       "        text-align: right;\n",
       "    }\n",
       "</style>\n",
       "<table border=\"1\" class=\"dataframe\">\n",
       "  <thead>\n",
       "    <tr style=\"text-align: right;\">\n",
       "      <th></th>\n",
       "      <th>word</th>\n",
       "      <th>pmi</th>\n",
       "    </tr>\n",
       "  </thead>\n",
       "  <tbody>\n",
       "    <tr>\n",
       "      <th>29</th>\n",
       "      <td>quot</td>\n",
       "      <td>0.869468</td>\n",
       "    </tr>\n",
       "    <tr>\n",
       "      <th>19</th>\n",
       "      <td>night</td>\n",
       "      <td>0.666707</td>\n",
       "    </tr>\n",
       "    <tr>\n",
       "      <th>32</th>\n",
       "      <td>get</td>\n",
       "      <td>0.626517</td>\n",
       "    </tr>\n",
       "    <tr>\n",
       "      <th>17</th>\n",
       "      <td>breakfast</td>\n",
       "      <td>0.583484</td>\n",
       "    </tr>\n",
       "    <tr>\n",
       "      <th>39</th>\n",
       "      <td>could</td>\n",
       "      <td>0.517864</td>\n",
       "    </tr>\n",
       "  </tbody>\n",
       "</table>\n",
       "</div>"
      ],
      "text/plain": [
       "         word       pmi\n",
       "29       quot  0.869468\n",
       "19      night  0.666707\n",
       "32        get  0.626517\n",
       "17  breakfast  0.583484\n",
       "39      could  0.517864"
      ]
     },
     "execution_count": 82,
     "metadata": {},
     "output_type": "execute_result"
    }
   ],
   "source": [
    "#Sorted top pmi words for positive reviews\n",
    "pmineglist.sort_values('pmi',ascending=0).head()"
   ]
  },
  {
   "cell_type": "markdown",
   "metadata": {},
   "source": [
    "#### PMI concluding remarks:\n",
    "The PMI scores are higher than just the mutual information scores, this is because mutual information scores are an average of all the senarios in which the term and the emotion are present and as previously established, there is considerable over lap of words being present in both the lists. PMI however involves itself for the word in the positive or negative context only, the ambiguity is removed. Therefore, the number of words present from a postive or negative review is already classified and word is then better associated with that classification. "
   ]
  },
  {
   "cell_type": "code",
   "execution_count": 83,
   "metadata": {},
   "outputs": [],
   "source": [
    "pmiposlist_phrase, pmineglist_phrase, pmidf_phrase = pmiForAllCal(finaldf_phrase,topk = topk_phrase)"
   ]
  },
  {
   "cell_type": "code",
   "execution_count": 84,
   "metadata": {
    "scrolled": true
   },
   "outputs": [
    {
     "data": {
      "text/html": [
       "<div>\n",
       "<style scoped>\n",
       "    .dataframe tbody tr th:only-of-type {\n",
       "        vertical-align: middle;\n",
       "    }\n",
       "\n",
       "    .dataframe tbody tr th {\n",
       "        vertical-align: top;\n",
       "    }\n",
       "\n",
       "    .dataframe thead th {\n",
       "        text-align: right;\n",
       "    }\n",
       "</style>\n",
       "<table border=\"1\" class=\"dataframe\">\n",
       "  <thead>\n",
       "    <tr style=\"text-align: right;\">\n",
       "      <th></th>\n",
       "      <th>word</th>\n",
       "      <th>pmi</th>\n",
       "    </tr>\n",
       "  </thead>\n",
       "  <tbody>\n",
       "    <tr>\n",
       "      <th>47</th>\n",
       "      <td>easi access</td>\n",
       "      <td>0.030577</td>\n",
       "    </tr>\n",
       "    <tr>\n",
       "      <th>11</th>\n",
       "      <td>full kitchen</td>\n",
       "      <td>0.028695</td>\n",
       "    </tr>\n",
       "    <tr>\n",
       "      <th>3</th>\n",
       "      <td>great place</td>\n",
       "      <td>0.028677</td>\n",
       "    </tr>\n",
       "    <tr>\n",
       "      <th>44</th>\n",
       "      <td>help staff</td>\n",
       "      <td>0.027929</td>\n",
       "    </tr>\n",
       "    <tr>\n",
       "      <th>45</th>\n",
       "      <td>rathtrevor beach</td>\n",
       "      <td>0.026653</td>\n",
       "    </tr>\n",
       "  </tbody>\n",
       "</table>\n",
       "</div>"
      ],
      "text/plain": [
       "                word       pmi\n",
       "47       easi access  0.030577\n",
       "11      full kitchen  0.028695\n",
       "3        great place  0.028677\n",
       "44        help staff  0.027929\n",
       "45  rathtrevor beach  0.026653"
      ]
     },
     "execution_count": 84,
     "metadata": {},
     "output_type": "execute_result"
    }
   ],
   "source": [
    "pmiposlist_phrase.sort_values('pmi',ascending=0).head()"
   ]
  },
  {
   "cell_type": "code",
   "execution_count": 85,
   "metadata": {
    "scrolled": true
   },
   "outputs": [
    {
     "data": {
      "text/html": [
       "<div>\n",
       "<style scoped>\n",
       "    .dataframe tbody tr th:only-of-type {\n",
       "        vertical-align: middle;\n",
       "    }\n",
       "\n",
       "    .dataframe tbody tr th {\n",
       "        vertical-align: top;\n",
       "    }\n",
       "\n",
       "    .dataframe thead th {\n",
       "        text-align: right;\n",
       "    }\n",
       "</style>\n",
       "<table border=\"1\" class=\"dataframe\">\n",
       "  <thead>\n",
       "    <tr style=\"text-align: right;\">\n",
       "      <th></th>\n",
       "      <th>word</th>\n",
       "      <th>pmi</th>\n",
       "    </tr>\n",
       "  </thead>\n",
       "  <tbody>\n",
       "    <tr>\n",
       "      <th>40</th>\n",
       "      <td>continent breakfast</td>\n",
       "      <td>1.762871</td>\n",
       "    </tr>\n",
       "    <tr>\n",
       "      <th>27</th>\n",
       "      <td>next morn</td>\n",
       "      <td>1.290543</td>\n",
       "    </tr>\n",
       "    <tr>\n",
       "      <th>32</th>\n",
       "      <td>next day</td>\n",
       "      <td>1.270637</td>\n",
       "    </tr>\n",
       "    <tr>\n",
       "      <th>30</th>\n",
       "      <td>park lot</td>\n",
       "      <td>1.175454</td>\n",
       "    </tr>\n",
       "    <tr>\n",
       "      <th>1</th>\n",
       "      <td>front desk</td>\n",
       "      <td>1.041710</td>\n",
       "    </tr>\n",
       "  </tbody>\n",
       "</table>\n",
       "</div>"
      ],
      "text/plain": [
       "                   word       pmi\n",
       "40  continent breakfast  1.762871\n",
       "27            next morn  1.290543\n",
       "32             next day  1.270637\n",
       "30             park lot  1.175454\n",
       "1            front desk  1.041710"
      ]
     },
     "execution_count": 85,
     "metadata": {},
     "output_type": "execute_result"
    }
   ],
   "source": [
    "pmineglist_phrase.sort_values('pmi',ascending=0).head()"
   ]
  },
  {
   "cell_type": "markdown",
   "metadata": {},
   "source": [
    "#### PMI for top-50 noun phrases concluding notes: \n",
    "The same phrases were repeated for the phrases for the positive and negative reviews, with opposite signs. This is because the top K phrases are gotten from the same dataframe, and are mapped to opposite classes (positive and negative), The topk words remain constant as they are from the same dataframe, but the context they are applied to are different (positive/negative) - hence the opposite signs for the different lists.<br>\n",
    "The values are different because of the number of times a certain phrase is repeated in the positive context is different then the number of times it is repeated in the negative context. <br> Over all the values for the PMI was larger than that for just MI because mututal information was an average of all the occurrence of the terms and a lot of the times, the terms exisited in both the positive and the negative context, hence the words were not able to learn if its occurrence was to do with positive or the negative class. For PMI, we are splitting it into the negative and positive lists, therefore if a phrase exists in a negative tweet, it has more information to give with regards to the negative tweet."
   ]
  },
  {
   "cell_type": "markdown",
   "metadata": {},
   "source": [
    "#### Analysis repeated for the single top and single bottom hotel (according to the ground truth rating). \n",
    "The Stansburys Guest House recieved the highest binary score with number of reviews filter. Howard Johnson Hotel Port Alberni recieved the lowest binary score. "
   ]
  },
  {
   "cell_type": "code",
   "execution_count": 55,
   "metadata": {},
   "outputs": [
    {
     "data": {
      "text/html": [
       "<div>\n",
       "<style scoped>\n",
       "    .dataframe tbody tr th:only-of-type {\n",
       "        vertical-align: middle;\n",
       "    }\n",
       "\n",
       "    .dataframe tbody tr th {\n",
       "        vertical-align: top;\n",
       "    }\n",
       "\n",
       "    .dataframe thead th {\n",
       "        text-align: right;\n",
       "    }\n",
       "</style>\n",
       "<table border=\"1\" class=\"dataframe\">\n",
       "  <thead>\n",
       "    <tr style=\"text-align: right;\">\n",
       "      <th></th>\n",
       "      <th>Link</th>\n",
       "      <th>Hotel_Name</th>\n",
       "      <th>Review text</th>\n",
       "      <th>Ratings</th>\n",
       "      <th>Experience</th>\n",
       "    </tr>\n",
       "  </thead>\n",
       "  <tbody>\n",
       "    <tr>\n",
       "      <th>28</th>\n",
       "      <td>data/ca/1015432/3589554/163624982.html</td>\n",
       "      <td>Stansburys Guest House</td>\n",
       "      <td>\"Stayed for a week in the Stansbury\\\\'s guest ...</td>\n",
       "      <td>5</td>\n",
       "      <td>positive</td>\n",
       "    </tr>\n",
       "    <tr>\n",
       "      <th>29</th>\n",
       "      <td>data/ca/1015432/3589554/165371253.html</td>\n",
       "      <td>Stansburys Guest House</td>\n",
       "      <td>\"A group of 6 of us stayed here for a weekend ...</td>\n",
       "      <td>5</td>\n",
       "      <td>positive</td>\n",
       "    </tr>\n",
       "    <tr>\n",
       "      <th>30</th>\n",
       "      <td>data/ca/1015432/3589554/169057536.html</td>\n",
       "      <td>Stansburys Guest House</td>\n",
       "      <td>\"Visiting from New Zealand,we were fortunate t...</td>\n",
       "      <td>5</td>\n",
       "      <td>positive</td>\n",
       "    </tr>\n",
       "    <tr>\n",
       "      <th>31</th>\n",
       "      <td>data/ca/1015432/3589554/210674359.html</td>\n",
       "      <td>Stansburys Guest House</td>\n",
       "      <td>\"Gwen and Scott have a beautiful Guest House a...</td>\n",
       "      <td>5</td>\n",
       "      <td>positive</td>\n",
       "    </tr>\n",
       "    <tr>\n",
       "      <th>32</th>\n",
       "      <td>data/ca/1015432/3589554/215774198.html</td>\n",
       "      <td>Stansburys Guest House</td>\n",
       "      <td>\"A beautifully finished apartment with every c...</td>\n",
       "      <td>5</td>\n",
       "      <td>positive</td>\n",
       "    </tr>\n",
       "  </tbody>\n",
       "</table>\n",
       "</div>"
      ],
      "text/plain": [
       "                                      Link              Hotel_Name  \\\n",
       "28  data/ca/1015432/3589554/163624982.html  Stansburys Guest House   \n",
       "29  data/ca/1015432/3589554/165371253.html  Stansburys Guest House   \n",
       "30  data/ca/1015432/3589554/169057536.html  Stansburys Guest House   \n",
       "31  data/ca/1015432/3589554/210674359.html  Stansburys Guest House   \n",
       "32  data/ca/1015432/3589554/215774198.html  Stansburys Guest House   \n",
       "\n",
       "                                          Review text  Ratings Experience  \n",
       "28  \"Stayed for a week in the Stansbury\\\\'s guest ...        5   positive  \n",
       "29  \"A group of 6 of us stayed here for a weekend ...        5   positive  \n",
       "30  \"Visiting from New Zealand,we were fortunate t...        5   positive  \n",
       "31  \"Gwen and Scott have a beautiful Guest House a...        5   positive  \n",
       "32  \"A beautifully finished apartment with every c...        5   positive  "
      ]
     },
     "execution_count": 55,
     "metadata": {},
     "output_type": "execute_result"
    }
   ],
   "source": [
    "best_hotel_df = reviews_df[reviews_df['Hotel_Name']=='Stansburys Guest House']\n",
    "worst_hotel_df = reviews_df[reviews_df['Hotel_Name']=='Howard Johnson Hotel Port Alberni']\n",
    "best_hotel_df.head()"
   ]
  },
  {
   "cell_type": "code",
   "execution_count": 64,
   "metadata": {
    "scrolled": true
   },
   "outputs": [
    {
     "data": {
      "text/html": [
       "<div>\n",
       "<style scoped>\n",
       "    .dataframe tbody tr th:only-of-type {\n",
       "        vertical-align: middle;\n",
       "    }\n",
       "\n",
       "    .dataframe tbody tr th {\n",
       "        vertical-align: top;\n",
       "    }\n",
       "\n",
       "    .dataframe thead th {\n",
       "        text-align: right;\n",
       "    }\n",
       "</style>\n",
       "<table border=\"1\" class=\"dataframe\">\n",
       "  <thead>\n",
       "    <tr style=\"text-align: right;\">\n",
       "      <th></th>\n",
       "      <th>Link</th>\n",
       "      <th>Hotel_Name</th>\n",
       "      <th>Review</th>\n",
       "      <th>Ratings</th>\n",
       "      <th>Experience</th>\n",
       "    </tr>\n",
       "  </thead>\n",
       "  <tbody>\n",
       "    <tr>\n",
       "      <th>2152</th>\n",
       "      <td>data/ca/181778/249319/529705215.html</td>\n",
       "      <td>Howard Johnson Hotel Port Alberni</td>\n",
       "      <td>\"The visit was ok. Although the room was clean...</td>\n",
       "      <td>3</td>\n",
       "      <td>negative</td>\n",
       "    </tr>\n",
       "    <tr>\n",
       "      <th>2153</th>\n",
       "      <td>data/ca/181778/249319/539116260.html</td>\n",
       "      <td>Howard Johnson Hotel Port Alberni</td>\n",
       "      <td>\"The restaurant located at the Howard Johnson ...</td>\n",
       "      <td>1</td>\n",
       "      <td>negative</td>\n",
       "    </tr>\n",
       "    <tr>\n",
       "      <th>2154</th>\n",
       "      <td>data/ca/181778/249319/545593381.html</td>\n",
       "      <td>Howard Johnson Hotel Port Alberni</td>\n",
       "      <td>\"There is a restaurant at this hotel, called  ...</td>\n",
       "      <td>4</td>\n",
       "      <td>positive</td>\n",
       "    </tr>\n",
       "    <tr>\n",
       "      <th>2155</th>\n",
       "      <td>data/ca/181778/249319/624765088.html</td>\n",
       "      <td>Howard Johnson Hotel Port Alberni</td>\n",
       "      <td>\"Foods ok no great but ok, ok place for lunch ...</td>\n",
       "      <td>3</td>\n",
       "      <td>negative</td>\n",
       "    </tr>\n",
       "    <tr>\n",
       "      <th>2156</th>\n",
       "      <td>data/ca/181778/249319/63063041.html</td>\n",
       "      <td>Howard Johnson Hotel Port Alberni</td>\n",
       "      <td>\"The good: The room was a great price at $69. ...</td>\n",
       "      <td>2</td>\n",
       "      <td>negative</td>\n",
       "    </tr>\n",
       "  </tbody>\n",
       "</table>\n",
       "</div>"
      ],
      "text/plain": [
       "                                      Link                         Hotel_Name  \\\n",
       "2152  data/ca/181778/249319/529705215.html  Howard Johnson Hotel Port Alberni   \n",
       "2153  data/ca/181778/249319/539116260.html  Howard Johnson Hotel Port Alberni   \n",
       "2154  data/ca/181778/249319/545593381.html  Howard Johnson Hotel Port Alberni   \n",
       "2155  data/ca/181778/249319/624765088.html  Howard Johnson Hotel Port Alberni   \n",
       "2156   data/ca/181778/249319/63063041.html  Howard Johnson Hotel Port Alberni   \n",
       "\n",
       "                                                 Review  Ratings Experience  \n",
       "2152  \"The visit was ok. Although the room was clean...        3   negative  \n",
       "2153  \"The restaurant located at the Howard Johnson ...        1   negative  \n",
       "2154  \"There is a restaurant at this hotel, called  ...        4   positive  \n",
       "2155  \"Foods ok no great but ok, ok place for lunch ...        3   negative  \n",
       "2156  \"The good: The room was a great price at $69. ...        2   negative  "
      ]
     },
     "execution_count": 64,
     "metadata": {},
     "output_type": "execute_result"
    }
   ],
   "source": [
    "BestWorst_DF = best_hotel_df.append(worst_hotel_df)\n",
    "BestWorst_DF.rename(columns={'Review text':'Review'},inplace=True)\n",
    "BestWorst_DF.tail()"
   ]
  },
  {
   "cell_type": "code",
   "execution_count": 65,
   "metadata": {},
   "outputs": [],
   "source": [
    "Ratings = BestWorst_DF['Ratings']\n",
    "reviewDF = pd.concat([compound_vader_sentiment_scores_DF, Ratings],axis =1)\n"
   ]
  },
  {
   "cell_type": "code",
   "execution_count": 66,
   "metadata": {
    "scrolled": true
   },
   "outputs": [
    {
     "data": {
      "text/plain": [
       "[('guest hous', 19),\n",
       " ('howard johnson', 8),\n",
       " ('mountain bike', 7),\n",
       " ('main street', 7),\n",
       " ('port alberni', 7),\n",
       " ('front desk', 7),\n",
       " ('great place', 6),\n",
       " ('bedroom suit', 5),\n",
       " ('air condition', 5),\n",
       " ('comox valley', 4)]"
      ]
     },
     "execution_count": 66,
     "metadata": {},
     "output_type": "execute_result"
    }
   ],
   "source": [
    "topk_bestworst, final_bestworstDF = newDataFrameTransformation(\n",
    "    compound_vader_sentiment_scores_DF,BestWorst_DF, k=50)\n",
    "topk_bestworst[:10]"
   ]
  },
  {
   "cell_type": "code",
   "execution_count": 67,
   "metadata": {},
   "outputs": [],
   "source": [
    "def pmiCal1(df, x):\n",
    "    pmilist=[]\n",
    "    for i in ['positive','negative']:\n",
    "        for j in [0,1]:\n",
    "            px = sum(df['Experience']==i)/len(df)\n",
    "            py = sum(df[x]==j)/len(df)\n",
    "            pxy = len(df[(df['Experience']==i) & (df[x]==j)])/len(df)\n",
    "            if pxy==0:#Log 0 cannot happen\n",
    "                if (px == 0 or py == 0):\n",
    "                    pmi = math.log((pxy+0.0001)/(px*py+0.0001))\n",
    "                else:\n",
    "                    pmi = math.log((pxy+0.0001)/(px*py))\n",
    "            else:\n",
    "                pmi = math.log(pxy/(px*py))\n",
    "            pmilist.append([i]+[j]+[px]+[py]+[pxy]+[pmi])\n",
    "    pmidf = pd.DataFrame(pmilist)\n",
    "    pmidf.columns = ['x','y','px','py','pxy','pmi']\n",
    "    return pmidf"
   ]
  },
  {
   "cell_type": "code",
   "execution_count": 68,
   "metadata": {},
   "outputs": [],
   "source": [
    "def pmiIndivCal1(df,x,gt, label_column='Experience'):\n",
    "    pmi = 0\n",
    "    px = sum(df[label_column]==gt)/len(df)\n",
    "    py = sum(df[x]==1)/len(df)\n",
    "    pxy = len(df[(df[label_column]==gt) & (df[x]==1)])/len(df)\n",
    "    if pxy==0:#Log 0 cannot happen\n",
    "        if (px ==0 or py == 0):\n",
    "            pmi = math.log((pxy+0.0001)/(px*py+0.0001))\n",
    "        else: \n",
    "            pmi = math.log((pxy+0.0001)/(px*py))\n",
    "    else:\n",
    "        pmi = math.log(pxy/(px*py))\n",
    "    return pmi"
   ]
  },
  {
   "cell_type": "code",
   "execution_count": 71,
   "metadata": {},
   "outputs": [],
   "source": [
    "def pmiForAllCal1(df, label_column='Experience', topk=topk):\n",
    "    #Try calculate all the pmi for top k and store them into one pmidf dataframe\n",
    "    pmilist = []\n",
    "    pmiposlist = []\n",
    "    pmineglist = []\n",
    "    for word in topk:\n",
    "        pmilist.append([word[0]]+[pmiCal1(df,word[0])])\n",
    "        pmiposlist.append([word[0]]+[pmiIndivCal1(df,word[0],'positive',label_column)])\n",
    "        pmineglist.append([word[0]]+[pmiIndivCal1(df,word[0],'negative',label_column)])\n",
    "    pmidf = pd.DataFrame(pmilist)\n",
    "    pmiposlist = pd.DataFrame(pmiposlist)\n",
    "    pmineglist = pd.DataFrame(pmineglist)\n",
    "    pmiposlist.columns = ['word','pmi']\n",
    "    pmineglist.columns = ['word','pmi']\n",
    "    pmidf.columns = ['word','pmi']\n",
    "    return pmiposlist, pmineglist, pmidf"
   ]
  },
  {
   "cell_type": "code",
   "execution_count": 73,
   "metadata": {
    "scrolled": true
   },
   "outputs": [],
   "source": [
    "pmiposlist_bestHotel, pmineglist_bestHotel, pmidf_bestHotel = pmiForAllCal1(final_bestworstDF, topk = topk_bestworst)\n"
   ]
  },
  {
   "cell_type": "code",
   "execution_count": 74,
   "metadata": {
    "scrolled": true
   },
   "outputs": [
    {
     "data": {
      "text/html": [
       "<div>\n",
       "<style scoped>\n",
       "    .dataframe tbody tr th:only-of-type {\n",
       "        vertical-align: middle;\n",
       "    }\n",
       "\n",
       "    .dataframe tbody tr th {\n",
       "        vertical-align: top;\n",
       "    }\n",
       "\n",
       "    .dataframe thead th {\n",
       "        text-align: right;\n",
       "    }\n",
       "</style>\n",
       "<table border=\"1\" class=\"dataframe\">\n",
       "  <thead>\n",
       "    <tr style=\"text-align: right;\">\n",
       "      <th></th>\n",
       "      <th>word</th>\n",
       "      <th>pmi</th>\n",
       "    </tr>\n",
       "  </thead>\n",
       "  <tbody>\n",
       "    <tr>\n",
       "      <th>0</th>\n",
       "      <td>guest hous</td>\n",
       "      <td>0.351376</td>\n",
       "    </tr>\n",
       "    <tr>\n",
       "      <th>38</th>\n",
       "      <td>bike trail</td>\n",
       "      <td>0.351376</td>\n",
       "    </tr>\n",
       "    <tr>\n",
       "      <th>23</th>\n",
       "      <td>bathroom fan</td>\n",
       "      <td>0.351376</td>\n",
       "    </tr>\n",
       "    <tr>\n",
       "      <th>24</th>\n",
       "      <td>front desk staff</td>\n",
       "      <td>0.351376</td>\n",
       "    </tr>\n",
       "    <tr>\n",
       "      <th>1</th>\n",
       "      <td>howard johnson</td>\n",
       "      <td>0.351376</td>\n",
       "    </tr>\n",
       "    <tr>\n",
       "      <th>33</th>\n",
       "      <td>wine glass</td>\n",
       "      <td>0.351376</td>\n",
       "    </tr>\n",
       "    <tr>\n",
       "      <th>34</th>\n",
       "      <td>host gwen</td>\n",
       "      <td>0.351376</td>\n",
       "    </tr>\n",
       "    <tr>\n",
       "      <th>35</th>\n",
       "      <td>superb host</td>\n",
       "      <td>0.351376</td>\n",
       "    </tr>\n",
       "    <tr>\n",
       "      <th>36</th>\n",
       "      <td>much troubl</td>\n",
       "      <td>0.351376</td>\n",
       "    </tr>\n",
       "    <tr>\n",
       "      <th>40</th>\n",
       "      <td>short drive</td>\n",
       "      <td>0.351376</td>\n",
       "    </tr>\n",
       "  </tbody>\n",
       "</table>\n",
       "</div>"
      ],
      "text/plain": [
       "                word       pmi\n",
       "0         guest hous  0.351376\n",
       "38        bike trail  0.351376\n",
       "23      bathroom fan  0.351376\n",
       "24  front desk staff  0.351376\n",
       "1     howard johnson  0.351376\n",
       "33        wine glass  0.351376\n",
       "34         host gwen  0.351376\n",
       "35       superb host  0.351376\n",
       "36       much troubl  0.351376\n",
       "40       short drive  0.351376"
      ]
     },
     "execution_count": 74,
     "metadata": {},
     "output_type": "execute_result"
    }
   ],
   "source": [
    "#Sorted top pmi words for positive reviews\n",
    "y = pmiposlist_bestHotel.sort_values('pmi',ascending=0)\n",
    "y[:10]"
   ]
  },
  {
   "cell_type": "code",
   "execution_count": 75,
   "metadata": {
    "scrolled": true
   },
   "outputs": [
    {
     "data": {
      "text/html": [
       "<div>\n",
       "<style scoped>\n",
       "    .dataframe tbody tr th:only-of-type {\n",
       "        vertical-align: middle;\n",
       "    }\n",
       "\n",
       "    .dataframe tbody tr th {\n",
       "        vertical-align: top;\n",
       "    }\n",
       "\n",
       "    .dataframe thead th {\n",
       "        text-align: right;\n",
       "    }\n",
       "</style>\n",
       "<table border=\"1\" class=\"dataframe\">\n",
       "  <thead>\n",
       "    <tr style=\"text-align: right;\">\n",
       "      <th></th>\n",
       "      <th>word</th>\n",
       "      <th>pmi</th>\n",
       "    </tr>\n",
       "  </thead>\n",
       "  <tbody>\n",
       "    <tr>\n",
       "      <th>30</th>\n",
       "      <td>amaz host</td>\n",
       "      <td>0.0</td>\n",
       "    </tr>\n",
       "    <tr>\n",
       "      <th>9</th>\n",
       "      <td>comox valley</td>\n",
       "      <td>0.0</td>\n",
       "    </tr>\n",
       "    <tr>\n",
       "      <th>37</th>\n",
       "      <td>great locat</td>\n",
       "      <td>0.0</td>\n",
       "    </tr>\n",
       "    <tr>\n",
       "      <th>26</th>\n",
       "      <td>first time</td>\n",
       "      <td>0.0</td>\n",
       "    </tr>\n",
       "    <tr>\n",
       "      <th>15</th>\n",
       "      <td>next morn</td>\n",
       "      <td>0.0</td>\n",
       "    </tr>\n",
       "  </tbody>\n",
       "</table>\n",
       "</div>"
      ],
      "text/plain": [
       "            word  pmi\n",
       "30     amaz host  0.0\n",
       "9   comox valley  0.0\n",
       "37   great locat  0.0\n",
       "26    first time  0.0\n",
       "15     next morn  0.0"
      ]
     },
     "execution_count": 75,
     "metadata": {},
     "output_type": "execute_result"
    }
   ],
   "source": [
    "#Sorted top pmi words for positive reviews\n",
    "x = pmineglist_bestHotel.sort_values('pmi',ascending=0)\n",
    "x.head()"
   ]
  },
  {
   "cell_type": "code",
   "execution_count": 78,
   "metadata": {
    "scrolled": true
   },
   "outputs": [
    {
     "ename": "MergeError",
     "evalue": "Data columns not unique: Index(['Hotel_Name', 'Ratings', 'Ratings', 'Experience'], dtype='object')",
     "output_type": "error",
     "traceback": [
      "\u001b[0;31m---------------------------------------------------------------------------\u001b[0m",
      "\u001b[0;31mMergeError\u001b[0m                                Traceback (most recent call last)",
      "\u001b[0;32m<ipython-input-78-d9c652aa35e6>\u001b[0m in \u001b[0;36m<module>\u001b[0;34m\u001b[0m\n\u001b[0;32m----> 1\u001b[0;31m \u001b[0mtopk_best1\u001b[0m\u001b[0;34m,\u001b[0m \u001b[0mfinal_bestDF1\u001b[0m \u001b[0;34m=\u001b[0m \u001b[0mnewDataFrameTransformation\u001b[0m\u001b[0;34m(\u001b[0m\u001b[0mbest_hotel_df\u001b[0m\u001b[0;34m,\u001b[0m\u001b[0mreviewDF\u001b[0m\u001b[0;34m,\u001b[0m \u001b[0mk\u001b[0m\u001b[0;34m=\u001b[0m\u001b[0;36m50\u001b[0m\u001b[0;34m)\u001b[0m\u001b[0;34m\u001b[0m\u001b[0;34m\u001b[0m\u001b[0m\n\u001b[0m\u001b[1;32m      2\u001b[0m \u001b[0;31m#topk_best1\u001b[0m\u001b[0;34m\u001b[0m\u001b[0;34m\u001b[0m\u001b[0;34m\u001b[0m\u001b[0m\n",
      "\u001b[0;32m<ipython-input-34-7156b967027e>\u001b[0m in \u001b[0;36mnewDataFrameTransformation\u001b[0;34m(hotelDf, reviewDF, k)\u001b[0m\n\u001b[1;32m     30\u001b[0m     \u001b[0mfinalreviewDf\u001b[0m \u001b[0;34m=\u001b[0m \u001b[0mreviewDF\u001b[0m\u001b[0;34m.\u001b[0m\u001b[0mjoin\u001b[0m\u001b[0;34m(\u001b[0m\u001b[0mfreqReviewDf\u001b[0m\u001b[0;34m)\u001b[0m\u001b[0;34m\u001b[0m\u001b[0;34m\u001b[0m\u001b[0m\n\u001b[1;32m     31\u001b[0m     \u001b[0;31m#print(topk)\u001b[0m\u001b[0;34m\u001b[0m\u001b[0;34m\u001b[0m\u001b[0;34m\u001b[0m\u001b[0m\n\u001b[0;32m---> 32\u001b[0;31m     \u001b[0mfinaldf\u001b[0m \u001b[0;34m=\u001b[0m \u001b[0mhotelDf\u001b[0m\u001b[0;34m[\u001b[0m\u001b[0;34m[\u001b[0m\u001b[0;34m'Hotel_Name'\u001b[0m\u001b[0;34m,\u001b[0m\u001b[0;34m'Ratings'\u001b[0m\u001b[0;34m,\u001b[0m\u001b[0;34m'Experience'\u001b[0m\u001b[0;34m]\u001b[0m\u001b[0;34m]\u001b[0m\u001b[0;34m.\u001b[0m\u001b[0mmerge\u001b[0m\u001b[0;34m(\u001b[0m\u001b[0mfinalreviewDf\u001b[0m\u001b[0;34m)\u001b[0m\u001b[0;34m\u001b[0m\u001b[0;34m\u001b[0m\u001b[0m\n\u001b[0m\u001b[1;32m     33\u001b[0m \u001b[0;34m\u001b[0m\u001b[0m\n\u001b[1;32m     34\u001b[0m     \u001b[0;32mreturn\u001b[0m \u001b[0mtopk\u001b[0m\u001b[0;34m,\u001b[0m \u001b[0mfinaldf\u001b[0m\u001b[0;34m\u001b[0m\u001b[0;34m\u001b[0m\u001b[0m\n",
      "\u001b[0;32m~/anaconda3/lib/python3.7/site-packages/pandas/core/frame.py\u001b[0m in \u001b[0;36mmerge\u001b[0;34m(self, right, how, on, left_on, right_on, left_index, right_index, sort, suffixes, copy, indicator, validate)\u001b[0m\n\u001b[1;32m   6866\u001b[0m                      \u001b[0mright_on\u001b[0m\u001b[0;34m=\u001b[0m\u001b[0mright_on\u001b[0m\u001b[0;34m,\u001b[0m \u001b[0mleft_index\u001b[0m\u001b[0;34m=\u001b[0m\u001b[0mleft_index\u001b[0m\u001b[0;34m,\u001b[0m\u001b[0;34m\u001b[0m\u001b[0;34m\u001b[0m\u001b[0m\n\u001b[1;32m   6867\u001b[0m                      \u001b[0mright_index\u001b[0m\u001b[0;34m=\u001b[0m\u001b[0mright_index\u001b[0m\u001b[0;34m,\u001b[0m \u001b[0msort\u001b[0m\u001b[0;34m=\u001b[0m\u001b[0msort\u001b[0m\u001b[0;34m,\u001b[0m \u001b[0msuffixes\u001b[0m\u001b[0;34m=\u001b[0m\u001b[0msuffixes\u001b[0m\u001b[0;34m,\u001b[0m\u001b[0;34m\u001b[0m\u001b[0;34m\u001b[0m\u001b[0m\n\u001b[0;32m-> 6868\u001b[0;31m                      copy=copy, indicator=indicator, validate=validate)\n\u001b[0m\u001b[1;32m   6869\u001b[0m \u001b[0;34m\u001b[0m\u001b[0m\n\u001b[1;32m   6870\u001b[0m     \u001b[0;32mdef\u001b[0m \u001b[0mround\u001b[0m\u001b[0;34m(\u001b[0m\u001b[0mself\u001b[0m\u001b[0;34m,\u001b[0m \u001b[0mdecimals\u001b[0m\u001b[0;34m=\u001b[0m\u001b[0;36m0\u001b[0m\u001b[0;34m,\u001b[0m \u001b[0;34m*\u001b[0m\u001b[0margs\u001b[0m\u001b[0;34m,\u001b[0m \u001b[0;34m**\u001b[0m\u001b[0mkwargs\u001b[0m\u001b[0;34m)\u001b[0m\u001b[0;34m:\u001b[0m\u001b[0;34m\u001b[0m\u001b[0;34m\u001b[0m\u001b[0m\n",
      "\u001b[0;32m~/anaconda3/lib/python3.7/site-packages/pandas/core/reshape/merge.py\u001b[0m in \u001b[0;36mmerge\u001b[0;34m(left, right, how, on, left_on, right_on, left_index, right_index, sort, suffixes, copy, indicator, validate)\u001b[0m\n\u001b[1;32m     45\u001b[0m                          \u001b[0mright_index\u001b[0m\u001b[0;34m=\u001b[0m\u001b[0mright_index\u001b[0m\u001b[0;34m,\u001b[0m \u001b[0msort\u001b[0m\u001b[0;34m=\u001b[0m\u001b[0msort\u001b[0m\u001b[0;34m,\u001b[0m \u001b[0msuffixes\u001b[0m\u001b[0;34m=\u001b[0m\u001b[0msuffixes\u001b[0m\u001b[0;34m,\u001b[0m\u001b[0;34m\u001b[0m\u001b[0;34m\u001b[0m\u001b[0m\n\u001b[1;32m     46\u001b[0m                          \u001b[0mcopy\u001b[0m\u001b[0;34m=\u001b[0m\u001b[0mcopy\u001b[0m\u001b[0;34m,\u001b[0m \u001b[0mindicator\u001b[0m\u001b[0;34m=\u001b[0m\u001b[0mindicator\u001b[0m\u001b[0;34m,\u001b[0m\u001b[0;34m\u001b[0m\u001b[0;34m\u001b[0m\u001b[0m\n\u001b[0;32m---> 47\u001b[0;31m                          validate=validate)\n\u001b[0m\u001b[1;32m     48\u001b[0m     \u001b[0;32mreturn\u001b[0m \u001b[0mop\u001b[0m\u001b[0;34m.\u001b[0m\u001b[0mget_result\u001b[0m\u001b[0;34m(\u001b[0m\u001b[0;34m)\u001b[0m\u001b[0;34m\u001b[0m\u001b[0;34m\u001b[0m\u001b[0m\n\u001b[1;32m     49\u001b[0m \u001b[0;34m\u001b[0m\u001b[0m\n",
      "\u001b[0;32m~/anaconda3/lib/python3.7/site-packages/pandas/core/reshape/merge.py\u001b[0m in \u001b[0;36m__init__\u001b[0;34m(self, left, right, how, on, left_on, right_on, axis, left_index, right_index, sort, suffixes, copy, indicator, validate)\u001b[0m\n\u001b[1;32m    522\u001b[0m             \u001b[0mwarnings\u001b[0m\u001b[0;34m.\u001b[0m\u001b[0mwarn\u001b[0m\u001b[0;34m(\u001b[0m\u001b[0mmsg\u001b[0m\u001b[0;34m,\u001b[0m \u001b[0mUserWarning\u001b[0m\u001b[0;34m)\u001b[0m\u001b[0;34m\u001b[0m\u001b[0;34m\u001b[0m\u001b[0m\n\u001b[1;32m    523\u001b[0m \u001b[0;34m\u001b[0m\u001b[0m\n\u001b[0;32m--> 524\u001b[0;31m         \u001b[0mself\u001b[0m\u001b[0;34m.\u001b[0m\u001b[0m_validate_specification\u001b[0m\u001b[0;34m(\u001b[0m\u001b[0;34m)\u001b[0m\u001b[0;34m\u001b[0m\u001b[0;34m\u001b[0m\u001b[0m\n\u001b[0m\u001b[1;32m    525\u001b[0m \u001b[0;34m\u001b[0m\u001b[0m\n\u001b[1;32m    526\u001b[0m         \u001b[0;31m# note this function has side effects\u001b[0m\u001b[0;34m\u001b[0m\u001b[0;34m\u001b[0m\u001b[0;34m\u001b[0m\u001b[0m\n",
      "\u001b[0;32m~/anaconda3/lib/python3.7/site-packages/pandas/core/reshape/merge.py\u001b[0m in \u001b[0;36m_validate_specification\u001b[0;34m(self)\u001b[0m\n\u001b[1;32m   1034\u001b[0m                 \u001b[0;32mif\u001b[0m \u001b[0;32mnot\u001b[0m \u001b[0mcommon_cols\u001b[0m\u001b[0;34m.\u001b[0m\u001b[0mis_unique\u001b[0m\u001b[0;34m:\u001b[0m\u001b[0;34m\u001b[0m\u001b[0;34m\u001b[0m\u001b[0m\n\u001b[1;32m   1035\u001b[0m                     raise MergeError(\"Data columns not unique: {common!r}\"\n\u001b[0;32m-> 1036\u001b[0;31m                                      .format(common=common_cols))\n\u001b[0m\u001b[1;32m   1037\u001b[0m                 \u001b[0mself\u001b[0m\u001b[0;34m.\u001b[0m\u001b[0mleft_on\u001b[0m \u001b[0;34m=\u001b[0m \u001b[0mself\u001b[0m\u001b[0;34m.\u001b[0m\u001b[0mright_on\u001b[0m \u001b[0;34m=\u001b[0m \u001b[0mcommon_cols\u001b[0m\u001b[0;34m\u001b[0m\u001b[0;34m\u001b[0m\u001b[0m\n\u001b[1;32m   1038\u001b[0m         \u001b[0;32melif\u001b[0m \u001b[0mself\u001b[0m\u001b[0;34m.\u001b[0m\u001b[0mon\u001b[0m \u001b[0;32mis\u001b[0m \u001b[0;32mnot\u001b[0m \u001b[0;32mNone\u001b[0m\u001b[0;34m:\u001b[0m\u001b[0;34m\u001b[0m\u001b[0;34m\u001b[0m\u001b[0m\n",
      "\u001b[0;31mMergeError\u001b[0m: Data columns not unique: Index(['Hotel_Name', 'Ratings', 'Ratings', 'Experience'], dtype='object')"
     ]
    }
   ],
   "source": [
    "topk_best1, final_bestDF1 = newDataFrameTransformation(best_hotel_df,reviewDF, k=50)\n",
    "#topk_best1"
   ]
  },
  {
   "cell_type": "code",
   "execution_count": null,
   "metadata": {},
   "outputs": [],
   "source": [
    "pmiposlist_bestHotel, pmineglist_bestHotel, pmidf_bestHotel = pmiForAllCal1(final_bestDF1, topk = topk_best1)\n"
   ]
  },
  {
   "cell_type": "markdown",
   "metadata": {},
   "source": [
    "#### Hotel-specific insights about what is good and bad about these two hotels: \n",
    "The positive list did contain valuable information such that the guests particularly like their stay depending on their \"breakfast\" or the \"place\", or the \"location. The positive PMI value indicates that there was a strong correlation between the words and ratings they got. The negative list however, proved to be less informative as all the values were negative, which indicates that the terms cooccured less frequently with the negative class. This could be due to the fact that there were perhaps not many entries in the database to derive enough assupmtions.  "
   ]
  },
  {
   "cell_type": "markdown",
   "metadata": {},
   "source": [
    "### General Plots\n",
    "#### Histogram of ground truth and vader sentiments scores: "
   ]
  },
  {
   "cell_type": "code",
   "execution_count": 89,
   "metadata": {
    "scrolled": true
   },
   "outputs": [
    {
     "data": {
      "text/html": [
       "<div>\n",
       "<style scoped>\n",
       "    .dataframe tbody tr th:only-of-type {\n",
       "        vertical-align: middle;\n",
       "    }\n",
       "\n",
       "    .dataframe tbody tr th {\n",
       "        vertical-align: top;\n",
       "    }\n",
       "\n",
       "    .dataframe thead th {\n",
       "        text-align: right;\n",
       "    }\n",
       "</style>\n",
       "<table border=\"1\" class=\"dataframe\">\n",
       "  <thead>\n",
       "    <tr style=\"text-align: right;\">\n",
       "      <th></th>\n",
       "      <th>Review</th>\n",
       "      <th>Compound_Score</th>\n",
       "      <th>Experience</th>\n",
       "      <th>Hotel_Name</th>\n",
       "      <th>Exp_Index</th>\n",
       "      <th>Ratings_1</th>\n",
       "      <th>Ratings_2</th>\n",
       "      <th>Ratings_3</th>\n",
       "    </tr>\n",
       "  </thead>\n",
       "  <tbody>\n",
       "    <tr>\n",
       "      <th>0</th>\n",
       "      <td>\"I was looking for a place to sit and chill fo...</td>\n",
       "      <td>0.8442</td>\n",
       "      <td>positive</td>\n",
       "      <td>The Riding Fool Hostel</td>\n",
       "      <td>1</td>\n",
       "      <td>5</td>\n",
       "      <td>NaN</td>\n",
       "      <td>5</td>\n",
       "    </tr>\n",
       "    <tr>\n",
       "      <th>1</th>\n",
       "      <td>\"I stayed at the Riding Fool Hostel whilst I w...</td>\n",
       "      <td>0.9965</td>\n",
       "      <td>positive</td>\n",
       "      <td>The Riding Fool Hostel</td>\n",
       "      <td>1</td>\n",
       "      <td>5</td>\n",
       "      <td>NaN</td>\n",
       "      <td>5</td>\n",
       "    </tr>\n",
       "  </tbody>\n",
       "</table>\n",
       "</div>"
      ],
      "text/plain": [
       "                                              Review  Compound_Score  \\\n",
       "0  \"I was looking for a place to sit and chill fo...          0.8442   \n",
       "1  \"I stayed at the Riding Fool Hostel whilst I w...          0.9965   \n",
       "\n",
       "  Experience              Hotel_Name  Exp_Index  Ratings_1  Ratings_2  \\\n",
       "0   positive  The Riding Fool Hostel          1          5        NaN   \n",
       "1   positive  The Riding Fool Hostel          1          5        NaN   \n",
       "\n",
       "   Ratings_3  \n",
       "0          5  \n",
       "1          5  "
      ]
     },
     "execution_count": 89,
     "metadata": {},
     "output_type": "execute_result"
    }
   ],
   "source": [
    "x = reviews_df['Ratings']\n",
    "x_df = pd.DataFrame(x)\n",
    "review_temp_df = reviewDF.copy()\n",
    "reviewDF_graphs = pd.concat([review_temp_df, x_df], axis = 1)\n",
    "reviewDF_graphs.head()\n",
    "cols = []\n",
    "count = 1\n",
    "for column in reviewDF_graphs.columns:\n",
    "    if column == 'Ratings':\n",
    "        cols.append('Ratings_'+str(count))\n",
    "        count+=1\n",
    "        continue\n",
    "    cols.append(column)\n",
    "reviewDF_graphs.columns = cols\n",
    "reviewDF_graphs[:2]"
   ]
  },
  {
   "cell_type": "code",
   "execution_count": 86,
   "metadata": {},
   "outputs": [],
   "source": [
    "def getHistogram(measure, title):\n",
    "    if measure=='both':\n",
    "        x = [finaldf['Ratings'].values/5]\n",
    "        y = [finaldf['Compound_Score'].values]\n",
    "        bins = np.linspace(-1, 1, 100)\n",
    "        plt.title(title)\n",
    "        plt.hist(x, bins, label='Ratings')\n",
    "        plt.hist(y, bins, label='Vader Score')\n",
    "        plt.legend(loc='upper right')\n",
    "        plt.show()\n",
    "    \n",
    "    else:\n",
    "        plt.hist(finaldf[measure].values)\n",
    "        plt.title(title)\n",
    "        plt.xlabel(\"Value\")\n",
    "        plt.ylabel(\"Frequency\")\n",
    "        fig = plt.gcf()"
   ]
  },
  {
   "cell_type": "code",
   "execution_count": 84,
   "metadata": {
    "scrolled": true
   },
   "outputs": [
    {
     "data": {
      "image/png": "[encoded data removed]",
      "text/plain": [
       "<Figure size 432x288 with 1 Axes>"
      ]
     },
     "metadata": {
      "needs_background": "light"
     },
     "output_type": "display_data"
    }
   ],
   "source": [
    "getHistogram('Compound_Score', 'Vadar Sentiment Analysis')"
   ]
  },
  {
   "cell_type": "code",
   "execution_count": 82,
   "metadata": {},
   "outputs": [
    {
     "data": {
      "image/png": "[encoded data removed]",
      "text/plain": [
       "<Figure size 432x288 with 1 Axes>"
      ]
     },
     "metadata": {
      "needs_background": "light"
     },
     "output_type": "display_data"
    }
   ],
   "source": [
    "x = finaldf['Ratings'].values\n",
    "x = finaldf['Hotel_Name'].values\n",
    "getHistogram('Ratings', 'Experience')"
   ]
  },
  {
   "cell_type": "markdown",
   "metadata": {},
   "source": [
    "#### Differences\n",
    "While people experience (1-5 ratings) was quantified, the actual remarks given by the people paint a different story. This is in line with a previous observation, that even when giving a hotel a negative remark, there is some aspect of the review which is a positive remark followed by a \"but\". Therefore, it is fathomable that hotels with lower ratings would also be given a higher vader score, if their review had some positive comment in it. "
   ]
  },
  {
   "cell_type": "code",
   "execution_count": 87,
   "metadata": {},
   "outputs": [
    {
     "data": {
      "image/png": "[encoded data removed]",
      "text/plain": [
       "<Figure size 432x288 with 1 Axes>"
      ]
     },
     "metadata": {
      "needs_background": "light"
     },
     "output_type": "display_data"
    }
   ],
   "source": [
    "getHistogram('both', 'Experience vs vader')"
   ]
  },
  {
   "cell_type": "code",
   "execution_count": 92,
   "metadata": {
    "scrolled": true
   },
   "outputs": [],
   "source": [
    "a = finaldf['Hotel_Name']\n",
    "\n",
    "#df.sort_values(by='val', ascending=False)\n",
    "\n",
    "def count_elements(seq) -> dict:\n",
    "    \"\"\"Tally elements from `seq`.\"\"\"\n",
    "    hist = {}\n",
    "    for i in seq:\n",
    "        hist[i] = hist.get(i, 0) + 1\n",
    "    return hist\n",
    "\n",
    "count = count_elements(a)\n",
    "keys = list(count.keys())\n",
    "vals = list(count.values())\n",
    "#count_sorted = sorted(count.values())\n",
    "type(keys)\n",
    "data_tuples = list(zip(keys,vals))\n",
    "count = pd.DataFrame(data_tuples, columns=['Hotel','count'])\n",
    "count_sorted = count.sort_values(by = ['count'])\n"
   ]
  },
  {
   "cell_type": "code",
   "execution_count": 93,
   "metadata": {},
   "outputs": [
    {
     "data": {
      "image/png": "[encoded data removed]",
      "text/plain": [
       "<Figure size 1224x360 with 1 Axes>"
      ]
     },
     "metadata": {
      "needs_background": "light"
     },
     "output_type": "display_data"
    }
   ],
   "source": [
    "fig, ax = plt.subplots(figsize=(17,5))\n",
    "plt.setp(plt.xticks()[1], rotation=90)\n",
    "sns.catplot(x='Hotel', y ='count', palette=\"ch:.25\", kind= 'bar', data=count_sorted, ax = ax);\n",
    "plt.close(2)\n",
    "plt.title('Hotel reviews count')\n",
    "ax.set(xlabel='Hotel names', ylabel='Count')\n",
    "plt.show()"
   ]
  },
  {
   "cell_type": "markdown",
   "metadata": {},
   "source": [
    "#### Boxplots for ground truth and vader sentiment:"
   ]
  },
  {
   "cell_type": "code",
   "execution_count": 94,
   "metadata": {},
   "outputs": [
    {
     "data": {
      "image/png": "[encoded data removed]",
      "text/plain": [
       "<Figure size 360x360 with 1 Axes>"
      ]
     },
     "metadata": {
      "needs_background": "light"
     },
     "output_type": "display_data"
    }
   ],
   "source": [
    "sns.catplot(x=\"Experience\", y=\"Ratings_2\", kind=\"box\", data=reviewDF_graphs);"
   ]
  },
  {
   "cell_type": "code",
   "execution_count": 102,
   "metadata": {},
   "outputs": [],
   "source": [
    "\n",
    "stansbury_GT = reviewDF[reviewDF.Hotel_Name == 'Stansburys Guest House']\n",
    "Cedar_Song_GT = reviewDF[reviewDF.Hotel_Name == 'Cedar Song BB and Cottage']\n",
    "Stamp_Falls_GT = reviewDF[reviewDF.Hotel_Name == 'Stamp Falls B  B']\n",
    "Mozey_On_Inn_GT = reviewDF[reviewDF.Hotel_Name == 'Mozey-On-Inn']\n",
    "Nimpo_Lake_GT = reviewDF[reviewDF.Hotel_Name == 'Nimpo Lake Resort']\n",
    "\n",
    "gt_df1 = pd.concat([stansbury_GT,Cedar_Song_GT],axis = 0)\n",
    "gt_df2 = pd.concat([gt_df1,Stamp_Falls_GT],axis = 0)\n",
    "gt_df3 = pd.concat([gt_df2,Mozey_On_Inn_GT],axis = 0)\n",
    "gt_df4 = pd.concat([gt_df3,Nimpo_Lake_GT],axis = 0)\n"
   ]
  },
  {
   "cell_type": "code",
   "execution_count": 103,
   "metadata": {},
   "outputs": [
    {
     "data": {
      "text/html": [
       "<div>\n",
       "<style scoped>\n",
       "    .dataframe tbody tr th:only-of-type {\n",
       "        vertical-align: middle;\n",
       "    }\n",
       "\n",
       "    .dataframe tbody tr th {\n",
       "        vertical-align: top;\n",
       "    }\n",
       "\n",
       "    .dataframe thead th {\n",
       "        text-align: right;\n",
       "    }\n",
       "</style>\n",
       "<table border=\"1\" class=\"dataframe\">\n",
       "  <thead>\n",
       "    <tr style=\"text-align: right;\">\n",
       "      <th></th>\n",
       "      <th>Review</th>\n",
       "      <th>Compound_Score</th>\n",
       "      <th>Experience</th>\n",
       "      <th>Hotel_Name</th>\n",
       "      <th>Exp_Index</th>\n",
       "      <th>Ratings</th>\n",
       "      <th>Ratings</th>\n",
       "    </tr>\n",
       "  </thead>\n",
       "  <tbody>\n",
       "    <tr>\n",
       "      <th>28</th>\n",
       "      <td>\"Stayed for a week in the Stansbury\\\\'s guest ...</td>\n",
       "      <td>0.8682</td>\n",
       "      <td>positive</td>\n",
       "      <td>Stansburys Guest House</td>\n",
       "      <td>1</td>\n",
       "      <td>5</td>\n",
       "      <td>5.0</td>\n",
       "    </tr>\n",
       "    <tr>\n",
       "      <th>29</th>\n",
       "      <td>\"A group of 6 of us stayed here for a weekend ...</td>\n",
       "      <td>0.9367</td>\n",
       "      <td>positive</td>\n",
       "      <td>Stansburys Guest House</td>\n",
       "      <td>1</td>\n",
       "      <td>5</td>\n",
       "      <td>5.0</td>\n",
       "    </tr>\n",
       "    <tr>\n",
       "      <th>30</th>\n",
       "      <td>\"Visiting from New Zealand,we were fortunate t...</td>\n",
       "      <td>0.9652</td>\n",
       "      <td>positive</td>\n",
       "      <td>Stansburys Guest House</td>\n",
       "      <td>1</td>\n",
       "      <td>5</td>\n",
       "      <td>5.0</td>\n",
       "    </tr>\n",
       "    <tr>\n",
       "      <th>31</th>\n",
       "      <td>\"Gwen and Scott have a beautiful Guest House a...</td>\n",
       "      <td>0.9759</td>\n",
       "      <td>positive</td>\n",
       "      <td>Stansburys Guest House</td>\n",
       "      <td>1</td>\n",
       "      <td>5</td>\n",
       "      <td>5.0</td>\n",
       "    </tr>\n",
       "    <tr>\n",
       "      <th>32</th>\n",
       "      <td>\"A beautifully finished apartment with every c...</td>\n",
       "      <td>0.9807</td>\n",
       "      <td>positive</td>\n",
       "      <td>Stansburys Guest House</td>\n",
       "      <td>1</td>\n",
       "      <td>5</td>\n",
       "      <td>5.0</td>\n",
       "    </tr>\n",
       "    <tr>\n",
       "      <th>33</th>\n",
       "      <td>\"We happended upon Stansbury\\\\'s last year jus...</td>\n",
       "      <td>0.9860</td>\n",
       "      <td>positive</td>\n",
       "      <td>Stansburys Guest House</td>\n",
       "      <td>1</td>\n",
       "      <td>5</td>\n",
       "      <td>5.0</td>\n",
       "    </tr>\n",
       "    <tr>\n",
       "      <th>34</th>\n",
       "      <td>\"We stayed at Stansbury`s Guest House for 8 da...</td>\n",
       "      <td>0.9940</td>\n",
       "      <td>positive</td>\n",
       "      <td>Stansburys Guest House</td>\n",
       "      <td>1</td>\n",
       "      <td>5</td>\n",
       "      <td>5.0</td>\n",
       "    </tr>\n",
       "    <tr>\n",
       "      <th>35</th>\n",
       "      <td>\"We had an amazing stay at the Stansbury\\\\'s G...</td>\n",
       "      <td>0.9665</td>\n",
       "      <td>positive</td>\n",
       "      <td>Stansburys Guest House</td>\n",
       "      <td>1</td>\n",
       "      <td>5</td>\n",
       "      <td>5.0</td>\n",
       "    </tr>\n",
       "    <tr>\n",
       "      <th>36</th>\n",
       "      <td>\"Nine of us spent the weekend at the Stansbury...</td>\n",
       "      <td>0.9443</td>\n",
       "      <td>positive</td>\n",
       "      <td>Stansburys Guest House</td>\n",
       "      <td>1</td>\n",
       "      <td>5</td>\n",
       "      <td>5.0</td>\n",
       "    </tr>\n",
       "    <tr>\n",
       "      <th>37</th>\n",
       "      <td>\"This place has: very friendly hosts, is super...</td>\n",
       "      <td>0.9588</td>\n",
       "      <td>positive</td>\n",
       "      <td>Stansburys Guest House</td>\n",
       "      <td>1</td>\n",
       "      <td>5</td>\n",
       "      <td>5.0</td>\n",
       "    </tr>\n",
       "    <tr>\n",
       "      <th>38</th>\n",
       "      <td>\"Cumberland is cute little village in the Como...</td>\n",
       "      <td>0.9638</td>\n",
       "      <td>positive</td>\n",
       "      <td>Stansburys Guest House</td>\n",
       "      <td>1</td>\n",
       "      <td>5</td>\n",
       "      <td>5.0</td>\n",
       "    </tr>\n",
       "    <tr>\n",
       "      <th>39</th>\n",
       "      <td>\"My wife and I stayed at Stansbury\\\\'s Guest H...</td>\n",
       "      <td>0.8962</td>\n",
       "      <td>positive</td>\n",
       "      <td>Stansburys Guest House</td>\n",
       "      <td>1</td>\n",
       "      <td>5</td>\n",
       "      <td>5.0</td>\n",
       "    </tr>\n",
       "    <tr>\n",
       "      <th>40</th>\n",
       "      <td>\"You will not be disappointed!  The rooms and ...</td>\n",
       "      <td>0.8551</td>\n",
       "      <td>positive</td>\n",
       "      <td>Stansburys Guest House</td>\n",
       "      <td>1</td>\n",
       "      <td>5</td>\n",
       "      <td>5.0</td>\n",
       "    </tr>\n",
       "    <tr>\n",
       "      <th>41</th>\n",
       "      <td>\"What a wonderful Guest House to call home for...</td>\n",
       "      <td>0.9273</td>\n",
       "      <td>positive</td>\n",
       "      <td>Stansburys Guest House</td>\n",
       "      <td>1</td>\n",
       "      <td>4</td>\n",
       "      <td>4.0</td>\n",
       "    </tr>\n",
       "    <tr>\n",
       "      <th>42</th>\n",
       "      <td>\"This house was clean and had a beautiful sunn...</td>\n",
       "      <td>0.9716</td>\n",
       "      <td>positive</td>\n",
       "      <td>Stansburys Guest House</td>\n",
       "      <td>1</td>\n",
       "      <td>5</td>\n",
       "      <td>5.0</td>\n",
       "    </tr>\n",
       "    <tr>\n",
       "      <th>43</th>\n",
       "      <td>\"My sister and I just spent 10 days at the Gue...</td>\n",
       "      <td>0.8937</td>\n",
       "      <td>positive</td>\n",
       "      <td>Stansburys Guest House</td>\n",
       "      <td>1</td>\n",
       "      <td>5</td>\n",
       "      <td>5.0</td>\n",
       "    </tr>\n",
       "    <tr>\n",
       "      <th>44</th>\n",
       "      <td>\"I hardly want to share this gem so that Gwen\\...</td>\n",
       "      <td>0.9757</td>\n",
       "      <td>positive</td>\n",
       "      <td>Stansburys Guest House</td>\n",
       "      <td>1</td>\n",
       "      <td>5</td>\n",
       "      <td>5.0</td>\n",
       "    </tr>\n",
       "    <tr>\n",
       "      <th>45</th>\n",
       "      <td>\"What a great place!  1, 2, or 3 bedrooms.  Bi...</td>\n",
       "      <td>0.9864</td>\n",
       "      <td>positive</td>\n",
       "      <td>Stansburys Guest House</td>\n",
       "      <td>1</td>\n",
       "      <td>5</td>\n",
       "      <td>5.0</td>\n",
       "    </tr>\n",
       "    <tr>\n",
       "      <th>46</th>\n",
       "      <td>\"Right from the beginning Stansbury\\\\'s Guest ...</td>\n",
       "      <td>0.9532</td>\n",
       "      <td>positive</td>\n",
       "      <td>Stansburys Guest House</td>\n",
       "      <td>1</td>\n",
       "      <td>5</td>\n",
       "      <td>5.0</td>\n",
       "    </tr>\n",
       "    <tr>\n",
       "      <th>47</th>\n",
       "      <td>\"Gwen and Scott.\\\\n\\\\nOur stay was Fantastic!!...</td>\n",
       "      <td>0.9576</td>\n",
       "      <td>positive</td>\n",
       "      <td>Stansburys Guest House</td>\n",
       "      <td>1</td>\n",
       "      <td>5</td>\n",
       "      <td>5.0</td>\n",
       "    </tr>\n",
       "    <tr>\n",
       "      <th>48</th>\n",
       "      <td>\"My husband and I stayed at Stansbury\\\\'s with...</td>\n",
       "      <td>0.9466</td>\n",
       "      <td>positive</td>\n",
       "      <td>Stansburys Guest House</td>\n",
       "      <td>1</td>\n",
       "      <td>5</td>\n",
       "      <td>5.0</td>\n",
       "    </tr>\n",
       "    <tr>\n",
       "      <th>49</th>\n",
       "      <td>\"We have stayed at Stansbury\\\\'s Guest House a...</td>\n",
       "      <td>0.9744</td>\n",
       "      <td>positive</td>\n",
       "      <td>Stansburys Guest House</td>\n",
       "      <td>1</td>\n",
       "      <td>5</td>\n",
       "      <td>5.0</td>\n",
       "    </tr>\n",
       "    <tr>\n",
       "      <th>50</th>\n",
       "      <td>\"I finally made my way to Cumberland and at th...</td>\n",
       "      <td>0.9836</td>\n",
       "      <td>positive</td>\n",
       "      <td>Stansburys Guest House</td>\n",
       "      <td>1</td>\n",
       "      <td>5</td>\n",
       "      <td>5.0</td>\n",
       "    </tr>\n",
       "    <tr>\n",
       "      <th>51</th>\n",
       "      <td>\"Great location! Close to trails, pubs, food a...</td>\n",
       "      <td>0.9718</td>\n",
       "      <td>positive</td>\n",
       "      <td>Stansburys Guest House</td>\n",
       "      <td>1</td>\n",
       "      <td>5</td>\n",
       "      <td>5.0</td>\n",
       "    </tr>\n",
       "    <tr>\n",
       "      <th>52</th>\n",
       "      <td>\"My Husband and I came for a mountain bike vac...</td>\n",
       "      <td>0.9895</td>\n",
       "      <td>positive</td>\n",
       "      <td>Stansburys Guest House</td>\n",
       "      <td>1</td>\n",
       "      <td>5</td>\n",
       "      <td>5.0</td>\n",
       "    </tr>\n",
       "    <tr>\n",
       "      <th>53</th>\n",
       "      <td>\"Gwen  Scott have created a wonderful sanctura...</td>\n",
       "      <td>0.9897</td>\n",
       "      <td>positive</td>\n",
       "      <td>Stansburys Guest House</td>\n",
       "      <td>1</td>\n",
       "      <td>5</td>\n",
       "      <td>5.0</td>\n",
       "    </tr>\n",
       "    <tr>\n",
       "      <th>54</th>\n",
       "      <td>\"Scott and Gwen made us very welcome. I rode w...</td>\n",
       "      <td>0.8761</td>\n",
       "      <td>positive</td>\n",
       "      <td>Stansburys Guest House</td>\n",
       "      <td>1</td>\n",
       "      <td>5</td>\n",
       "      <td>5.0</td>\n",
       "    </tr>\n",
       "    <tr>\n",
       "      <th>55</th>\n",
       "      <td>\"The hosts are warm and inviting and the 3 bed...</td>\n",
       "      <td>0.9545</td>\n",
       "      <td>positive</td>\n",
       "      <td>Stansburys Guest House</td>\n",
       "      <td>1</td>\n",
       "      <td>5</td>\n",
       "      <td>5.0</td>\n",
       "    </tr>\n",
       "    <tr>\n",
       "      <th>56</th>\n",
       "      <td>\"A perfect place to stay if you want a peacefu...</td>\n",
       "      <td>0.9700</td>\n",
       "      <td>positive</td>\n",
       "      <td>Stansburys Guest House</td>\n",
       "      <td>1</td>\n",
       "      <td>5</td>\n",
       "      <td>5.0</td>\n",
       "    </tr>\n",
       "    <tr>\n",
       "      <th>57</th>\n",
       "      <td>\"Always on the lookout for interesting places ...</td>\n",
       "      <td>0.9881</td>\n",
       "      <td>positive</td>\n",
       "      <td>Stansburys Guest House</td>\n",
       "      <td>1</td>\n",
       "      <td>5</td>\n",
       "      <td>5.0</td>\n",
       "    </tr>\n",
       "    <tr>\n",
       "      <th>...</th>\n",
       "      <td>...</td>\n",
       "      <td>...</td>\n",
       "      <td>...</td>\n",
       "      <td>...</td>\n",
       "      <td>...</td>\n",
       "      <td>...</td>\n",
       "      <td>...</td>\n",
       "    </tr>\n",
       "    <tr>\n",
       "      <th>731</th>\n",
       "      <td>\"Our group was attending a wedding in Granite ...</td>\n",
       "      <td>0.9876</td>\n",
       "      <td>positive</td>\n",
       "      <td>Mozey-On-Inn</td>\n",
       "      <td>1</td>\n",
       "      <td>5</td>\n",
       "      <td>NaN</td>\n",
       "    </tr>\n",
       "    <tr>\n",
       "      <th>732</th>\n",
       "      <td>\"A fabulous little gem, the owners passion for...</td>\n",
       "      <td>0.9260</td>\n",
       "      <td>positive</td>\n",
       "      <td>Mozey-On-Inn</td>\n",
       "      <td>1</td>\n",
       "      <td>5</td>\n",
       "      <td>NaN</td>\n",
       "    </tr>\n",
       "    <tr>\n",
       "      <th>733</th>\n",
       "      <td>\"What a wonderful, comfortable, and pleasant f...</td>\n",
       "      <td>0.9810</td>\n",
       "      <td>positive</td>\n",
       "      <td>Mozey-On-Inn</td>\n",
       "      <td>1</td>\n",
       "      <td>5</td>\n",
       "      <td>NaN</td>\n",
       "    </tr>\n",
       "    <tr>\n",
       "      <th>734</th>\n",
       "      <td>\"Absolute gem of a place. Cleanest room you wi...</td>\n",
       "      <td>0.6808</td>\n",
       "      <td>positive</td>\n",
       "      <td>Mozey-On-Inn</td>\n",
       "      <td>1</td>\n",
       "      <td>5</td>\n",
       "      <td>NaN</td>\n",
       "    </tr>\n",
       "    <tr>\n",
       "      <th>735</th>\n",
       "      <td>\"Very charming little gem in Coalmont. We stay...</td>\n",
       "      <td>0.9757</td>\n",
       "      <td>positive</td>\n",
       "      <td>Mozey-On-Inn</td>\n",
       "      <td>1</td>\n",
       "      <td>4</td>\n",
       "      <td>NaN</td>\n",
       "    </tr>\n",
       "    <tr>\n",
       "      <th>736</th>\n",
       "      <td>\"We had a great stay in this quiet little town...</td>\n",
       "      <td>0.9537</td>\n",
       "      <td>positive</td>\n",
       "      <td>Mozey-On-Inn</td>\n",
       "      <td>1</td>\n",
       "      <td>4</td>\n",
       "      <td>NaN</td>\n",
       "    </tr>\n",
       "    <tr>\n",
       "      <th>737</th>\n",
       "      <td>\"Coalmont is a bit off the beaten path, but th...</td>\n",
       "      <td>0.9908</td>\n",
       "      <td>positive</td>\n",
       "      <td>Mozey-On-Inn</td>\n",
       "      <td>1</td>\n",
       "      <td>5</td>\n",
       "      <td>NaN</td>\n",
       "    </tr>\n",
       "    <tr>\n",
       "      <th>738</th>\n",
       "      <td>\"Awesome \\\\ud83d\\\\ude0e Wonderful Old Gold Min...</td>\n",
       "      <td>0.9679</td>\n",
       "      <td>positive</td>\n",
       "      <td>Mozey-On-Inn</td>\n",
       "      <td>1</td>\n",
       "      <td>5</td>\n",
       "      <td>NaN</td>\n",
       "    </tr>\n",
       "    <tr>\n",
       "      <th>673</th>\n",
       "      <td>\"We stayed in the Pioneer cabin for a week, wh...</td>\n",
       "      <td>0.9839</td>\n",
       "      <td>positive</td>\n",
       "      <td>Nimpo Lake Resort</td>\n",
       "      <td>1</td>\n",
       "      <td>5</td>\n",
       "      <td>NaN</td>\n",
       "    </tr>\n",
       "    <tr>\n",
       "      <th>674</th>\n",
       "      <td>\"We stayed at Nimpo Lake Resort from July 6-9,...</td>\n",
       "      <td>0.9785</td>\n",
       "      <td>positive</td>\n",
       "      <td>Nimpo Lake Resort</td>\n",
       "      <td>1</td>\n",
       "      <td>5</td>\n",
       "      <td>NaN</td>\n",
       "    </tr>\n",
       "    <tr>\n",
       "      <th>675</th>\n",
       "      <td>\"We only stayed two nights at Nimpo, the rest ...</td>\n",
       "      <td>0.9748</td>\n",
       "      <td>positive</td>\n",
       "      <td>Nimpo Lake Resort</td>\n",
       "      <td>1</td>\n",
       "      <td>5</td>\n",
       "      <td>NaN</td>\n",
       "    </tr>\n",
       "    <tr>\n",
       "      <th>676</th>\n",
       "      <td>\"We spent one night in the aptly-named Birdwat...</td>\n",
       "      <td>0.9838</td>\n",
       "      <td>positive</td>\n",
       "      <td>Nimpo Lake Resort</td>\n",
       "      <td>1</td>\n",
       "      <td>5</td>\n",
       "      <td>NaN</td>\n",
       "    </tr>\n",
       "    <tr>\n",
       "      <th>677</th>\n",
       "      <td>\"I revisited Nimpo Lake Resort after 14 years,...</td>\n",
       "      <td>0.7717</td>\n",
       "      <td>positive</td>\n",
       "      <td>Nimpo Lake Resort</td>\n",
       "      <td>1</td>\n",
       "      <td>5</td>\n",
       "      <td>NaN</td>\n",
       "    </tr>\n",
       "    <tr>\n",
       "      <th>678</th>\n",
       "      <td>\"After a great time last year at Nimpo Lake Re...</td>\n",
       "      <td>0.9794</td>\n",
       "      <td>positive</td>\n",
       "      <td>Nimpo Lake Resort</td>\n",
       "      <td>1</td>\n",
       "      <td>4</td>\n",
       "      <td>NaN</td>\n",
       "    </tr>\n",
       "    <tr>\n",
       "      <th>679</th>\n",
       "      <td>\"We booked the Nimpo Lake Resort online and we...</td>\n",
       "      <td>0.9229</td>\n",
       "      <td>positive</td>\n",
       "      <td>Nimpo Lake Resort</td>\n",
       "      <td>1</td>\n",
       "      <td>5</td>\n",
       "      <td>NaN</td>\n",
       "    </tr>\n",
       "    <tr>\n",
       "      <th>680</th>\n",
       "      <td>\"We stayed at Nimpo Lake Resort in an RV site;...</td>\n",
       "      <td>0.9909</td>\n",
       "      <td>positive</td>\n",
       "      <td>Nimpo Lake Resort</td>\n",
       "      <td>1</td>\n",
       "      <td>5</td>\n",
       "      <td>NaN</td>\n",
       "    </tr>\n",
       "    <tr>\n",
       "      <th>681</th>\n",
       "      <td>\"It\\\\'s not a hotel!\\\\nWe had a great time wit...</td>\n",
       "      <td>0.9607</td>\n",
       "      <td>positive</td>\n",
       "      <td>Nimpo Lake Resort</td>\n",
       "      <td>1</td>\n",
       "      <td>4</td>\n",
       "      <td>NaN</td>\n",
       "    </tr>\n",
       "    <tr>\n",
       "      <th>682</th>\n",
       "      <td>\"We arrive on the 21st of June 2015.  The owne...</td>\n",
       "      <td>0.9493</td>\n",
       "      <td>positive</td>\n",
       "      <td>Nimpo Lake Resort</td>\n",
       "      <td>1</td>\n",
       "      <td>5</td>\n",
       "      <td>NaN</td>\n",
       "    </tr>\n",
       "    <tr>\n",
       "      <th>683</th>\n",
       "      <td>\"Stunning, pristine lake! Fabulous fishing!!! ...</td>\n",
       "      <td>0.9982</td>\n",
       "      <td>positive</td>\n",
       "      <td>Nimpo Lake Resort</td>\n",
       "      <td>1</td>\n",
       "      <td>5</td>\n",
       "      <td>NaN</td>\n",
       "    </tr>\n",
       "    <tr>\n",
       "      <th>684</th>\n",
       "      <td>\"Stayed here five nights.  The hospitality of ...</td>\n",
       "      <td>0.9500</td>\n",
       "      <td>positive</td>\n",
       "      <td>Nimpo Lake Resort</td>\n",
       "      <td>1</td>\n",
       "      <td>5</td>\n",
       "      <td>NaN</td>\n",
       "    </tr>\n",
       "    <tr>\n",
       "      <th>685</th>\n",
       "      <td>\"we stayed two nights at Nimpo Lake Resort.  I...</td>\n",
       "      <td>0.7574</td>\n",
       "      <td>positive</td>\n",
       "      <td>Nimpo Lake Resort</td>\n",
       "      <td>1</td>\n",
       "      <td>4</td>\n",
       "      <td>NaN</td>\n",
       "    </tr>\n",
       "    <tr>\n",
       "      <th>686</th>\n",
       "      <td>\"Stayed in the pioneer cabin.  Right on the la...</td>\n",
       "      <td>0.8268</td>\n",
       "      <td>positive</td>\n",
       "      <td>Nimpo Lake Resort</td>\n",
       "      <td>1</td>\n",
       "      <td>5</td>\n",
       "      <td>NaN</td>\n",
       "    </tr>\n",
       "    <tr>\n",
       "      <th>687</th>\n",
       "      <td>\"The cabins contained all the comforts you nee...</td>\n",
       "      <td>0.9060</td>\n",
       "      <td>positive</td>\n",
       "      <td>Nimpo Lake Resort</td>\n",
       "      <td>1</td>\n",
       "      <td>5</td>\n",
       "      <td>NaN</td>\n",
       "    </tr>\n",
       "    <tr>\n",
       "      <th>688</th>\n",
       "      <td>\"We stayed in the Birdwatcher\\\\'s Cabin for fi...</td>\n",
       "      <td>0.9929</td>\n",
       "      <td>positive</td>\n",
       "      <td>Nimpo Lake Resort</td>\n",
       "      <td>1</td>\n",
       "      <td>5</td>\n",
       "      <td>NaN</td>\n",
       "    </tr>\n",
       "    <tr>\n",
       "      <th>689</th>\n",
       "      <td>\"My husband and I stayed at the Hilltop Cabin ...</td>\n",
       "      <td>0.9665</td>\n",
       "      <td>positive</td>\n",
       "      <td>Nimpo Lake Resort</td>\n",
       "      <td>1</td>\n",
       "      <td>5</td>\n",
       "      <td>NaN</td>\n",
       "    </tr>\n",
       "    <tr>\n",
       "      <th>690</th>\n",
       "      <td>\"We had a wonderful stay at Nimpo Lake Resort....</td>\n",
       "      <td>0.9194</td>\n",
       "      <td>positive</td>\n",
       "      <td>Nimpo Lake Resort</td>\n",
       "      <td>1</td>\n",
       "      <td>5</td>\n",
       "      <td>NaN</td>\n",
       "    </tr>\n",
       "    <tr>\n",
       "      <th>691</th>\n",
       "      <td>\"Completely fulfilled expectations! The cabin ...</td>\n",
       "      <td>0.9948</td>\n",
       "      <td>positive</td>\n",
       "      <td>Nimpo Lake Resort</td>\n",
       "      <td>1</td>\n",
       "      <td>5</td>\n",
       "      <td>NaN</td>\n",
       "    </tr>\n",
       "    <tr>\n",
       "      <th>692</th>\n",
       "      <td>\"We we\\\\'re so lucky we drove up with out a re...</td>\n",
       "      <td>0.9394</td>\n",
       "      <td>positive</td>\n",
       "      <td>Nimpo Lake Resort</td>\n",
       "      <td>1</td>\n",
       "      <td>5</td>\n",
       "      <td>NaN</td>\n",
       "    </tr>\n",
       "    <tr>\n",
       "      <th>693</th>\n",
       "      <td>\"Had the pleasure of staying at this resort a ...</td>\n",
       "      <td>0.9600</td>\n",
       "      <td>positive</td>\n",
       "      <td>Nimpo Lake Resort</td>\n",
       "      <td>1</td>\n",
       "      <td>5</td>\n",
       "      <td>NaN</td>\n",
       "    </tr>\n",
       "    <tr>\n",
       "      <th>694</th>\n",
       "      <td>\"We recently enjoyed a few days at Nimpo Lake ...</td>\n",
       "      <td>0.9798</td>\n",
       "      <td>positive</td>\n",
       "      <td>Nimpo Lake Resort</td>\n",
       "      <td>1</td>\n",
       "      <td>5</td>\n",
       "      <td>NaN</td>\n",
       "    </tr>\n",
       "  </tbody>\n",
       "</table>\n",
       "<p>180 rows × 7 columns</p>\n",
       "</div>"
      ],
      "text/plain": [
       "                                                Review  Compound_Score  \\\n",
       "28   \"Stayed for a week in the Stansbury\\\\'s guest ...          0.8682   \n",
       "29   \"A group of 6 of us stayed here for a weekend ...          0.9367   \n",
       "30   \"Visiting from New Zealand,we were fortunate t...          0.9652   \n",
       "31   \"Gwen and Scott have a beautiful Guest House a...          0.9759   \n",
       "32   \"A beautifully finished apartment with every c...          0.9807   \n",
       "33   \"We happended upon Stansbury\\\\'s last year jus...          0.9860   \n",
       "34   \"We stayed at Stansbury`s Guest House for 8 da...          0.9940   \n",
       "35   \"We had an amazing stay at the Stansbury\\\\'s G...          0.9665   \n",
       "36   \"Nine of us spent the weekend at the Stansbury...          0.9443   \n",
       "37   \"This place has: very friendly hosts, is super...          0.9588   \n",
       "38   \"Cumberland is cute little village in the Como...          0.9638   \n",
       "39   \"My wife and I stayed at Stansbury\\\\'s Guest H...          0.8962   \n",
       "40   \"You will not be disappointed!  The rooms and ...          0.8551   \n",
       "41   \"What a wonderful Guest House to call home for...          0.9273   \n",
       "42   \"This house was clean and had a beautiful sunn...          0.9716   \n",
       "43   \"My sister and I just spent 10 days at the Gue...          0.8937   \n",
       "44   \"I hardly want to share this gem so that Gwen\\...          0.9757   \n",
       "45   \"What a great place!  1, 2, or 3 bedrooms.  Bi...          0.9864   \n",
       "46   \"Right from the beginning Stansbury\\\\'s Guest ...          0.9532   \n",
       "47   \"Gwen and Scott.\\\\n\\\\nOur stay was Fantastic!!...          0.9576   \n",
       "48   \"My husband and I stayed at Stansbury\\\\'s with...          0.9466   \n",
       "49   \"We have stayed at Stansbury\\\\'s Guest House a...          0.9744   \n",
       "50   \"I finally made my way to Cumberland and at th...          0.9836   \n",
       "51   \"Great location! Close to trails, pubs, food a...          0.9718   \n",
       "52   \"My Husband and I came for a mountain bike vac...          0.9895   \n",
       "53   \"Gwen  Scott have created a wonderful sanctura...          0.9897   \n",
       "54   \"Scott and Gwen made us very welcome. I rode w...          0.8761   \n",
       "55   \"The hosts are warm and inviting and the 3 bed...          0.9545   \n",
       "56   \"A perfect place to stay if you want a peacefu...          0.9700   \n",
       "57   \"Always on the lookout for interesting places ...          0.9881   \n",
       "..                                                 ...             ...   \n",
       "731  \"Our group was attending a wedding in Granite ...          0.9876   \n",
       "732  \"A fabulous little gem, the owners passion for...          0.9260   \n",
       "733  \"What a wonderful, comfortable, and pleasant f...          0.9810   \n",
       "734  \"Absolute gem of a place. Cleanest room you wi...          0.6808   \n",
       "735  \"Very charming little gem in Coalmont. We stay...          0.9757   \n",
       "736  \"We had a great stay in this quiet little town...          0.9537   \n",
       "737  \"Coalmont is a bit off the beaten path, but th...          0.9908   \n",
       "738  \"Awesome \\\\ud83d\\\\ude0e Wonderful Old Gold Min...          0.9679   \n",
       "673  \"We stayed in the Pioneer cabin for a week, wh...          0.9839   \n",
       "674  \"We stayed at Nimpo Lake Resort from July 6-9,...          0.9785   \n",
       "675  \"We only stayed two nights at Nimpo, the rest ...          0.9748   \n",
       "676  \"We spent one night in the aptly-named Birdwat...          0.9838   \n",
       "677  \"I revisited Nimpo Lake Resort after 14 years,...          0.7717   \n",
       "678  \"After a great time last year at Nimpo Lake Re...          0.9794   \n",
       "679  \"We booked the Nimpo Lake Resort online and we...          0.9229   \n",
       "680  \"We stayed at Nimpo Lake Resort in an RV site;...          0.9909   \n",
       "681  \"It\\\\'s not a hotel!\\\\nWe had a great time wit...          0.9607   \n",
       "682  \"We arrive on the 21st of June 2015.  The owne...          0.9493   \n",
       "683  \"Stunning, pristine lake! Fabulous fishing!!! ...          0.9982   \n",
       "684  \"Stayed here five nights.  The hospitality of ...          0.9500   \n",
       "685  \"we stayed two nights at Nimpo Lake Resort.  I...          0.7574   \n",
       "686  \"Stayed in the pioneer cabin.  Right on the la...          0.8268   \n",
       "687  \"The cabins contained all the comforts you nee...          0.9060   \n",
       "688  \"We stayed in the Birdwatcher\\\\'s Cabin for fi...          0.9929   \n",
       "689  \"My husband and I stayed at the Hilltop Cabin ...          0.9665   \n",
       "690  \"We had a wonderful stay at Nimpo Lake Resort....          0.9194   \n",
       "691  \"Completely fulfilled expectations! The cabin ...          0.9948   \n",
       "692  \"We we\\\\'re so lucky we drove up with out a re...          0.9394   \n",
       "693  \"Had the pleasure of staying at this resort a ...          0.9600   \n",
       "694  \"We recently enjoyed a few days at Nimpo Lake ...          0.9798   \n",
       "\n",
       "    Experience              Hotel_Name  Exp_Index  Ratings  Ratings  \n",
       "28    positive  Stansburys Guest House          1        5      5.0  \n",
       "29    positive  Stansburys Guest House          1        5      5.0  \n",
       "30    positive  Stansburys Guest House          1        5      5.0  \n",
       "31    positive  Stansburys Guest House          1        5      5.0  \n",
       "32    positive  Stansburys Guest House          1        5      5.0  \n",
       "33    positive  Stansburys Guest House          1        5      5.0  \n",
       "34    positive  Stansburys Guest House          1        5      5.0  \n",
       "35    positive  Stansburys Guest House          1        5      5.0  \n",
       "36    positive  Stansburys Guest House          1        5      5.0  \n",
       "37    positive  Stansburys Guest House          1        5      5.0  \n",
       "38    positive  Stansburys Guest House          1        5      5.0  \n",
       "39    positive  Stansburys Guest House          1        5      5.0  \n",
       "40    positive  Stansburys Guest House          1        5      5.0  \n",
       "41    positive  Stansburys Guest House          1        4      4.0  \n",
       "42    positive  Stansburys Guest House          1        5      5.0  \n",
       "43    positive  Stansburys Guest House          1        5      5.0  \n",
       "44    positive  Stansburys Guest House          1        5      5.0  \n",
       "45    positive  Stansburys Guest House          1        5      5.0  \n",
       "46    positive  Stansburys Guest House          1        5      5.0  \n",
       "47    positive  Stansburys Guest House          1        5      5.0  \n",
       "48    positive  Stansburys Guest House          1        5      5.0  \n",
       "49    positive  Stansburys Guest House          1        5      5.0  \n",
       "50    positive  Stansburys Guest House          1        5      5.0  \n",
       "51    positive  Stansburys Guest House          1        5      5.0  \n",
       "52    positive  Stansburys Guest House          1        5      5.0  \n",
       "53    positive  Stansburys Guest House          1        5      5.0  \n",
       "54    positive  Stansburys Guest House          1        5      5.0  \n",
       "55    positive  Stansburys Guest House          1        5      5.0  \n",
       "56    positive  Stansburys Guest House          1        5      5.0  \n",
       "57    positive  Stansburys Guest House          1        5      5.0  \n",
       "..         ...                     ...        ...      ...      ...  \n",
       "731   positive            Mozey-On-Inn          1        5      NaN  \n",
       "732   positive            Mozey-On-Inn          1        5      NaN  \n",
       "733   positive            Mozey-On-Inn          1        5      NaN  \n",
       "734   positive            Mozey-On-Inn          1        5      NaN  \n",
       "735   positive            Mozey-On-Inn          1        4      NaN  \n",
       "736   positive            Mozey-On-Inn          1        4      NaN  \n",
       "737   positive            Mozey-On-Inn          1        5      NaN  \n",
       "738   positive            Mozey-On-Inn          1        5      NaN  \n",
       "673   positive       Nimpo Lake Resort          1        5      NaN  \n",
       "674   positive       Nimpo Lake Resort          1        5      NaN  \n",
       "675   positive       Nimpo Lake Resort          1        5      NaN  \n",
       "676   positive       Nimpo Lake Resort          1        5      NaN  \n",
       "677   positive       Nimpo Lake Resort          1        5      NaN  \n",
       "678   positive       Nimpo Lake Resort          1        4      NaN  \n",
       "679   positive       Nimpo Lake Resort          1        5      NaN  \n",
       "680   positive       Nimpo Lake Resort          1        5      NaN  \n",
       "681   positive       Nimpo Lake Resort          1        4      NaN  \n",
       "682   positive       Nimpo Lake Resort          1        5      NaN  \n",
       "683   positive       Nimpo Lake Resort          1        5      NaN  \n",
       "684   positive       Nimpo Lake Resort          1        5      NaN  \n",
       "685   positive       Nimpo Lake Resort          1        4      NaN  \n",
       "686   positive       Nimpo Lake Resort          1        5      NaN  \n",
       "687   positive       Nimpo Lake Resort          1        5      NaN  \n",
       "688   positive       Nimpo Lake Resort          1        5      NaN  \n",
       "689   positive       Nimpo Lake Resort          1        5      NaN  \n",
       "690   positive       Nimpo Lake Resort          1        5      NaN  \n",
       "691   positive       Nimpo Lake Resort          1        5      NaN  \n",
       "692   positive       Nimpo Lake Resort          1        5      NaN  \n",
       "693   positive       Nimpo Lake Resort          1        5      NaN  \n",
       "694   positive       Nimpo Lake Resort          1        5      NaN  \n",
       "\n",
       "[180 rows x 7 columns]"
      ]
     },
     "execution_count": 103,
     "metadata": {},
     "output_type": "execute_result"
    }
   ],
   "source": [
    "gt_df4"
   ]
  },
  {
   "cell_type": "code",
   "execution_count": 104,
   "metadata": {},
   "outputs": [
    {
     "data": {
      "image/png": "[encoded data removed]",
      "text/plain": [
       "<Figure size 864x360 with 1 Axes>"
      ]
     },
     "metadata": {
      "needs_background": "light"
     },
     "output_type": "display_data"
    }
   ],
   "source": [
    "fig, ax = plt.subplots(figsize=(12,5))\n",
    "plt.setp(plt.xticks()[1], rotation=90)\n",
    "sns.catplot(x=\"Hotel_Name\", y=\"Compound_Score\", kind=\"box\", data=gt_df4, ax = ax);\n",
    "plt.close(2)\n",
    "plt.title('Hotel reviews count')\n",
    "ax.set(xlabel='Hotel names', ylabel='Count')\n",
    "\n",
    "# Calculate number of obs per group & median to position labels\n",
    "medians = gt_df4.groupby(['Hotel_Name'])['Compound_Score'].median().values\n",
    "nobs = gt_df4['Hotel_Name'].value_counts().values\n",
    "nobs = [str(x) for x in nobs.tolist()]\n",
    "nobs = [\"n: \" + i for i in nobs]\n",
    " \n",
    "# Add it to the plot\n",
    "pos = range(len(nobs))\n",
    "for tick,label in zip(pos,ax.get_xticklabels()):\n",
    "    ax.text(pos[tick], medians[tick] + 0.03, nobs[tick],\n",
    "horizontalalignment='center', size='large', color='b', weight='semibold')\n",
    "\n",
    "\n",
    "\n",
    "plt.show()"
   ]
  },
  {
   "cell_type": "markdown",
   "metadata": {},
   "source": [
    "#### Mean and variance of the ground truth and Vader sentiment scores for the  top-5 ranked hotels according to star rating\n",
    "The mean and the variance for the ground truth was the exact same score - one as all reviews they had gotten were positive. The boxplots for the vader scores were more informative. The variance score is more informative than the mean of the top five hotels. For example, Stamp Falls and Mozey-On-Inn are both highly rated hotels, however Stamp Falls has a higher number of people rated on it and most people had more positive comments to give than in Mozzey-On_Inn. "
   ]
  },
  {
   "cell_type": "markdown",
   "metadata": {},
   "source": [
    "#### Variance: \n",
    "Vader: 0.010745 <br>\n",
    "Ratings: 0.0\n",
    "#### Mean:\n",
    "Vader: 0.94 <br>\n",
    "Ratings:1"
   ]
  },
  {
   "cell_type": "markdown",
   "metadata": {},
   "source": [
    "#### Scatterplots and heatmaps of ground truth score (star ratings) versus vader sentiment score. "
   ]
  },
  {
   "cell_type": "code",
   "execution_count": 108,
   "metadata": {
    "scrolled": true
   },
   "outputs": [
    {
     "data": {
      "text/html": [
       "<div>\n",
       "<style scoped>\n",
       "    .dataframe tbody tr th:only-of-type {\n",
       "        vertical-align: middle;\n",
       "    }\n",
       "\n",
       "    .dataframe tbody tr th {\n",
       "        vertical-align: top;\n",
       "    }\n",
       "\n",
       "    .dataframe thead th {\n",
       "        text-align: right;\n",
       "    }\n",
       "</style>\n",
       "<table border=\"1\" class=\"dataframe\">\n",
       "  <thead>\n",
       "    <tr style=\"text-align: right;\">\n",
       "      <th></th>\n",
       "      <th>Review</th>\n",
       "      <th>Compound_Score</th>\n",
       "      <th>Experience</th>\n",
       "      <th>Hotel_Name</th>\n",
       "      <th>Exp_Index</th>\n",
       "      <th>Ratings_1</th>\n",
       "      <th>Ratings_2</th>\n",
       "      <th>Ratings_3</th>\n",
       "    </tr>\n",
       "  </thead>\n",
       "  <tbody>\n",
       "    <tr>\n",
       "      <th>0</th>\n",
       "      <td>\"I was looking for a place to sit and chill fo...</td>\n",
       "      <td>0.8442</td>\n",
       "      <td>positive</td>\n",
       "      <td>The Riding Fool Hostel</td>\n",
       "      <td>1</td>\n",
       "      <td>5</td>\n",
       "      <td>NaN</td>\n",
       "      <td>5</td>\n",
       "    </tr>\n",
       "    <tr>\n",
       "      <th>1</th>\n",
       "      <td>\"I stayed at the Riding Fool Hostel whilst I w...</td>\n",
       "      <td>0.9965</td>\n",
       "      <td>positive</td>\n",
       "      <td>The Riding Fool Hostel</td>\n",
       "      <td>1</td>\n",
       "      <td>5</td>\n",
       "      <td>NaN</td>\n",
       "      <td>5</td>\n",
       "    </tr>\n",
       "  </tbody>\n",
       "</table>\n",
       "</div>"
      ],
      "text/plain": [
       "                                              Review  Compound_Score  \\\n",
       "0  \"I was looking for a place to sit and chill fo...          0.8442   \n",
       "1  \"I stayed at the Riding Fool Hostel whilst I w...          0.9965   \n",
       "\n",
       "  Experience              Hotel_Name  Exp_Index  Ratings_1  Ratings_2  \\\n",
       "0   positive  The Riding Fool Hostel          1          5        NaN   \n",
       "1   positive  The Riding Fool Hostel          1          5        NaN   \n",
       "\n",
       "   Ratings_3  \n",
       "0          5  \n",
       "1          5  "
      ]
     },
     "execution_count": 108,
     "metadata": {},
     "output_type": "execute_result"
    }
   ],
   "source": [
    "temp = reviews_df['Ratings']\n",
    "scatterDF = pd.concat([reviewDF,temp],axis = 1)\n",
    "scatterDF.head()\n",
    "cols = []\n",
    "count = 1\n",
    "for column in scatterDF.columns:\n",
    "    if column == 'Ratings':\n",
    "        cols.append('Ratings_'+str(count))\n",
    "        count+=1\n",
    "        continue\n",
    "    cols.append(column)\n",
    "scatterDF.columns = cols\n",
    "scatterDF[:2]"
   ]
  },
  {
   "cell_type": "code",
   "execution_count": 107,
   "metadata": {},
   "outputs": [
    {
     "data": {
      "image/png": "[encoded data removed]",
      "text/plain": [
       "<Figure size 864x360 with 1 Axes>"
      ]
     },
     "metadata": {
      "needs_background": "light"
     },
     "output_type": "display_data"
    }
   ],
   "source": [
    "fig, ax = plt.subplots(figsize=(12,5))\n",
    "ax = sns.scatterplot(x=\"Ratings_2\", y=\"Compound_Score\", data=scatterDF)"
   ]
  },
  {
   "cell_type": "code",
   "execution_count": 114,
   "metadata": {},
   "outputs": [
    {
     "data": {
      "text/plain": [
       "array([0.8442, 0.9965, 0.9757, ..., 0.9524, 0.1655, 0.9363])"
      ]
     },
     "execution_count": 114,
     "metadata": {},
     "output_type": "execute_result"
    }
   ],
   "source": [
    "R = scatterDF['Ratings_1'].values\n",
    "V = scatterDF['Compound_Score'].values\n",
    "#x, y = np.meshgrid(R, V)\n",
    "from scipy.stats.kde import gaussian_kde\n",
    "V"
   ]
  },
  {
   "cell_type": "code",
   "execution_count": 111,
   "metadata": {},
   "outputs": [],
   "source": [
    "#ax3 = sns.heatmap(np.log10(zi.reshape(xi.shape)),cmap=cmap)"
   ]
  },
  {
   "cell_type": "code",
   "execution_count": 115,
   "metadata": {},
   "outputs": [],
   "source": [
    "from scipy.stats.kde import gaussian_kde\n",
    "\n",
    "k = gaussian_kde(np.vstack([V, R]))\n",
    "xi, yi = np.mgrid[V.min():V.max():V.size**0.5*1j,R.min():R.max():R.size**0.5*1j]\n",
    "zi = k(np.vstack([xi.flatten(), yi.flatten()]))\n"
   ]
  },
  {
   "cell_type": "code",
   "execution_count": 116,
   "metadata": {},
   "outputs": [
    {
     "data": {
      "text/plain": [
       "Text(0,0.5,'Rating')"
      ]
     },
     "execution_count": 116,
     "metadata": {},
     "output_type": "execute_result"
    },
    {
     "data": {
      "image/png": "[encoded data removed]",
      "text/plain": [
       "<Figure size 432x576 with 2 Axes>"
      ]
     },
     "metadata": {
      "needs_background": "light"
     },
     "output_type": "display_data"
    }
   ],
   "source": [
    "cmap = sns.cubehelix_palette(light=1, as_cmap=True)\n",
    "fig = plt.figure(figsize=(6,8))\n",
    "ax1 = fig.add_subplot(211)\n",
    "ax2 = fig.add_subplot(212)\n",
    "\n",
    "ax1.pcolormesh(xi, yi, np.log10(zi.reshape(xi.shape)), cmap=cmap)\n",
    "ax2.contourf(xi, yi, np.log10(zi.reshape(xi.shape)), cmap=cmap)\n",
    "\n",
    "ax1.set_xlim(V.min(), V.max())\n",
    "ax1.set_ylim(R.min(), R.max())\n",
    "ax2.set_xlim(V.min(), V.max())\n",
    "ax2.set_ylim(R.min(), R.max())\n",
    "\n",
    "ax1.set_xlabel('Vader Score')\n",
    "ax1.set_ylabel('Rating')\n",
    "\n",
    "ax2.set_xlabel('Vader Score')\n",
    "ax2.set_ylabel('Rating')"
   ]
  },
  {
   "cell_type": "markdown",
   "metadata": {},
   "source": [
    "The scatter plot of the ground truth versus vader score was not particularly informative on it own. The only interesting part about it was the for the higher ground through rating, the reviews (dots) were placed in the higher spectrum of the vader score. This idea in combination with the heatplot conveys the same idea, as the top right corner of the graph is a lot darker than the rest of the plot, which goes to show that those ratings had a higher vaderscore and a higher rating. And since we had established earlier, that most of the reviews had a higher vader score, the right half of the heat map is darker as that is the region with the most over lap between the high scores. "
   ]
  },
  {
   "cell_type": "markdown",
   "metadata": {},
   "source": [
    "#### Scatterplots and two heatmaps of the length of reviews versus each of ground truth score and Vader sentiment score. Each review is a point on the scatterplot."
   ]
  },
  {
   "cell_type": "code",
   "execution_count": 128,
   "metadata": {},
   "outputs": [
    {
     "data": {
      "text/html": [
       "<div>\n",
       "<style scoped>\n",
       "    .dataframe tbody tr th:only-of-type {\n",
       "        vertical-align: middle;\n",
       "    }\n",
       "\n",
       "    .dataframe tbody tr th {\n",
       "        vertical-align: top;\n",
       "    }\n",
       "\n",
       "    .dataframe thead th {\n",
       "        text-align: right;\n",
       "    }\n",
       "</style>\n",
       "<table border=\"1\" class=\"dataframe\">\n",
       "  <thead>\n",
       "    <tr style=\"text-align: right;\">\n",
       "      <th></th>\n",
       "      <th>Review</th>\n",
       "      <th>Compound_Score</th>\n",
       "      <th>Experience</th>\n",
       "      <th>Hotel_Name</th>\n",
       "      <th>Exp_Index</th>\n",
       "      <th>Ratings_1</th>\n",
       "      <th>Ratings_2</th>\n",
       "      <th>Ratings_3</th>\n",
       "      <th>length</th>\n",
       "    </tr>\n",
       "  </thead>\n",
       "  <tbody>\n",
       "    <tr>\n",
       "      <th>0</th>\n",
       "      <td>\"I was looking for a place to sit and chill fo...</td>\n",
       "      <td>0.8442</td>\n",
       "      <td>positive</td>\n",
       "      <td>The Riding Fool Hostel</td>\n",
       "      <td>1</td>\n",
       "      <td>5</td>\n",
       "      <td>NaN</td>\n",
       "      <td>5</td>\n",
       "      <td>439</td>\n",
       "    </tr>\n",
       "    <tr>\n",
       "      <th>1</th>\n",
       "      <td>\"I stayed at the Riding Fool Hostel whilst I w...</td>\n",
       "      <td>0.9965</td>\n",
       "      <td>positive</td>\n",
       "      <td>The Riding Fool Hostel</td>\n",
       "      <td>1</td>\n",
       "      <td>5</td>\n",
       "      <td>NaN</td>\n",
       "      <td>5</td>\n",
       "      <td>2666</td>\n",
       "    </tr>\n",
       "  </tbody>\n",
       "</table>\n",
       "</div>"
      ],
      "text/plain": [
       "                                              Review  Compound_Score  \\\n",
       "0  \"I was looking for a place to sit and chill fo...          0.8442   \n",
       "1  \"I stayed at the Riding Fool Hostel whilst I w...          0.9965   \n",
       "\n",
       "  Experience              Hotel_Name  Exp_Index  Ratings_1  Ratings_2  \\\n",
       "0   positive  The Riding Fool Hostel          1          5        NaN   \n",
       "1   positive  The Riding Fool Hostel          1          5        NaN   \n",
       "\n",
       "   Ratings_3  length  \n",
       "0          5     439  \n",
       "1          5    2666  "
      ]
     },
     "execution_count": 128,
     "metadata": {},
     "output_type": "execute_result"
    }
   ],
   "source": [
    "review = scatterDF['Review']\n",
    "length = []\n",
    "\n",
    "for r in review:\n",
    "    length.append(len(r))\n",
    "length_df = pd.Series(length) \n",
    "scatterDF1 = pd.concat([scatterDF,length_df.rename('length')],axis = 1)\n",
    "scatterDF1[:2]\n"
   ]
  },
  {
   "cell_type": "code",
   "execution_count": 119,
   "metadata": {},
   "outputs": [
    {
     "data": {
      "image/png": "[encoded data removed]",
      "text/plain": [
       "<Figure size 864x360 with 1 Axes>"
      ]
     },
     "metadata": {
      "needs_background": "light"
     },
     "output_type": "display_data"
    }
   ],
   "source": [
    "fig, ax = plt.subplots(figsize=(12,5))\n",
    "ax = sns.scatterplot(x=\"Ratings_1\", y=\"length\", data=scatterDF1)"
   ]
  },
  {
   "cell_type": "code",
   "execution_count": 121,
   "metadata": {},
   "outputs": [
    {
     "data": {
      "image/png": "[encoded data removed]",
      "text/plain": [
       "<Figure size 864x360 with 1 Axes>"
      ]
     },
     "metadata": {
      "needs_background": "light"
     },
     "output_type": "display_data"
    }
   ],
   "source": [
    "fig, ax = plt.subplots(figsize=(12,5))\n",
    "ax = sns.scatterplot(x=\"Compound_Score\", y=\"length\", data=scatterDF1)"
   ]
  },
  {
   "cell_type": "code",
   "execution_count": 123,
   "metadata": {},
   "outputs": [],
   "source": [
    "x = scatterDF1['length']\n",
    "y = scatterDF1['Ratings_1']\n",
    "k = gaussian_kde(np.vstack([x, y]))\n",
    "xi, yi = np.mgrid[x.min():x.max():x.size**0.5*1j,y.min():y.max():y.size**0.5*1j]\n",
    "zi = k(np.vstack([xi.flatten(), yi.flatten()]))"
   ]
  },
  {
   "cell_type": "code",
   "execution_count": 124,
   "metadata": {},
   "outputs": [
    {
     "data": {
      "text/plain": [
       "Text(0,0.5,'Rating')"
      ]
     },
     "execution_count": 124,
     "metadata": {},
     "output_type": "execute_result"
    },
    {
     "data": {
      "image/png": "[encoded data removed]",
      "text/plain": [
       "<Figure size 432x576 with 2 Axes>"
      ]
     },
     "metadata": {
      "needs_background": "light"
     },
     "output_type": "display_data"
    }
   ],
   "source": [
    "cmap = sns.cubehelix_palette(light=1, as_cmap=True)\n",
    "fig = plt.figure(figsize=(6,8))\n",
    "ax1 = fig.add_subplot(211)\n",
    "ax2 = fig.add_subplot(212)\n",
    "\n",
    "ax1.pcolormesh(xi, yi, np.log10(zi.reshape(xi.shape)), cmap=cmap)\n",
    "ax2.contourf(xi, yi, np.log10(zi.reshape(xi.shape)), cmap=cmap)\n",
    "\n",
    "ax1.set_xlim(x.min(), x.max())\n",
    "ax1.set_ylim(y.min(), y.max())\n",
    "ax2.set_xlim(x.min(), x.max())\n",
    "ax2.set_ylim(y.min(), y.max())\n",
    "\n",
    "ax1.set_xlabel('Length')\n",
    "ax1.set_ylabel('Rating')\n",
    "\n",
    "ax2.set_xlabel('Length')\n",
    "ax2.set_ylabel('Rating')"
   ]
  },
  {
   "cell_type": "code",
   "execution_count": 125,
   "metadata": {},
   "outputs": [
    {
     "data": {
      "image/png": "[encoded data removed]",
      "text/plain": [
       "<Figure size 432x576 with 2 Axes>"
      ]
     },
     "metadata": {
      "needs_background": "light"
     },
     "output_type": "display_data"
    }
   ],
   "source": [
    "fig = plt.figure(figsize=(6,8))\n",
    "ax3 = sns.heatmap(np.log10(zi.reshape(xi.shape)),cmap=cmap)"
   ]
  },
  {
   "cell_type": "markdown",
   "metadata": {},
   "source": [
    "The scatterplot tells us that most reviews are at a lower character length (about 2000 characters or lower) and this is reflected in the heat map, as most the color becomes lighter past review length of 1500 characters. Further more, there are a few tweets of character length 4000 or higher and this is reflected in the small light patch along that character length and review rating of 4. "
   ]
  },
  {
   "cell_type": "code",
   "execution_count": 126,
   "metadata": {},
   "outputs": [],
   "source": [
    "x = scatterDF1['length']\n",
    "y = scatterDF1['vader']\n",
    "k = gaussian_kde(np.vstack([x, y]))\n",
    "xi, yi = np.mgrid[x.min():x.max():x.size**0.5*1j,y.min():y.max():y.size**0.5*1j]\n",
    "zi = k(np.vstack([xi.flatten(), yi.flatten()]))"
   ]
  },
  {
   "cell_type": "code",
   "execution_count": 127,
   "metadata": {},
   "outputs": [
    {
     "data": {
      "text/plain": [
       "Text(0, 0.5, 'Vader')"
      ]
     },
     "execution_count": 127,
     "metadata": {},
     "output_type": "execute_result"
    },
    {
     "data": {
      "image/png": "[encoded data removed]",
      "text/plain": [
       "<Figure size 432x576 with 2 Axes>"
      ]
     },
     "metadata": {
      "needs_background": "light"
     },
     "output_type": "display_data"
    }
   ],
   "source": [
    "cmap = sns.cubehelix_palette(light=1, as_cmap=True)\n",
    "fig = plt.figure(figsize=(6,8))\n",
    "ax1 = fig.add_subplot(211)\n",
    "ax2 = fig.add_subplot(212)\n",
    "\n",
    "ax1.pcolormesh(xi, yi, np.log10(zi.reshape(xi.shape)), cmap=cmap)\n",
    "ax2.contourf(xi, yi, np.log10(zi.reshape(xi.shape)), cmap=cmap)\n",
    "\n",
    "ax1.set_xlim(x.min(), x.max())\n",
    "ax1.set_ylim(y.min(), y.max())\n",
    "ax2.set_xlim(x.min(), x.max())\n",
    "ax2.set_ylim(y.min(), y.max())\n",
    "\n",
    "ax1.set_xlabel('Length')\n",
    "ax1.set_ylabel('Vader')\n",
    "\n",
    "ax2.set_xlabel('Length')\n",
    "ax2.set_ylabel('Vader')"
   ]
  },
  {
   "cell_type": "code",
   "execution_count": 126,
   "metadata": {},
   "outputs": [
    {
     "data": {
      "image/png": "[encoded data removed]",
      "text/plain": [
       "<Figure size 432x576 with 2 Axes>"
      ]
     },
     "metadata": {
      "needs_background": "light"
     },
     "output_type": "display_data"
    }
   ],
   "source": [
    "fig = plt.figure(figsize=(6,8))\n",
    "ax3 = sns.heatmap(np.log10(zi.reshape(yi.shape)),cmap=cmap)"
   ]
  },
  {
   "cell_type": "markdown",
   "metadata": {},
   "source": [
    "The scatter plot for the vader score was the opposite of the ratings where, the higher the score (more positive) a score, the more characters were used in the review. However the patterns of the vader score match that of the heat plot where the lower the score, the less number of characters were used in the review of the hotel. "
   ]
  },
  {
   "cell_type": "markdown",
   "metadata": {},
   "source": [
    "#### Scatterplots of the number of reviews per hotel versus each of average groundtruth score and average Vader sentiment score. In this case, each hotel is a single point on the scatterplot. "
   ]
  },
  {
   "cell_type": "code",
   "execution_count": 139,
   "metadata": {
    "scrolled": true
   },
   "outputs": [
    {
     "data": {
      "text/html": [
       "<div>\n",
       "<style scoped>\n",
       "    .dataframe tbody tr th:only-of-type {\n",
       "        vertical-align: middle;\n",
       "    }\n",
       "\n",
       "    .dataframe tbody tr th {\n",
       "        vertical-align: top;\n",
       "    }\n",
       "\n",
       "    .dataframe thead th {\n",
       "        text-align: right;\n",
       "    }\n",
       "</style>\n",
       "<table border=\"1\" class=\"dataframe\">\n",
       "  <thead>\n",
       "    <tr style=\"text-align: right;\">\n",
       "      <th></th>\n",
       "      <th>Compound_Score</th>\n",
       "      <th>Exp_Index</th>\n",
       "      <th>Number_Of_Reviews</th>\n",
       "    </tr>\n",
       "    <tr>\n",
       "      <th>Hotel_Name</th>\n",
       "      <th></th>\n",
       "      <th></th>\n",
       "      <th></th>\n",
       "    </tr>\n",
       "  </thead>\n",
       "  <tbody>\n",
       "    <tr>\n",
       "      <th>A-1 Alberni Inn</th>\n",
       "      <td>0.447724</td>\n",
       "      <td>0.523810</td>\n",
       "      <td>21</td>\n",
       "    </tr>\n",
       "    <tr>\n",
       "      <th>AB</th>\n",
       "      <td>0.973600</td>\n",
       "      <td>1.000000</td>\n",
       "      <td>19</td>\n",
       "    </tr>\n",
       "    <tr>\n",
       "      <th>Abbotsford Hotel</th>\n",
       "      <td>0.225563</td>\n",
       "      <td>0.359375</td>\n",
       "      <td>64</td>\n",
       "    </tr>\n",
       "    <tr>\n",
       "      <th>Arbutus Grove Motel</th>\n",
       "      <td>0.897408</td>\n",
       "      <td>0.938144</td>\n",
       "      <td>97</td>\n",
       "    </tr>\n",
       "    <tr>\n",
       "      <th>Artful Retreat BB</th>\n",
       "      <td>0.888300</td>\n",
       "      <td>1.000000</td>\n",
       "      <td>1</td>\n",
       "    </tr>\n",
       "    <tr>\n",
       "      <th>Atnarko Lodge</th>\n",
       "      <td>0.945317</td>\n",
       "      <td>1.000000</td>\n",
       "      <td>6</td>\n",
       "    </tr>\n",
       "    <tr>\n",
       "      <th>Beach Acres Resort</th>\n",
       "      <td>0.878291</td>\n",
       "      <td>0.931373</td>\n",
       "      <td>102</td>\n",
       "    </tr>\n",
       "    <tr>\n",
       "      <th>Beach Club Resort - Bellstar Hotels  Resorts</th>\n",
       "      <td>0.848729</td>\n",
       "      <td>0.897790</td>\n",
       "      <td>724</td>\n",
       "    </tr>\n",
       "    <tr>\n",
       "      <th>Best Western Plus Barclay Hotel</th>\n",
       "      <td>0.845145</td>\n",
       "      <td>0.890110</td>\n",
       "      <td>273</td>\n",
       "    </tr>\n",
       "    <tr>\n",
       "      <th>Best Western Plus Regency Inn  Conference Centre</th>\n",
       "      <td>0.820348</td>\n",
       "      <td>0.835249</td>\n",
       "      <td>261</td>\n",
       "    </tr>\n",
       "    <tr>\n",
       "      <th>Bluebird Motel</th>\n",
       "      <td>0.344573</td>\n",
       "      <td>0.272727</td>\n",
       "      <td>11</td>\n",
       "    </tr>\n",
       "    <tr>\n",
       "      <th>Canadian Country Cabins</th>\n",
       "      <td>0.941460</td>\n",
       "      <td>1.000000</td>\n",
       "      <td>10</td>\n",
       "    </tr>\n",
       "    <tr>\n",
       "      <th>Causeway Bay Hotel Sparwood</th>\n",
       "      <td>0.767812</td>\n",
       "      <td>0.575758</td>\n",
       "      <td>33</td>\n",
       "    </tr>\n",
       "    <tr>\n",
       "      <th>Cedar Song BB and Cottage</th>\n",
       "      <td>0.942700</td>\n",
       "      <td>1.000000</td>\n",
       "      <td>49</td>\n",
       "    </tr>\n",
       "    <tr>\n",
       "      <th>Cedar Wood Lodge Bed  Conference Center</th>\n",
       "      <td>0.907408</td>\n",
       "      <td>0.942308</td>\n",
       "      <td>52</td>\n",
       "    </tr>\n",
       "    <tr>\n",
       "      <th>Chars Landing Guesthouse</th>\n",
       "      <td>0.967400</td>\n",
       "      <td>1.000000</td>\n",
       "      <td>2</td>\n",
       "    </tr>\n",
       "    <tr>\n",
       "      <th>China Creek Campground</th>\n",
       "      <td>0.335480</td>\n",
       "      <td>0.400000</td>\n",
       "      <td>10</td>\n",
       "    </tr>\n",
       "    <tr>\n",
       "      <th>Cumberland Lake Park Campground</th>\n",
       "      <td>0.507333</td>\n",
       "      <td>0.500000</td>\n",
       "      <td>6</td>\n",
       "    </tr>\n",
       "    <tr>\n",
       "      <th>Deerview Lodge  Cabins</th>\n",
       "      <td>0.471357</td>\n",
       "      <td>0.285714</td>\n",
       "      <td>7</td>\n",
       "    </tr>\n",
       "    <tr>\n",
       "      <th>Eagle Nook Resort</th>\n",
       "      <td>0.895023</td>\n",
       "      <td>0.983871</td>\n",
       "      <td>62</td>\n",
       "    </tr>\n",
       "    <tr>\n",
       "      <th>Edelweiss Bed and Breakfast</th>\n",
       "      <td>0.852419</td>\n",
       "      <td>1.000000</td>\n",
       "      <td>16</td>\n",
       "    </tr>\n",
       "    <tr>\n",
       "      <th>Holiday Inn Express  Suites Terrace</th>\n",
       "      <td>0.818920</td>\n",
       "      <td>0.900000</td>\n",
       "      <td>30</td>\n",
       "    </tr>\n",
       "    <tr>\n",
       "      <th>Holiday Inn Express  Suites Victoria - Colwood</th>\n",
       "      <td>0.869928</td>\n",
       "      <td>0.890244</td>\n",
       "      <td>82</td>\n",
       "    </tr>\n",
       "    <tr>\n",
       "      <th>Holley Lane Bed and Breakfast</th>\n",
       "      <td>0.954235</td>\n",
       "      <td>1.000000</td>\n",
       "      <td>20</td>\n",
       "    </tr>\n",
       "    <tr>\n",
       "      <th>Howard Johnson Hotel Port Alberni</th>\n",
       "      <td>0.405518</td>\n",
       "      <td>0.243902</td>\n",
       "      <td>82</td>\n",
       "    </tr>\n",
       "    <tr>\n",
       "      <th>Hummingbird Guesthouse</th>\n",
       "      <td>0.738667</td>\n",
       "      <td>0.814815</td>\n",
       "      <td>27</td>\n",
       "    </tr>\n",
       "    <tr>\n",
       "      <th>Jewel Bay Resort</th>\n",
       "      <td>0.205180</td>\n",
       "      <td>0.400000</td>\n",
       "      <td>5</td>\n",
       "    </tr>\n",
       "    <tr>\n",
       "      <th>Klippers Organics Guest Suites</th>\n",
       "      <td>0.965725</td>\n",
       "      <td>1.000000</td>\n",
       "      <td>4</td>\n",
       "    </tr>\n",
       "    <tr>\n",
       "      <th>Likely Lodge</th>\n",
       "      <td>0.924560</td>\n",
       "      <td>0.800000</td>\n",
       "      <td>5</td>\n",
       "    </tr>\n",
       "    <tr>\n",
       "      <th>Miracle Beach Inn</th>\n",
       "      <td>0.959867</td>\n",
       "      <td>1.000000</td>\n",
       "      <td>12</td>\n",
       "    </tr>\n",
       "    <tr>\n",
       "      <th>...</th>\n",
       "      <td>...</td>\n",
       "      <td>...</td>\n",
       "      <td>...</td>\n",
       "    </tr>\n",
       "    <tr>\n",
       "      <th>San Jose River Ranch Cariboo BB</th>\n",
       "      <td>0.967820</td>\n",
       "      <td>1.000000</td>\n",
       "      <td>5</td>\n",
       "    </tr>\n",
       "    <tr>\n",
       "      <th>Sandcastle Inn</th>\n",
       "      <td>0.636085</td>\n",
       "      <td>0.547945</td>\n",
       "      <td>73</td>\n",
       "    </tr>\n",
       "    <tr>\n",
       "      <th>Selah Retreat BB</th>\n",
       "      <td>0.955573</td>\n",
       "      <td>0.980392</td>\n",
       "      <td>51</td>\n",
       "    </tr>\n",
       "    <tr>\n",
       "      <th>Shuswap Lake Motel and Resort</th>\n",
       "      <td>0.889252</td>\n",
       "      <td>0.925926</td>\n",
       "      <td>27</td>\n",
       "    </tr>\n",
       "    <tr>\n",
       "      <th>Skylite Motel</th>\n",
       "      <td>0.778396</td>\n",
       "      <td>0.777778</td>\n",
       "      <td>27</td>\n",
       "    </tr>\n",
       "    <tr>\n",
       "      <th>Somass Motel  RV</th>\n",
       "      <td>0.878693</td>\n",
       "      <td>0.861111</td>\n",
       "      <td>72</td>\n",
       "    </tr>\n",
       "    <tr>\n",
       "      <th>Sorrento Inn</th>\n",
       "      <td>0.258881</td>\n",
       "      <td>0.250000</td>\n",
       "      <td>16</td>\n",
       "    </tr>\n",
       "    <tr>\n",
       "      <th>South Point Resort</th>\n",
       "      <td>0.948281</td>\n",
       "      <td>0.750000</td>\n",
       "      <td>16</td>\n",
       "    </tr>\n",
       "    <tr>\n",
       "      <th>Sproat Lake Landing Resort</th>\n",
       "      <td>0.836159</td>\n",
       "      <td>0.863636</td>\n",
       "      <td>44</td>\n",
       "    </tr>\n",
       "    <tr>\n",
       "      <th>Stamp Falls B  B</th>\n",
       "      <td>0.938477</td>\n",
       "      <td>1.000000</td>\n",
       "      <td>26</td>\n",
       "    </tr>\n",
       "    <tr>\n",
       "      <th>Stansburys Guest House</th>\n",
       "      <td>0.948818</td>\n",
       "      <td>1.000000</td>\n",
       "      <td>61</td>\n",
       "    </tr>\n",
       "    <tr>\n",
       "      <th>Stewart Camps</th>\n",
       "      <td>0.860724</td>\n",
       "      <td>0.941176</td>\n",
       "      <td>17</td>\n",
       "    </tr>\n",
       "    <tr>\n",
       "      <th>Strathcona Street Bed and Breakfast</th>\n",
       "      <td>0.920167</td>\n",
       "      <td>1.000000</td>\n",
       "      <td>3</td>\n",
       "    </tr>\n",
       "    <tr>\n",
       "      <th>Sunrise Ridge Waterfront Resort</th>\n",
       "      <td>0.784786</td>\n",
       "      <td>0.784173</td>\n",
       "      <td>139</td>\n",
       "    </tr>\n",
       "    <tr>\n",
       "      <th>Sunset Motel and Trailer Park</th>\n",
       "      <td>0.637050</td>\n",
       "      <td>0.375000</td>\n",
       "      <td>8</td>\n",
       "    </tr>\n",
       "    <tr>\n",
       "      <th>Sunwolf</th>\n",
       "      <td>0.901243</td>\n",
       "      <td>0.930000</td>\n",
       "      <td>100</td>\n",
       "    </tr>\n",
       "    <tr>\n",
       "      <th>Swept Away Inn</th>\n",
       "      <td>0.864988</td>\n",
       "      <td>0.961538</td>\n",
       "      <td>26</td>\n",
       "    </tr>\n",
       "    <tr>\n",
       "      <th>Ten-ee-ah Lodge</th>\n",
       "      <td>0.915740</td>\n",
       "      <td>0.800000</td>\n",
       "      <td>10</td>\n",
       "    </tr>\n",
       "    <tr>\n",
       "      <th>The Hospitality Inn</th>\n",
       "      <td>0.785016</td>\n",
       "      <td>0.766467</td>\n",
       "      <td>167</td>\n",
       "    </tr>\n",
       "    <tr>\n",
       "      <th>The Maples Waterfront Resort and Heritage BB</th>\n",
       "      <td>0.959460</td>\n",
       "      <td>0.800000</td>\n",
       "      <td>5</td>\n",
       "    </tr>\n",
       "    <tr>\n",
       "      <th>The Riding Fool Hostel</th>\n",
       "      <td>0.789000</td>\n",
       "      <td>0.857143</td>\n",
       "      <td>28</td>\n",
       "    </tr>\n",
       "    <tr>\n",
       "      <th>The View Hotel</th>\n",
       "      <td>0.600946</td>\n",
       "      <td>0.583333</td>\n",
       "      <td>24</td>\n",
       "    </tr>\n",
       "    <tr>\n",
       "      <th>Timberlane Beach Resort</th>\n",
       "      <td>0.939525</td>\n",
       "      <td>1.000000</td>\n",
       "      <td>4</td>\n",
       "    </tr>\n",
       "    <tr>\n",
       "      <th>Timberlodge  RV Campground</th>\n",
       "      <td>0.844100</td>\n",
       "      <td>0.500000</td>\n",
       "      <td>10</td>\n",
       "    </tr>\n",
       "    <tr>\n",
       "      <th>Trend Mountain Hotel  Conference Centre</th>\n",
       "      <td>0.832459</td>\n",
       "      <td>0.888889</td>\n",
       "      <td>27</td>\n",
       "    </tr>\n",
       "    <tr>\n",
       "      <th>Tumbler Ridge Hotel and Suites</th>\n",
       "      <td>0.818331</td>\n",
       "      <td>0.692308</td>\n",
       "      <td>13</td>\n",
       "    </tr>\n",
       "    <tr>\n",
       "      <th>Tumbler Ridge Inn</th>\n",
       "      <td>0.867633</td>\n",
       "      <td>0.444444</td>\n",
       "      <td>9</td>\n",
       "    </tr>\n",
       "    <tr>\n",
       "      <th>Twin Creeks Motel</th>\n",
       "      <td>0.463941</td>\n",
       "      <td>0.352941</td>\n",
       "      <td>17</td>\n",
       "    </tr>\n",
       "    <tr>\n",
       "      <th>Tyee Village Motel</th>\n",
       "      <td>0.322247</td>\n",
       "      <td>0.333333</td>\n",
       "      <td>15</td>\n",
       "    </tr>\n",
       "    <tr>\n",
       "      <th>Valley Motel</th>\n",
       "      <td>0.861300</td>\n",
       "      <td>0.375000</td>\n",
       "      <td>8</td>\n",
       "    </tr>\n",
       "  </tbody>\n",
       "</table>\n",
       "<p>78 rows × 3 columns</p>\n",
       "</div>"
      ],
      "text/plain": [
       "                                                  Compound_Score  Exp_Index  \\\n",
       "Hotel_Name                                                                    \n",
       "A-1 Alberni Inn                                         0.447724   0.523810   \n",
       "AB                                                      0.973600   1.000000   \n",
       "Abbotsford Hotel                                        0.225563   0.359375   \n",
       "Arbutus Grove Motel                                     0.897408   0.938144   \n",
       "Artful Retreat BB                                       0.888300   1.000000   \n",
       "Atnarko Lodge                                           0.945317   1.000000   \n",
       "Beach Acres Resort                                      0.878291   0.931373   \n",
       "Beach Club Resort - Bellstar Hotels  Resorts            0.848729   0.897790   \n",
       "Best Western Plus Barclay Hotel                         0.845145   0.890110   \n",
       "Best Western Plus Regency Inn  Conference Centre        0.820348   0.835249   \n",
       "Bluebird Motel                                          0.344573   0.272727   \n",
       "Canadian Country Cabins                                 0.941460   1.000000   \n",
       "Causeway Bay Hotel Sparwood                             0.767812   0.575758   \n",
       "Cedar Song BB and Cottage                               0.942700   1.000000   \n",
       "Cedar Wood Lodge Bed  Conference Center                 0.907408   0.942308   \n",
       "Chars Landing Guesthouse                                0.967400   1.000000   \n",
       "China Creek Campground                                  0.335480   0.400000   \n",
       "Cumberland Lake Park Campground                         0.507333   0.500000   \n",
       "Deerview Lodge  Cabins                                  0.471357   0.285714   \n",
       "Eagle Nook Resort                                       0.895023   0.983871   \n",
       "Edelweiss Bed and Breakfast                             0.852419   1.000000   \n",
       "Holiday Inn Express  Suites Terrace                     0.818920   0.900000   \n",
       "Holiday Inn Express  Suites Victoria - Colwood          0.869928   0.890244   \n",
       "Holley Lane Bed and Breakfast                           0.954235   1.000000   \n",
       "Howard Johnson Hotel Port Alberni                       0.405518   0.243902   \n",
       "Hummingbird Guesthouse                                  0.738667   0.814815   \n",
       "Jewel Bay Resort                                        0.205180   0.400000   \n",
       "Klippers Organics Guest Suites                          0.965725   1.000000   \n",
       "Likely Lodge                                            0.924560   0.800000   \n",
       "Miracle Beach Inn                                       0.959867   1.000000   \n",
       "...                                                          ...        ...   \n",
       "San Jose River Ranch Cariboo BB                         0.967820   1.000000   \n",
       "Sandcastle Inn                                          0.636085   0.547945   \n",
       "Selah Retreat BB                                        0.955573   0.980392   \n",
       "Shuswap Lake Motel and Resort                           0.889252   0.925926   \n",
       "Skylite Motel                                           0.778396   0.777778   \n",
       "Somass Motel  RV                                        0.878693   0.861111   \n",
       "Sorrento Inn                                            0.258881   0.250000   \n",
       "South Point Resort                                      0.948281   0.750000   \n",
       "Sproat Lake Landing Resort                              0.836159   0.863636   \n",
       "Stamp Falls B  B                                        0.938477   1.000000   \n",
       "Stansburys Guest House                                  0.948818   1.000000   \n",
       "Stewart Camps                                           0.860724   0.941176   \n",
       "Strathcona Street Bed and Breakfast                     0.920167   1.000000   \n",
       "Sunrise Ridge Waterfront Resort                         0.784786   0.784173   \n",
       "Sunset Motel and Trailer Park                           0.637050   0.375000   \n",
       "Sunwolf                                                 0.901243   0.930000   \n",
       "Swept Away Inn                                          0.864988   0.961538   \n",
       "Ten-ee-ah Lodge                                         0.915740   0.800000   \n",
       "The Hospitality Inn                                     0.785016   0.766467   \n",
       "The Maples Waterfront Resort and Heritage BB            0.959460   0.800000   \n",
       "The Riding Fool Hostel                                  0.789000   0.857143   \n",
       "The View Hotel                                          0.600946   0.583333   \n",
       "Timberlane Beach Resort                                 0.939525   1.000000   \n",
       "Timberlodge  RV Campground                              0.844100   0.500000   \n",
       "Trend Mountain Hotel  Conference Centre                 0.832459   0.888889   \n",
       "Tumbler Ridge Hotel and Suites                          0.818331   0.692308   \n",
       "Tumbler Ridge Inn                                       0.867633   0.444444   \n",
       "Twin Creeks Motel                                       0.463941   0.352941   \n",
       "Tyee Village Motel                                      0.322247   0.333333   \n",
       "Valley Motel                                            0.861300   0.375000   \n",
       "\n",
       "                                                  Number_Of_Reviews  \n",
       "Hotel_Name                                                           \n",
       "A-1 Alberni Inn                                                  21  \n",
       "AB                                                               19  \n",
       "Abbotsford Hotel                                                 64  \n",
       "Arbutus Grove Motel                                              97  \n",
       "Artful Retreat BB                                                 1  \n",
       "Atnarko Lodge                                                     6  \n",
       "Beach Acres Resort                                              102  \n",
       "Beach Club Resort - Bellstar Hotels  Resorts                    724  \n",
       "Best Western Plus Barclay Hotel                                 273  \n",
       "Best Western Plus Regency Inn  Conference Centre                261  \n",
       "Bluebird Motel                                                   11  \n",
       "Canadian Country Cabins                                          10  \n",
       "Causeway Bay Hotel Sparwood                                      33  \n",
       "Cedar Song BB and Cottage                                        49  \n",
       "Cedar Wood Lodge Bed  Conference Center                          52  \n",
       "Chars Landing Guesthouse                                          2  \n",
       "China Creek Campground                                           10  \n",
       "Cumberland Lake Park Campground                                   6  \n",
       "Deerview Lodge  Cabins                                            7  \n",
       "Eagle Nook Resort                                                62  \n",
       "Edelweiss Bed and Breakfast                                      16  \n",
       "Holiday Inn Express  Suites Terrace                              30  \n",
       "Holiday Inn Express  Suites Victoria - Colwood                   82  \n",
       "Holley Lane Bed and Breakfast                                    20  \n",
       "Howard Johnson Hotel Port Alberni                                82  \n",
       "Hummingbird Guesthouse                                           27  \n",
       "Jewel Bay Resort                                                  5  \n",
       "Klippers Organics Guest Suites                                    4  \n",
       "Likely Lodge                                                      5  \n",
       "Miracle Beach Inn                                                12  \n",
       "...                                                             ...  \n",
       "San Jose River Ranch Cariboo BB                                   5  \n",
       "Sandcastle Inn                                                   73  \n",
       "Selah Retreat BB                                                 51  \n",
       "Shuswap Lake Motel and Resort                                    27  \n",
       "Skylite Motel                                                    27  \n",
       "Somass Motel  RV                                                 72  \n",
       "Sorrento Inn                                                     16  \n",
       "South Point Resort                                               16  \n",
       "Sproat Lake Landing Resort                                       44  \n",
       "Stamp Falls B  B                                                 26  \n",
       "Stansburys Guest House                                           61  \n",
       "Stewart Camps                                                    17  \n",
       "Strathcona Street Bed and Breakfast                               3  \n",
       "Sunrise Ridge Waterfront Resort                                 139  \n",
       "Sunset Motel and Trailer Park                                     8  \n",
       "Sunwolf                                                         100  \n",
       "Swept Away Inn                                                   26  \n",
       "Ten-ee-ah Lodge                                                  10  \n",
       "The Hospitality Inn                                             167  \n",
       "The Maples Waterfront Resort and Heritage BB                      5  \n",
       "The Riding Fool Hostel                                           28  \n",
       "The View Hotel                                                   24  \n",
       "Timberlane Beach Resort                                           4  \n",
       "Timberlodge  RV Campground                                       10  \n",
       "Trend Mountain Hotel  Conference Centre                          27  \n",
       "Tumbler Ridge Hotel and Suites                                   13  \n",
       "Tumbler Ridge Inn                                                 9  \n",
       "Twin Creeks Motel                                                17  \n",
       "Tyee Village Motel                                               15  \n",
       "Valley Motel                                                      8  \n",
       "\n",
       "[78 rows x 3 columns]"
      ]
     },
     "execution_count": 139,
     "metadata": {},
     "output_type": "execute_result"
    }
   ],
   "source": [
    "hotel_performance"
   ]
  },
  {
   "cell_type": "code",
   "execution_count": 141,
   "metadata": {},
   "outputs": [
    {
     "ename": "KeyError",
     "evalue": "'Hotel_Name'",
     "output_type": "error",
     "traceback": [
      "\u001b[0;31m---------------------------------------------------------------------------\u001b[0m",
      "\u001b[0;31mKeyError\u001b[0m                                  Traceback (most recent call last)",
      "\u001b[0;32m~/anaconda3/lib/python3.7/site-packages/pandas/core/indexes/base.py\u001b[0m in \u001b[0;36mget_loc\u001b[0;34m(self, key, method, tolerance)\u001b[0m\n\u001b[1;32m   2656\u001b[0m             \u001b[0;32mtry\u001b[0m\u001b[0;34m:\u001b[0m\u001b[0;34m\u001b[0m\u001b[0;34m\u001b[0m\u001b[0m\n\u001b[0;32m-> 2657\u001b[0;31m                 \u001b[0;32mreturn\u001b[0m \u001b[0mself\u001b[0m\u001b[0;34m.\u001b[0m\u001b[0m_engine\u001b[0m\u001b[0;34m.\u001b[0m\u001b[0mget_loc\u001b[0m\u001b[0;34m(\u001b[0m\u001b[0mkey\u001b[0m\u001b[0;34m)\u001b[0m\u001b[0;34m\u001b[0m\u001b[0;34m\u001b[0m\u001b[0m\n\u001b[0m\u001b[1;32m   2658\u001b[0m             \u001b[0;32mexcept\u001b[0m \u001b[0mKeyError\u001b[0m\u001b[0;34m:\u001b[0m\u001b[0;34m\u001b[0m\u001b[0;34m\u001b[0m\u001b[0m\n",
      "\u001b[0;32mpandas/_libs/index.pyx\u001b[0m in \u001b[0;36mpandas._libs.index.IndexEngine.get_loc\u001b[0;34m()\u001b[0m\n",
      "\u001b[0;32mpandas/_libs/index.pyx\u001b[0m in \u001b[0;36mpandas._libs.index.IndexEngine.get_loc\u001b[0;34m()\u001b[0m\n",
      "\u001b[0;32mpandas/_libs/hashtable_class_helper.pxi\u001b[0m in \u001b[0;36mpandas._libs.hashtable.PyObjectHashTable.get_item\u001b[0;34m()\u001b[0m\n",
      "\u001b[0;32mpandas/_libs/hashtable_class_helper.pxi\u001b[0m in \u001b[0;36mpandas._libs.hashtable.PyObjectHashTable.get_item\u001b[0;34m()\u001b[0m\n",
      "\u001b[0;31mKeyError\u001b[0m: 'Hotel_Name'",
      "\nDuring handling of the above exception, another exception occurred:\n",
      "\u001b[0;31mKeyError\u001b[0m                                  Traceback (most recent call last)",
      "\u001b[0;32m<ipython-input-141-9c4ff6cca9e4>\u001b[0m in \u001b[0;36m<module>\u001b[0;34m\u001b[0m\n\u001b[1;32m      1\u001b[0m \u001b[0mavg_sort\u001b[0m \u001b[0;34m=\u001b[0m  \u001b[0mhotel_performance\u001b[0m\u001b[0;34m.\u001b[0m\u001b[0msort_values\u001b[0m\u001b[0;34m(\u001b[0m\u001b[0;34m[\u001b[0m\u001b[0;34m'Compound_Score'\u001b[0m\u001b[0;34m]\u001b[0m\u001b[0;34m,\u001b[0m \u001b[0mascending\u001b[0m\u001b[0;34m=\u001b[0m\u001b[0;34m[\u001b[0m\u001b[0;36m1\u001b[0m\u001b[0;34m]\u001b[0m\u001b[0;34m)\u001b[0m\u001b[0;34m\u001b[0m\u001b[0;34m\u001b[0m\u001b[0m\n\u001b[1;32m      2\u001b[0m \u001b[0;34m\u001b[0m\u001b[0m\n\u001b[0;32m----> 3\u001b[0;31m \u001b[0mx\u001b[0m \u001b[0;34m=\u001b[0m \u001b[0mlist\u001b[0m\u001b[0;34m(\u001b[0m\u001b[0mavg_sort\u001b[0m\u001b[0;34m[\u001b[0m\u001b[0;34m'Hotel_Name'\u001b[0m\u001b[0;34m]\u001b[0m\u001b[0;34m.\u001b[0m\u001b[0mvalues\u001b[0m\u001b[0;34m)\u001b[0m\u001b[0;34m\u001b[0m\u001b[0;34m\u001b[0m\u001b[0m\n\u001b[0m\u001b[1;32m      4\u001b[0m \u001b[0mvad\u001b[0m \u001b[0;34m=\u001b[0m \u001b[0mlist\u001b[0m\u001b[0;34m(\u001b[0m\u001b[0mavg_sort\u001b[0m\u001b[0;34m[\u001b[0m\u001b[0;34m'Compound_Score'\u001b[0m\u001b[0;34m]\u001b[0m\u001b[0;34m.\u001b[0m\u001b[0mvalues\u001b[0m\u001b[0;34m)\u001b[0m\u001b[0;34m\u001b[0m\u001b[0;34m\u001b[0m\u001b[0m\n\u001b[1;32m      5\u001b[0m \u001b[0mexp\u001b[0m \u001b[0;34m=\u001b[0m \u001b[0mlist\u001b[0m\u001b[0;34m(\u001b[0m\u001b[0mavg_sort\u001b[0m\u001b[0;34m[\u001b[0m\u001b[0;34m'Exp_Index'\u001b[0m\u001b[0;34m]\u001b[0m\u001b[0;34m.\u001b[0m\u001b[0mvalues\u001b[0m\u001b[0;34m)\u001b[0m\u001b[0;34m\u001b[0m\u001b[0;34m\u001b[0m\u001b[0m\n",
      "\u001b[0;32m~/anaconda3/lib/python3.7/site-packages/pandas/core/frame.py\u001b[0m in \u001b[0;36m__getitem__\u001b[0;34m(self, key)\u001b[0m\n\u001b[1;32m   2925\u001b[0m             \u001b[0;32mif\u001b[0m \u001b[0mself\u001b[0m\u001b[0;34m.\u001b[0m\u001b[0mcolumns\u001b[0m\u001b[0;34m.\u001b[0m\u001b[0mnlevels\u001b[0m \u001b[0;34m>\u001b[0m \u001b[0;36m1\u001b[0m\u001b[0;34m:\u001b[0m\u001b[0;34m\u001b[0m\u001b[0;34m\u001b[0m\u001b[0m\n\u001b[1;32m   2926\u001b[0m                 \u001b[0;32mreturn\u001b[0m \u001b[0mself\u001b[0m\u001b[0;34m.\u001b[0m\u001b[0m_getitem_multilevel\u001b[0m\u001b[0;34m(\u001b[0m\u001b[0mkey\u001b[0m\u001b[0;34m)\u001b[0m\u001b[0;34m\u001b[0m\u001b[0;34m\u001b[0m\u001b[0m\n\u001b[0;32m-> 2927\u001b[0;31m             \u001b[0mindexer\u001b[0m \u001b[0;34m=\u001b[0m \u001b[0mself\u001b[0m\u001b[0;34m.\u001b[0m\u001b[0mcolumns\u001b[0m\u001b[0;34m.\u001b[0m\u001b[0mget_loc\u001b[0m\u001b[0;34m(\u001b[0m\u001b[0mkey\u001b[0m\u001b[0;34m)\u001b[0m\u001b[0;34m\u001b[0m\u001b[0;34m\u001b[0m\u001b[0m\n\u001b[0m\u001b[1;32m   2928\u001b[0m             \u001b[0;32mif\u001b[0m \u001b[0mis_integer\u001b[0m\u001b[0;34m(\u001b[0m\u001b[0mindexer\u001b[0m\u001b[0;34m)\u001b[0m\u001b[0;34m:\u001b[0m\u001b[0;34m\u001b[0m\u001b[0;34m\u001b[0m\u001b[0m\n\u001b[1;32m   2929\u001b[0m                 \u001b[0mindexer\u001b[0m \u001b[0;34m=\u001b[0m \u001b[0;34m[\u001b[0m\u001b[0mindexer\u001b[0m\u001b[0;34m]\u001b[0m\u001b[0;34m\u001b[0m\u001b[0;34m\u001b[0m\u001b[0m\n",
      "\u001b[0;32m~/anaconda3/lib/python3.7/site-packages/pandas/core/indexes/base.py\u001b[0m in \u001b[0;36mget_loc\u001b[0;34m(self, key, method, tolerance)\u001b[0m\n\u001b[1;32m   2657\u001b[0m                 \u001b[0;32mreturn\u001b[0m \u001b[0mself\u001b[0m\u001b[0;34m.\u001b[0m\u001b[0m_engine\u001b[0m\u001b[0;34m.\u001b[0m\u001b[0mget_loc\u001b[0m\u001b[0;34m(\u001b[0m\u001b[0mkey\u001b[0m\u001b[0;34m)\u001b[0m\u001b[0;34m\u001b[0m\u001b[0;34m\u001b[0m\u001b[0m\n\u001b[1;32m   2658\u001b[0m             \u001b[0;32mexcept\u001b[0m \u001b[0mKeyError\u001b[0m\u001b[0;34m:\u001b[0m\u001b[0;34m\u001b[0m\u001b[0;34m\u001b[0m\u001b[0m\n\u001b[0;32m-> 2659\u001b[0;31m                 \u001b[0;32mreturn\u001b[0m \u001b[0mself\u001b[0m\u001b[0;34m.\u001b[0m\u001b[0m_engine\u001b[0m\u001b[0;34m.\u001b[0m\u001b[0mget_loc\u001b[0m\u001b[0;34m(\u001b[0m\u001b[0mself\u001b[0m\u001b[0;34m.\u001b[0m\u001b[0m_maybe_cast_indexer\u001b[0m\u001b[0;34m(\u001b[0m\u001b[0mkey\u001b[0m\u001b[0;34m)\u001b[0m\u001b[0;34m)\u001b[0m\u001b[0;34m\u001b[0m\u001b[0;34m\u001b[0m\u001b[0m\n\u001b[0m\u001b[1;32m   2660\u001b[0m         \u001b[0mindexer\u001b[0m \u001b[0;34m=\u001b[0m \u001b[0mself\u001b[0m\u001b[0;34m.\u001b[0m\u001b[0mget_indexer\u001b[0m\u001b[0;34m(\u001b[0m\u001b[0;34m[\u001b[0m\u001b[0mkey\u001b[0m\u001b[0;34m]\u001b[0m\u001b[0;34m,\u001b[0m \u001b[0mmethod\u001b[0m\u001b[0;34m=\u001b[0m\u001b[0mmethod\u001b[0m\u001b[0;34m,\u001b[0m \u001b[0mtolerance\u001b[0m\u001b[0;34m=\u001b[0m\u001b[0mtolerance\u001b[0m\u001b[0;34m)\u001b[0m\u001b[0;34m\u001b[0m\u001b[0;34m\u001b[0m\u001b[0m\n\u001b[1;32m   2661\u001b[0m         \u001b[0;32mif\u001b[0m \u001b[0mindexer\u001b[0m\u001b[0;34m.\u001b[0m\u001b[0mndim\u001b[0m \u001b[0;34m>\u001b[0m \u001b[0;36m1\u001b[0m \u001b[0;32mor\u001b[0m \u001b[0mindexer\u001b[0m\u001b[0;34m.\u001b[0m\u001b[0msize\u001b[0m \u001b[0;34m>\u001b[0m \u001b[0;36m1\u001b[0m\u001b[0;34m:\u001b[0m\u001b[0;34m\u001b[0m\u001b[0;34m\u001b[0m\u001b[0m\n",
      "\u001b[0;32mpandas/_libs/index.pyx\u001b[0m in \u001b[0;36mpandas._libs.index.IndexEngine.get_loc\u001b[0;34m()\u001b[0m\n",
      "\u001b[0;32mpandas/_libs/index.pyx\u001b[0m in \u001b[0;36mpandas._libs.index.IndexEngine.get_loc\u001b[0;34m()\u001b[0m\n",
      "\u001b[0;32mpandas/_libs/hashtable_class_helper.pxi\u001b[0m in \u001b[0;36mpandas._libs.hashtable.PyObjectHashTable.get_item\u001b[0;34m()\u001b[0m\n",
      "\u001b[0;32mpandas/_libs/hashtable_class_helper.pxi\u001b[0m in \u001b[0;36mpandas._libs.hashtable.PyObjectHashTable.get_item\u001b[0;34m()\u001b[0m\n",
      "\u001b[0;31mKeyError\u001b[0m: 'Hotel_Name'"
     ]
    }
   ],
   "source": [
    "avg_sort =  hotel_performance.sort_values(['Compound_Score'], ascending=[1])\n",
    "\n",
    "x = list(avg_sort.index)\n",
    "vad = list(avg_sort['Compound_Score'].values)\n",
    "exp = list(avg_sort['Ratings_1'].values)\n",
    "x_DF = pd.DataFrame(x)\n",
    "df = pd.DataFrame({'average_vader':vad, 'average_exp':exp, 'HotelName': x})\n"
   ]
  },
  {
   "cell_type": "code",
   "execution_count": 137,
   "metadata": {},
   "outputs": [],
   "source": [
    "import pylab"
   ]
  },
  {
   "cell_type": "code",
   "execution_count": 138,
   "metadata": {},
   "outputs": [
    {
     "data": {
      "text/plain": [
       "<matplotlib.legend.Legend at 0x131a3ccc0>"
      ]
     },
     "execution_count": 138,
     "metadata": {},
     "output_type": "execute_result"
    },
    {
     "data": {
      "image/png": "[encoded data removed]",
      "text/plain": [
       "<Figure size 1224x360 with 1 Axes>"
      ]
     },
     "metadata": {
      "needs_background": "light"
     },
     "output_type": "display_data"
    }
   ],
   "source": [
    "fig, ax = plt.subplots(figsize=(17,5))\n",
    "ax = sns.scatterplot(x=\"average_vader\", y=\"average_exp\",hue = 'HotelName', data=df)\n",
    "pylab.legend(loc=9, bbox_to_anchor=(0.5, -0.1))"
   ]
  },
  {
   "cell_type": "markdown",
   "metadata": {},
   "source": [
    "There is a positive linear pattern between the average vader scores and the average ratings per hotel, which suggest that even if the two scores are not linearly connected,they are still however dependent on each other."
   ]
  },
  {
   "cell_type": "code",
   "execution_count": null,
   "metadata": {},
   "outputs": [],
   "source": []
  }
 ],
 "metadata": {
  "kernelspec": {
   "display_name": "Python 3",
   "language": "python",
   "name": "python3"
  },
  "language_info": {
   "codemirror_mode": {
    "name": "ipython",
    "version": 3
   },
   "file_extension": ".py",
   "mimetype": "text/x-python",
   "name": "python",
   "nbconvert_exporter": "python",
   "pygments_lexer": "ipython3",
   "version": "3.7.3"
  }
 },
 "nbformat": 4,
 "nbformat_minor": 4
}
